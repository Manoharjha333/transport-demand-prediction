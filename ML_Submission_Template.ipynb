{
  "nbformat": 4,
  "nbformat_minor": 0,
  "metadata": {
    "colab": {
      "provenance": [],
      "collapsed_sections": [
        "mDgbUHAGgjLW",
        "3RnN4peoiCZX",
        "x71ZqKXriCWQ",
        "7hBIi_osiCS2",
        "JlHwYmJAmNHm",
        "35m5QtbWiB9F",
        "PoPl-ycgm1ru",
        "H0kj-8xxnORC",
        "nA9Y7ga8ng1Z",
        "PBTbrJXOngz2",
        "u3PMJOP6ngxN",
        "dauF4eBmngu3",
        "bKJF3rekwFvQ",
        "MSa1f5Uengrz",
        "GF8Ens_Soomf",
        "0wOQAZs5pc--",
        "K5QZ13OEpz2H",
        "lQ7QKXXCp7Bj",
        "448CDAPjqfQr",
        "KSlN3yHqYklG",
        "t6dVpIINYklI",
        "ijmpgYnKYklI",
        "-JiQyfWJYklI",
        "EM7whBJCYoAo",
        "fge-S5ZAYoAp",
        "85gYPyotYoAp",
        "RoGjAbkUYoAp",
        "4Of9eVA-YrdM",
        "iky9q4vBYrdO",
        "F6T5p64dYrdO",
        "y-Ehk30pYrdP",
        "bamQiAODYuh1",
        "QHF8YVU7Yuh3",
        "GwzvFGzlYuh3",
        "qYpmQ266Yuh3",
        "OH-pJp9IphqM",
        "bbFf2-_FphqN",
        "_ouA3fa0phqN",
        "Seke61FWphqN",
        "PIIx-8_IphqN",
        "t27r6nlMphqO",
        "r2jJGEOYphqO",
        "b0JNsNcRphqO",
        "BZR9WyysphqO",
        "jj7wYXLtphqO",
        "eZrbJ2SmphqO",
        "rFu4xreNphqO",
        "YJ55k-q6phqO",
        "gCFgpxoyphqP",
        "OVtJsKN_phqQ",
        "lssrdh5qphqQ",
        "U2RJ9gkRphqQ",
        "1M8mcRywphqQ",
        "tgIPom80phqQ",
        "JMzcOPDDphqR",
        "x-EpHcCOp1ci",
        "X_VqEhTip1ck",
        "8zGJKyg5p1ck",
        "PVzmfK_Ep1ck",
        "n3dbpmDWp1ck",
        "ylSl6qgtp1ck",
        "ZWILFDl5p1ck",
        "M7G43BXep1ck",
        "Ag9LCva-p1cl",
        "E6MkPsBcp1cl",
        "2cELzS2fp1cl",
        "3MPXvC8up1cl",
        "NC_X3p0fY2L0",
        "UV0SzAkaZNRQ",
        "YPEH6qLeZNRQ",
        "q29F0dvdveiT",
        "EXh0U9oCveiU",
        "22aHeOlLveiV",
        "g-ATYxFrGrvw",
        "Yfr_Vlr8HBkt",
        "8yEUt7NnHlrM",
        "tEA2Xm5dHt1r",
        "I79__PHVH19G",
        "Ou-I18pAyIpj",
        "fF3858GYyt-u",
        "4_0_7-oCpUZd",
        "hwyV_J3ipUZe",
        "3yB-zSqbpUZe",
        "dEUvejAfpUZe",
        "Fd15vwWVpUZf",
        "bn_IUdTipZyH",
        "49K5P_iCpZyH",
        "Nff-vKELpZyI",
        "kLW572S8pZyI",
        "dWbDXHzopZyI",
        "yLjJCtPM0KBk",
        "xiyOF9F70UgQ",
        "7wuGOrhz0itI",
        "id1riN9m0vUs",
        "578E2V7j08f6",
        "89xtkJwZ18nB",
        "67NQN5KX2AMe",
        "Iwf50b-R2tYG",
        "GMQiZwjn3iu7",
        "WVIkgGqN3qsr",
        "XkPnILGE3zoT",
        "Hlsf0x5436Go",
        "mT9DMSJo4nBL",
        "c49ITxTc407N",
        "OeJFEK0N496M",
        "9ExmJH0g5HBk",
        "cJNqERVU536h",
        "k5UmGsbsOxih",
        "T0VqWOYE6DLQ",
        "qBMux9mC6MCf",
        "-oLEiFgy-5Pf",
        "C74aWNz2AliB",
        "2DejudWSA-a0",
        "pEMng2IbBLp7",
        "rAdphbQ9Bhjc",
        "TNVZ9zx19K6k",
        "nqoHp30x9hH9",
        "rMDnDkt2B6du",
        "yiiVWRdJDDil",
        "1UUpS68QDMuG",
        "kexQrXU-DjzY",
        "T5CmagL3EC8N",
        "BhH2vgX9EjGr",
        "qjKvONjwE8ra",
        "P1XJ9OREExlT",
        "VFOzZv6IFROw",
        "TIqpNgepFxVj",
        "VfCC591jGiD4",
        "OB4l2ZhMeS1U",
        "ArJBuiUVfxKd",
        "4qY1EAkEfxKe",
        "PiV4Ypx8fxKe",
        "TfvqoZmBfxKf",
        "dJ2tPlVmpsJ0",
        "JWYfwnehpsJ1",
        "-jK_YjpMpsJ2",
        "HAih1iBOpsJ2",
        "zVGeBEFhpsJ2",
        "bmKjuQ-FpsJ3",
        "Fze-IPXLpx6K",
        "7AN1z2sKpx6M",
        "9PIHJqyupx6M",
        "_-qAgymDpx6N",
        "Z-hykwinpx6N",
        "h_CCil-SKHpo",
        "cBFFvTBNJzUa",
        "HvGl1hHyA_VK",
        "EyNgTHvd2WFk",
        "KH5McJBi2d8v",
        "iW_Lq9qf2h6X",
        "-Kee-DAl2viO",
        "gCX9965dhzqZ",
        "gIfDvo9L0UH2"
      ],
      "include_colab_link": true
    },
    "kernelspec": {
      "name": "python3",
      "display_name": "Python 3"
    },
    "language_info": {
      "name": "python"
    },
    "accelerator": "TPU"
  },
  "cells": [
    {
      "cell_type": "markdown",
      "metadata": {
        "id": "view-in-github",
        "colab_type": "text"
      },
      "source": [
        "<a href=\"https://colab.research.google.com/github/Manoharjha333/transport-demand-prediction/blob/main/ML_Submission_Template.ipynb\" target=\"_parent\"><img src=\"https://colab.research.google.com/assets/colab-badge.svg\" alt=\"Open In Colab\"/></a>"
      ]
    },
    {
      "cell_type": "markdown",
      "source": [
        "# **Project Name**    - Transport Demand Prediction\n",
        "\n"
      ],
      "metadata": {
        "id": "vncDsAP0Gaoa"
      }
    },
    {
      "cell_type": "markdown",
      "source": [
        "\n",
        "\n",
        "\n",
        "##### **Project Type**    - Regression\n",
        "##### **Contribution**    - Individual\n"
      ],
      "metadata": {
        "id": "beRrZCGUAJYm"
      }
    },
    {
      "cell_type": "markdown",
      "source": [
        "# **Project Summary -**"
      ],
      "metadata": {
        "id": "FJNUwmbgGyua"
      }
    },
    {
      "cell_type": "markdown",
      "source": [
        "#Description of the Transport Data\n",
        "\n",
        "This is a dataset prepared on the demand of transport which has more than 50000 data in which we have to predict how many seats MobiTicket can sell in each ride. This dataset contains 14 different routes going to the same location Nairobi with different timings and routes.\n",
        "\n",
        "The journey from these 14 origin points to the first stop on the outskirts of Nairobi takes approximately 8 to 9 hours from the time of departure. From the first stop on the outskirts of Nairobi to the main bus terminal, where most passengers disembark, in the Central Business District, it takes 2 to 3 hours, depending on traffic. The three stops each of these routes make in Nairobi (in order) are:\n",
        "1. Kawangware: First stop on the outskirts of Nairobi\n",
        "2. Westlands\n",
        "3. Afya Centre: The main bus terminal where most passengers disembark\n",
        "\n",
        "Passengers on these bus (or shuttle) rides are not only affected by Nairobi traffic during their journey in the city, but from there they must continue their journey to their final destination in Nairobi, wherever that may be. The traffic may act as a deterrent for those who have the option to avoid buses arriving in Nairobi during peak traffic hours. On the other hand, traffic can be an indication of people's movement patterns, reflecting business hours, cultural events, political events, and holidays.\n"
      ],
      "metadata": {
        "id": "F6v_1wHtG2nS"
      }
    },
    {
      "cell_type": "markdown",
      "source": [
        "# **GitHub Link -**"
      ],
      "metadata": {
        "id": "w6K7xa23Elo4"
      }
    },
    {
      "cell_type": "markdown",
      "source": [
        "Provide your GitHub Link here.\n",
        "\n",
        "https://github.com/Manoharjha333/transport-demand-prediction/blob/768e7858b4a3e6ae9a00e1ed251e72226f0489e1/ML_Submission_Template.ipynb\n",
        "\n"
      ],
      "metadata": {
        "id": "h1o69JH3Eqqn"
      }
    },
    {
      "cell_type": "markdown",
      "source": [
        "# **Problem Statement**\n"
      ],
      "metadata": {
        "id": "yQaldy8SH6Dl"
      }
    },
    {
      "cell_type": "markdown",
      "source": [
        "#Problem Statement\n",
        "This transport data departs from 14 origin points to the first stop on the outskirts of Nairobi, taking approximately 8 to 9 hours. It contains data of more than 50000. In which we have to estimate how many seats MobiTicket can sell in each ride.\n",
        "It consists of 14 different routes leading to the same location Nairobi with different timings and routes."
      ],
      "metadata": {
        "id": "DpeJGUA3kjGy"
      }
    },
    {
      "cell_type": "markdown",
      "source": [
        "# **General Guidelines** : -  "
      ],
      "metadata": {
        "id": "mDgbUHAGgjLW"
      }
    },
    {
      "cell_type": "markdown",
      "source": [
        "1.   Well-structured, formatted, and commented code is required.\n",
        "2.   Exception Handling, Production Grade Code & Deployment Ready Code will be a plus. Those students will be awarded some additional credits.\n",
        "     \n",
        "     The additional credits will have advantages over other students during Star Student selection.\n",
        "       \n",
        "             [ Note: - Deployment Ready Code is defined as, the whole .ipynb notebook should be executable in one go\n",
        "                       without a single error logged. ]\n",
        "\n",
        "3.   Each and every logic should have proper comments.\n",
        "4. You may add as many number of charts you want. Make Sure for each and every chart the following format should be answered.\n",
        "        \n",
        "\n",
        "```\n",
        "# Chart visualization code\n",
        "```\n",
        "            \n",
        "\n",
        "*   Why did you pick the specific chart?\n",
        "*   What is/are the insight(s) found from the chart?\n",
        "* Will the gained insights help creating a positive business impact?\n",
        "Are there any insights that lead to negative growth? Justify with specific reason.\n",
        "\n",
        "5. You have to create at least 15 logical & meaningful charts having important insights.\n",
        "\n",
        "\n",
        "[ Hints : - Do the Vizualization in  a structured way while following \"UBM\" Rule.\n",
        "\n",
        "U - Univariate Analysis,\n",
        "\n",
        "B - Bivariate Analysis (Numerical - Categorical, Numerical - Numerical, Categorical - Categorical)\n",
        "\n",
        "M - Multivariate Analysis\n",
        " ]\n",
        "\n",
        "\n",
        "\n",
        "\n",
        "\n",
        "6. You may add more ml algorithms for model creation. Make sure for each and every algorithm, the following format should be answered.\n",
        "\n",
        "\n",
        "*   Explain the ML Model used and it's performance using Evaluation metric Score Chart.\n",
        "\n",
        "\n",
        "*   Cross- Validation & Hyperparameter Tuning\n",
        "\n",
        "*   Have you seen any improvement? Note down the improvement with updates Evaluation metric Score Chart.\n",
        "\n",
        "*   Explain each evaluation metric's indication towards business and the business impact pf the ML model used.\n",
        "\n",
        "\n",
        "\n",
        "\n",
        "\n",
        "\n",
        "\n",
        "\n",
        "\n",
        "\n",
        "\n",
        "\n",
        "\n",
        "\n",
        "\n",
        "\n",
        "\n",
        "\n"
      ],
      "metadata": {
        "id": "ZrxVaUj-hHfC"
      }
    },
    {
      "cell_type": "markdown",
      "source": [
        "# ***Let's Begin !***"
      ],
      "metadata": {
        "id": "O_i_v8NEhb9l"
      }
    },
    {
      "cell_type": "markdown",
      "source": [
        "## ***1. Know Your Data***"
      ],
      "metadata": {
        "id": "HhfV-JJviCcP"
      }
    },
    {
      "cell_type": "code",
      "source": [
        "from google.colab import drive\n",
        "drive.mount('/content/drive')"
      ],
      "metadata": {
        "colab": {
          "base_uri": "https://localhost:8080/"
        },
        "id": "TZNCmyl3g8gg",
        "outputId": "39036f5d-378d-4101-e0d1-57c07cca2eee"
      },
      "execution_count": 9,
      "outputs": [
        {
          "output_type": "stream",
          "name": "stdout",
          "text": [
            "Drive already mounted at /content/drive; to attempt to forcibly remount, call drive.mount(\"/content/drive\", force_remount=True).\n"
          ]
        }
      ]
    },
    {
      "cell_type": "markdown",
      "source": [
        "### Import Libraries"
      ],
      "metadata": {
        "id": "Y3lxredqlCYt"
      }
    },
    {
      "cell_type": "code",
      "source": [
        "# Import Libraries\n",
        "import numpy as np\n",
        "import pandas as pd\n",
        "from numpy import math\n",
        "from numpy import loadtxt\n",
        "import seaborn as sns\n",
        "import matplotlib.pyplot as plt\n",
        "%matplotlib inline\n",
        "from matplotlib import rcParams\n",
        "sns.set_style('darkgrid')\n",
        "import missingno as msno\n",
        "\n",
        "from scipy.stats import *\n",
        "import math\n",
        "\n",
        "from statsmodels.stats.outliers_influence import variance_inflation_factor\n",
        "from sklearn.preprocessing import StandardScaler\n",
        "from sklearn.model_selection import train_test_split\n",
        "from imblearn.over_sampling import SMOTE\n",
        "from sklearn.linear_model import LogisticRegression\n",
        "from sklearn.ensemble import RandomForestClassifier\n",
        "from sklearn.metrics import accuracy_score, confusion_matrix\n",
        "from sklearn import metrics\n",
        "from sklearn.metrics import roc_curve\n",
        "from sklearn.model_selection import GridSearchCV\n",
        "from sklearn.model_selection import RepeatedStratifiedKFold\n",
        "from xgboost import XGBClassifier\n",
        "from xgboost import XGBRFClassifier\n",
        "from sklearn.tree import export_graphviz\n",
        "\n",
        "\n",
        "import warnings\n",
        "warnings.filterwarnings('ignore')"
      ],
      "metadata": {
        "id": "M8Vqi-pPk-HR"
      },
      "execution_count": 19,
      "outputs": []
    },
    {
      "cell_type": "markdown",
      "source": [
        "### Dataset Loading"
      ],
      "metadata": {
        "id": "3RnN4peoiCZX"
      }
    },
    {
      "cell_type": "code",
      "source": [
        "# Load Dataset\n",
        "dataset = pd.read_csv(r\"/content/train_revised.csv\")"
      ],
      "metadata": {
        "id": "4CkvbW_SlZ_R"
      },
      "execution_count": 11,
      "outputs": []
    },
    {
      "cell_type": "markdown",
      "source": [
        "### Dataset First View"
      ],
      "metadata": {
        "id": "x71ZqKXriCWQ"
      }
    },
    {
      "cell_type": "code",
      "source": [
        "# Dataset First Look\n",
        "dataset.head()"
      ],
      "metadata": {
        "id": "LWNFOSvLl09H",
        "colab": {
          "base_uri": "https://localhost:8080/",
          "height": 226
        },
        "outputId": "53a0f87c-37c4-4500-8713-b1d911e12419"
      },
      "execution_count": 12,
      "outputs": [
        {
          "output_type": "execute_result",
          "data": {
            "text/plain": [
              "   ride_id seat_number payment_method payment_receipt travel_date travel_time  \\\n",
              "0     1442         15A          Mpesa      UZUEHCBUSO    17-10-17        7:15   \n",
              "1     5437         14A          Mpesa      TIHLBUSGTE    19-11-17        7:12   \n",
              "2     5710          8B          Mpesa      EQX8Q5G19O    26-11-17        7:05   \n",
              "3     5777         19A          Mpesa      SGP18CL0ME    27-11-17        7:10   \n",
              "4     5778         11A          Mpesa      BM97HFRGL9    27-11-17        7:12   \n",
              "\n",
              "  travel_from travel_to car_type  max_capacity  \n",
              "0      Migori   Nairobi      Bus            49  \n",
              "1      Migori   Nairobi      Bus            49  \n",
              "2      Keroka   Nairobi      Bus            49  \n",
              "3    Homa Bay   Nairobi      Bus            49  \n",
              "4      Migori   Nairobi      Bus            49  "
            ],
            "text/html": [
              "\n",
              "  <div id=\"df-4f07854f-23b4-46ea-a4c6-ea4343843c2d\" class=\"colab-df-container\">\n",
              "    <div>\n",
              "<style scoped>\n",
              "    .dataframe tbody tr th:only-of-type {\n",
              "        vertical-align: middle;\n",
              "    }\n",
              "\n",
              "    .dataframe tbody tr th {\n",
              "        vertical-align: top;\n",
              "    }\n",
              "\n",
              "    .dataframe thead th {\n",
              "        text-align: right;\n",
              "    }\n",
              "</style>\n",
              "<table border=\"1\" class=\"dataframe\">\n",
              "  <thead>\n",
              "    <tr style=\"text-align: right;\">\n",
              "      <th></th>\n",
              "      <th>ride_id</th>\n",
              "      <th>seat_number</th>\n",
              "      <th>payment_method</th>\n",
              "      <th>payment_receipt</th>\n",
              "      <th>travel_date</th>\n",
              "      <th>travel_time</th>\n",
              "      <th>travel_from</th>\n",
              "      <th>travel_to</th>\n",
              "      <th>car_type</th>\n",
              "      <th>max_capacity</th>\n",
              "    </tr>\n",
              "  </thead>\n",
              "  <tbody>\n",
              "    <tr>\n",
              "      <th>0</th>\n",
              "      <td>1442</td>\n",
              "      <td>15A</td>\n",
              "      <td>Mpesa</td>\n",
              "      <td>UZUEHCBUSO</td>\n",
              "      <td>17-10-17</td>\n",
              "      <td>7:15</td>\n",
              "      <td>Migori</td>\n",
              "      <td>Nairobi</td>\n",
              "      <td>Bus</td>\n",
              "      <td>49</td>\n",
              "    </tr>\n",
              "    <tr>\n",
              "      <th>1</th>\n",
              "      <td>5437</td>\n",
              "      <td>14A</td>\n",
              "      <td>Mpesa</td>\n",
              "      <td>TIHLBUSGTE</td>\n",
              "      <td>19-11-17</td>\n",
              "      <td>7:12</td>\n",
              "      <td>Migori</td>\n",
              "      <td>Nairobi</td>\n",
              "      <td>Bus</td>\n",
              "      <td>49</td>\n",
              "    </tr>\n",
              "    <tr>\n",
              "      <th>2</th>\n",
              "      <td>5710</td>\n",
              "      <td>8B</td>\n",
              "      <td>Mpesa</td>\n",
              "      <td>EQX8Q5G19O</td>\n",
              "      <td>26-11-17</td>\n",
              "      <td>7:05</td>\n",
              "      <td>Keroka</td>\n",
              "      <td>Nairobi</td>\n",
              "      <td>Bus</td>\n",
              "      <td>49</td>\n",
              "    </tr>\n",
              "    <tr>\n",
              "      <th>3</th>\n",
              "      <td>5777</td>\n",
              "      <td>19A</td>\n",
              "      <td>Mpesa</td>\n",
              "      <td>SGP18CL0ME</td>\n",
              "      <td>27-11-17</td>\n",
              "      <td>7:10</td>\n",
              "      <td>Homa Bay</td>\n",
              "      <td>Nairobi</td>\n",
              "      <td>Bus</td>\n",
              "      <td>49</td>\n",
              "    </tr>\n",
              "    <tr>\n",
              "      <th>4</th>\n",
              "      <td>5778</td>\n",
              "      <td>11A</td>\n",
              "      <td>Mpesa</td>\n",
              "      <td>BM97HFRGL9</td>\n",
              "      <td>27-11-17</td>\n",
              "      <td>7:12</td>\n",
              "      <td>Migori</td>\n",
              "      <td>Nairobi</td>\n",
              "      <td>Bus</td>\n",
              "      <td>49</td>\n",
              "    </tr>\n",
              "  </tbody>\n",
              "</table>\n",
              "</div>\n",
              "    <div class=\"colab-df-buttons\">\n",
              "\n",
              "  <div class=\"colab-df-container\">\n",
              "    <button class=\"colab-df-convert\" onclick=\"convertToInteractive('df-4f07854f-23b4-46ea-a4c6-ea4343843c2d')\"\n",
              "            title=\"Convert this dataframe to an interactive table.\"\n",
              "            style=\"display:none;\">\n",
              "\n",
              "  <svg xmlns=\"http://www.w3.org/2000/svg\" height=\"24px\" viewBox=\"0 -960 960 960\">\n",
              "    <path d=\"M120-120v-720h720v720H120Zm60-500h600v-160H180v160Zm220 220h160v-160H400v160Zm0 220h160v-160H400v160ZM180-400h160v-160H180v160Zm440 0h160v-160H620v160ZM180-180h160v-160H180v160Zm440 0h160v-160H620v160Z\"/>\n",
              "  </svg>\n",
              "    </button>\n",
              "\n",
              "  <style>\n",
              "    .colab-df-container {\n",
              "      display:flex;\n",
              "      gap: 12px;\n",
              "    }\n",
              "\n",
              "    .colab-df-convert {\n",
              "      background-color: #E8F0FE;\n",
              "      border: none;\n",
              "      border-radius: 50%;\n",
              "      cursor: pointer;\n",
              "      display: none;\n",
              "      fill: #1967D2;\n",
              "      height: 32px;\n",
              "      padding: 0 0 0 0;\n",
              "      width: 32px;\n",
              "    }\n",
              "\n",
              "    .colab-df-convert:hover {\n",
              "      background-color: #E2EBFA;\n",
              "      box-shadow: 0px 1px 2px rgba(60, 64, 67, 0.3), 0px 1px 3px 1px rgba(60, 64, 67, 0.15);\n",
              "      fill: #174EA6;\n",
              "    }\n",
              "\n",
              "    .colab-df-buttons div {\n",
              "      margin-bottom: 4px;\n",
              "    }\n",
              "\n",
              "    [theme=dark] .colab-df-convert {\n",
              "      background-color: #3B4455;\n",
              "      fill: #D2E3FC;\n",
              "    }\n",
              "\n",
              "    [theme=dark] .colab-df-convert:hover {\n",
              "      background-color: #434B5C;\n",
              "      box-shadow: 0px 1px 3px 1px rgba(0, 0, 0, 0.15);\n",
              "      filter: drop-shadow(0px 1px 2px rgba(0, 0, 0, 0.3));\n",
              "      fill: #FFFFFF;\n",
              "    }\n",
              "  </style>\n",
              "\n",
              "    <script>\n",
              "      const buttonEl =\n",
              "        document.querySelector('#df-4f07854f-23b4-46ea-a4c6-ea4343843c2d button.colab-df-convert');\n",
              "      buttonEl.style.display =\n",
              "        google.colab.kernel.accessAllowed ? 'block' : 'none';\n",
              "\n",
              "      async function convertToInteractive(key) {\n",
              "        const element = document.querySelector('#df-4f07854f-23b4-46ea-a4c6-ea4343843c2d');\n",
              "        const dataTable =\n",
              "          await google.colab.kernel.invokeFunction('convertToInteractive',\n",
              "                                                    [key], {});\n",
              "        if (!dataTable) return;\n",
              "\n",
              "        const docLinkHtml = 'Like what you see? Visit the ' +\n",
              "          '<a target=\"_blank\" href=https://colab.research.google.com/notebooks/data_table.ipynb>data table notebook</a>'\n",
              "          + ' to learn more about interactive tables.';\n",
              "        element.innerHTML = '';\n",
              "        dataTable['output_type'] = 'display_data';\n",
              "        await google.colab.output.renderOutput(dataTable, element);\n",
              "        const docLink = document.createElement('div');\n",
              "        docLink.innerHTML = docLinkHtml;\n",
              "        element.appendChild(docLink);\n",
              "      }\n",
              "    </script>\n",
              "  </div>\n",
              "\n",
              "\n",
              "<div id=\"df-731c9933-748d-47d7-9fc4-f228e300158f\">\n",
              "  <button class=\"colab-df-quickchart\" onclick=\"quickchart('df-731c9933-748d-47d7-9fc4-f228e300158f')\"\n",
              "            title=\"Suggest charts.\"\n",
              "            style=\"display:none;\">\n",
              "\n",
              "<svg xmlns=\"http://www.w3.org/2000/svg\" height=\"24px\"viewBox=\"0 0 24 24\"\n",
              "     width=\"24px\">\n",
              "    <g>\n",
              "        <path d=\"M19 3H5c-1.1 0-2 .9-2 2v14c0 1.1.9 2 2 2h14c1.1 0 2-.9 2-2V5c0-1.1-.9-2-2-2zM9 17H7v-7h2v7zm4 0h-2V7h2v10zm4 0h-2v-4h2v4z\"/>\n",
              "    </g>\n",
              "</svg>\n",
              "  </button>\n",
              "\n",
              "<style>\n",
              "  .colab-df-quickchart {\n",
              "      --bg-color: #E8F0FE;\n",
              "      --fill-color: #1967D2;\n",
              "      --hover-bg-color: #E2EBFA;\n",
              "      --hover-fill-color: #174EA6;\n",
              "      --disabled-fill-color: #AAA;\n",
              "      --disabled-bg-color: #DDD;\n",
              "  }\n",
              "\n",
              "  [theme=dark] .colab-df-quickchart {\n",
              "      --bg-color: #3B4455;\n",
              "      --fill-color: #D2E3FC;\n",
              "      --hover-bg-color: #434B5C;\n",
              "      --hover-fill-color: #FFFFFF;\n",
              "      --disabled-bg-color: #3B4455;\n",
              "      --disabled-fill-color: #666;\n",
              "  }\n",
              "\n",
              "  .colab-df-quickchart {\n",
              "    background-color: var(--bg-color);\n",
              "    border: none;\n",
              "    border-radius: 50%;\n",
              "    cursor: pointer;\n",
              "    display: none;\n",
              "    fill: var(--fill-color);\n",
              "    height: 32px;\n",
              "    padding: 0;\n",
              "    width: 32px;\n",
              "  }\n",
              "\n",
              "  .colab-df-quickchart:hover {\n",
              "    background-color: var(--hover-bg-color);\n",
              "    box-shadow: 0 1px 2px rgba(60, 64, 67, 0.3), 0 1px 3px 1px rgba(60, 64, 67, 0.15);\n",
              "    fill: var(--button-hover-fill-color);\n",
              "  }\n",
              "\n",
              "  .colab-df-quickchart-complete:disabled,\n",
              "  .colab-df-quickchart-complete:disabled:hover {\n",
              "    background-color: var(--disabled-bg-color);\n",
              "    fill: var(--disabled-fill-color);\n",
              "    box-shadow: none;\n",
              "  }\n",
              "\n",
              "  .colab-df-spinner {\n",
              "    border: 2px solid var(--fill-color);\n",
              "    border-color: transparent;\n",
              "    border-bottom-color: var(--fill-color);\n",
              "    animation:\n",
              "      spin 1s steps(1) infinite;\n",
              "  }\n",
              "\n",
              "  @keyframes spin {\n",
              "    0% {\n",
              "      border-color: transparent;\n",
              "      border-bottom-color: var(--fill-color);\n",
              "      border-left-color: var(--fill-color);\n",
              "    }\n",
              "    20% {\n",
              "      border-color: transparent;\n",
              "      border-left-color: var(--fill-color);\n",
              "      border-top-color: var(--fill-color);\n",
              "    }\n",
              "    30% {\n",
              "      border-color: transparent;\n",
              "      border-left-color: var(--fill-color);\n",
              "      border-top-color: var(--fill-color);\n",
              "      border-right-color: var(--fill-color);\n",
              "    }\n",
              "    40% {\n",
              "      border-color: transparent;\n",
              "      border-right-color: var(--fill-color);\n",
              "      border-top-color: var(--fill-color);\n",
              "    }\n",
              "    60% {\n",
              "      border-color: transparent;\n",
              "      border-right-color: var(--fill-color);\n",
              "    }\n",
              "    80% {\n",
              "      border-color: transparent;\n",
              "      border-right-color: var(--fill-color);\n",
              "      border-bottom-color: var(--fill-color);\n",
              "    }\n",
              "    90% {\n",
              "      border-color: transparent;\n",
              "      border-bottom-color: var(--fill-color);\n",
              "    }\n",
              "  }\n",
              "</style>\n",
              "\n",
              "  <script>\n",
              "    async function quickchart(key) {\n",
              "      const quickchartButtonEl =\n",
              "        document.querySelector('#' + key + ' button');\n",
              "      quickchartButtonEl.disabled = true;  // To prevent multiple clicks.\n",
              "      quickchartButtonEl.classList.add('colab-df-spinner');\n",
              "      try {\n",
              "        const charts = await google.colab.kernel.invokeFunction(\n",
              "            'suggestCharts', [key], {});\n",
              "      } catch (error) {\n",
              "        console.error('Error during call to suggestCharts:', error);\n",
              "      }\n",
              "      quickchartButtonEl.classList.remove('colab-df-spinner');\n",
              "      quickchartButtonEl.classList.add('colab-df-quickchart-complete');\n",
              "    }\n",
              "    (() => {\n",
              "      let quickchartButtonEl =\n",
              "        document.querySelector('#df-731c9933-748d-47d7-9fc4-f228e300158f button');\n",
              "      quickchartButtonEl.style.display =\n",
              "        google.colab.kernel.accessAllowed ? 'block' : 'none';\n",
              "    })();\n",
              "  </script>\n",
              "</div>\n",
              "    </div>\n",
              "  </div>\n"
            ]
          },
          "metadata": {},
          "execution_count": 12
        }
      ]
    },
    {
      "cell_type": "markdown",
      "source": [
        "### Dataset Rows & Columns count"
      ],
      "metadata": {
        "id": "7hBIi_osiCS2"
      }
    },
    {
      "cell_type": "code",
      "source": [
        "# Dataset Rows & Columns count\n",
        "dataset.shape"
      ],
      "metadata": {
        "id": "Kllu7SJgmLij",
        "colab": {
          "base_uri": "https://localhost:8080/"
        },
        "outputId": "ff031007-36d4-464d-840d-9ceb919e7863"
      },
      "execution_count": 13,
      "outputs": [
        {
          "output_type": "execute_result",
          "data": {
            "text/plain": [
              "(51645, 10)"
            ]
          },
          "metadata": {},
          "execution_count": 13
        }
      ]
    },
    {
      "cell_type": "markdown",
      "source": [
        "### Dataset Information"
      ],
      "metadata": {
        "id": "JlHwYmJAmNHm"
      }
    },
    {
      "cell_type": "code",
      "source": [
        "# Dataset Info\n",
        "dataset.info()"
      ],
      "metadata": {
        "id": "e9hRXRi6meOf",
        "colab": {
          "base_uri": "https://localhost:8080/"
        },
        "outputId": "a572e867-804e-4ca2-a8b6-fb73ca7104fc"
      },
      "execution_count": 14,
      "outputs": [
        {
          "output_type": "stream",
          "name": "stdout",
          "text": [
            "<class 'pandas.core.frame.DataFrame'>\n",
            "RangeIndex: 51645 entries, 0 to 51644\n",
            "Data columns (total 10 columns):\n",
            " #   Column           Non-Null Count  Dtype \n",
            "---  ------           --------------  ----- \n",
            " 0   ride_id          51645 non-null  int64 \n",
            " 1   seat_number      51645 non-null  object\n",
            " 2   payment_method   51645 non-null  object\n",
            " 3   payment_receipt  51645 non-null  object\n",
            " 4   travel_date      51645 non-null  object\n",
            " 5   travel_time      51645 non-null  object\n",
            " 6   travel_from      51645 non-null  object\n",
            " 7   travel_to        51645 non-null  object\n",
            " 8   car_type         51645 non-null  object\n",
            " 9   max_capacity     51645 non-null  int64 \n",
            "dtypes: int64(2), object(8)\n",
            "memory usage: 3.9+ MB\n"
          ]
        }
      ]
    },
    {
      "cell_type": "markdown",
      "source": [
        "#### Duplicate Values"
      ],
      "metadata": {
        "id": "35m5QtbWiB9F"
      }
    },
    {
      "cell_type": "code",
      "source": [
        "# Dataset Duplicate Value Count\n",
        "dataset.duplicated().sum()"
      ],
      "metadata": {
        "id": "1sLdpKYkmox0",
        "colab": {
          "base_uri": "https://localhost:8080/"
        },
        "outputId": "dc32230e-d6be-46d9-b4ec-4ad2362578e2"
      },
      "execution_count": 16,
      "outputs": [
        {
          "output_type": "execute_result",
          "data": {
            "text/plain": [
              "0"
            ]
          },
          "metadata": {},
          "execution_count": 16
        }
      ]
    },
    {
      "cell_type": "markdown",
      "source": [
        "#### Missing Values/Null Values"
      ],
      "metadata": {
        "id": "PoPl-ycgm1ru"
      }
    },
    {
      "cell_type": "code",
      "source": [
        "# Missing Values/Null Values Count\n",
        "dataset.isnull().sum()"
      ],
      "metadata": {
        "id": "GgHWkxvamxVg",
        "colab": {
          "base_uri": "https://localhost:8080/"
        },
        "outputId": "252705df-b0bc-4402-a07c-213085058444"
      },
      "execution_count": 18,
      "outputs": [
        {
          "output_type": "execute_result",
          "data": {
            "text/plain": [
              "ride_id            0\n",
              "seat_number        0\n",
              "payment_method     0\n",
              "payment_receipt    0\n",
              "travel_date        0\n",
              "travel_time        0\n",
              "travel_from        0\n",
              "travel_to          0\n",
              "car_type           0\n",
              "max_capacity       0\n",
              "dtype: int64"
            ]
          },
          "metadata": {},
          "execution_count": 18
        }
      ]
    },
    {
      "cell_type": "code",
      "source": [
        "# Visualizing the missing values\n",
        "msno.bar(dataset)"
      ],
      "metadata": {
        "id": "3q5wnI3om9sJ",
        "colab": {
          "base_uri": "https://localhost:8080/",
          "height": 433
        },
        "outputId": "45d3e791-4dd8-44d1-b8dc-009794b86f26"
      },
      "execution_count": 21,
      "outputs": [
        {
          "output_type": "execute_result",
          "data": {
            "text/plain": [
              "<Axes: >"
            ]
          },
          "metadata": {},
          "execution_count": 21
        },
        {
          "output_type": "display_data",
          "data": {
            "text/plain": [
              "<Figure size 2500x1000 with 3 Axes>"
            ],
            "image/png": "[encoded data removed]"
          },
          "metadata": {}
        }
      ]
    },
    {
      "cell_type": "markdown",
      "source": [
        "### What did you know about your dataset?"
      ],
      "metadata": {
        "id": "H0kj-8xxnORC"
      }
    },
    {
      "cell_type": "markdown",
      "source": [
        "**Answer Here**\n",
        "\n",
        "This dataset is a dataset of demand for a transport which has 51645 rows and 10 columns. In which there is no duplicate value nor any missing value."
      ],
      "metadata": {
        "id": "gfoNAAC-nUe_"
      }
    },
    {
      "cell_type": "markdown",
      "source": [
        "## ***2. Understanding Your Variables***"
      ],
      "metadata": {
        "id": "nA9Y7ga8ng1Z"
      }
    },
    {
      "cell_type": "code",
      "source": [
        "# Dataset Columns\n",
        "dataset.columns"
      ],
      "metadata": {
        "id": "j7xfkqrt5Ag5",
        "colab": {
          "base_uri": "https://localhost:8080/"
        },
        "outputId": "cd2e9840-3cb7-411f-849d-1b1e0b5e02fb"
      },
      "execution_count": 23,
      "outputs": [
        {
          "output_type": "execute_result",
          "data": {
            "text/plain": [
              "Index(['ride_id', 'seat_number', 'payment_method', 'payment_receipt',\n",
              "       'travel_date', 'travel_time', 'travel_from', 'travel_to', 'car_type',\n",
              "       'max_capacity'],\n",
              "      dtype='object')"
            ]
          },
          "metadata": {},
          "execution_count": 23
        }
      ]
    },
    {
      "cell_type": "code",
      "source": [
        "# Dataset Describe\n",
        "dataset.describe()"
      ],
      "metadata": {
        "id": "DnOaZdaE5Q5t",
        "colab": {
          "base_uri": "https://localhost:8080/",
          "height": 2409
        },
        "outputId": "350638cb-41eb-4b39-c19c-9aeaf6436673"
      },
      "execution_count": 24,
      "outputs": [
        {
          "output_type": "execute_result",
          "data": {
            "text/plain": [
              "            ride_id  max_capacity\n",
              "count  51645.000000  51645.000000\n",
              "mean   10188.645793     34.534321\n",
              "std     2211.295708     18.451193\n",
              "min     1442.000000     11.000000\n",
              "25%     8287.000000     11.000000\n",
              "50%    10353.000000     49.000000\n",
              "75%    12029.000000     49.000000\n",
              "max    20117.000000     49.000000"
            ],
            "text/html": [
              "\n",
              "  <div id=\"df-2aa693cb-6860-46ba-826a-c63211c6af81\" class=\"colab-df-container\">\n",
              "    <div>\n",
              "<style scoped>\n",
              "    .dataframe tbody tr th:only-of-type {\n",
              "        vertical-align: middle;\n",
              "    }\n",
              "\n",
              "    .dataframe tbody tr th {\n",
              "        vertical-align: top;\n",
              "    }\n",
              "\n",
              "    .dataframe thead th {\n",
              "        text-align: right;\n",
              "    }\n",
              "</style>\n",
              "<table border=\"1\" class=\"dataframe\">\n",
              "  <thead>\n",
              "    <tr style=\"text-align: right;\">\n",
              "      <th></th>\n",
              "      <th>ride_id</th>\n",
              "      <th>max_capacity</th>\n",
              "    </tr>\n",
              "  </thead>\n",
              "  <tbody>\n",
              "    <tr>\n",
              "      <th>count</th>\n",
              "      <td>51645.000000</td>\n",
              "      <td>51645.000000</td>\n",
              "    </tr>\n",
              "    <tr>\n",
              "      <th>mean</th>\n",
              "      <td>10188.645793</td>\n",
              "      <td>34.534321</td>\n",
              "    </tr>\n",
              "    <tr>\n",
              "      <th>std</th>\n",
              "      <td>2211.295708</td>\n",
              "      <td>18.451193</td>\n",
              "    </tr>\n",
              "    <tr>\n",
              "      <th>min</th>\n",
              "      <td>1442.000000</td>\n",
              "      <td>11.000000</td>\n",
              "    </tr>\n",
              "    <tr>\n",
              "      <th>25%</th>\n",
              "      <td>8287.000000</td>\n",
              "      <td>11.000000</td>\n",
              "    </tr>\n",
              "    <tr>\n",
              "      <th>50%</th>\n",
              "      <td>10353.000000</td>\n",
              "      <td>49.000000</td>\n",
              "    </tr>\n",
              "    <tr>\n",
              "      <th>75%</th>\n",
              "      <td>12029.000000</td>\n",
              "      <td>49.000000</td>\n",
              "    </tr>\n",
              "    <tr>\n",
              "      <th>max</th>\n",
              "      <td>20117.000000</td>\n",
              "      <td>49.000000</td>\n",
              "    </tr>\n",
              "  </tbody>\n",
              "</table>\n",
              "</div>\n",
              "    <div class=\"colab-df-buttons\">\n",
              "\n",
              "  <div class=\"colab-df-container\">\n",
              "    <button class=\"colab-df-convert\" onclick=\"convertToInteractive('df-2aa693cb-6860-46ba-826a-c63211c6af81')\"\n",
              "            title=\"Convert this dataframe to an interactive table.\"\n",
              "            style=\"display:none;\">\n",
              "\n",
              "  <svg xmlns=\"http://www.w3.org/2000/svg\" height=\"24px\" viewBox=\"0 -960 960 960\">\n",
              "    <path d=\"M120-120v-720h720v720H120Zm60-500h600v-160H180v160Zm220 220h160v-160H400v160Zm0 220h160v-160H400v160ZM180-400h160v-160H180v160Zm440 0h160v-160H620v160ZM180-180h160v-160H180v160Zm440 0h160v-160H620v160Z\"/>\n",
              "  </svg>\n",
              "    </button>\n",
              "\n",
              "  <style>\n",
              "    .colab-df-container {\n",
              "      display:flex;\n",
              "      gap: 12px;\n",
              "    }\n",
              "\n",
              "    .colab-df-convert {\n",
              "      background-color: #E8F0FE;\n",
              "      border: none;\n",
              "      border-radius: 50%;\n",
              "      cursor: pointer;\n",
              "      display: none;\n",
              "      fill: #1967D2;\n",
              "      height: 32px;\n",
              "      padding: 0 0 0 0;\n",
              "      width: 32px;\n",
              "    }\n",
              "\n",
              "    .colab-df-convert:hover {\n",
              "      background-color: #E2EBFA;\n",
              "      box-shadow: 0px 1px 2px rgba(60, 64, 67, 0.3), 0px 1px 3px 1px rgba(60, 64, 67, 0.15);\n",
              "      fill: #174EA6;\n",
              "    }\n",
              "\n",
              "    .colab-df-buttons div {\n",
              "      margin-bottom: 4px;\n",
              "    }\n",
              "\n",
              "    [theme=dark] .colab-df-convert {\n",
              "      background-color: #3B4455;\n",
              "      fill: #D2E3FC;\n",
              "    }\n",
              "\n",
              "    [theme=dark] .colab-df-convert:hover {\n",
              "      background-color: #434B5C;\n",
              "      box-shadow: 0px 1px 3px 1px rgba(0, 0, 0, 0.15);\n",
              "      filter: drop-shadow(0px 1px 2px rgba(0, 0, 0, 0.3));\n",
              "      fill: #FFFFFF;\n",
              "    }\n",
              "  </style>\n",
              "\n",
              "    <script>\n",
              "      const buttonEl =\n",
              "        document.querySelector('#df-2aa693cb-6860-46ba-826a-c63211c6af81 button.colab-df-convert');\n",
              "      buttonEl.style.display =\n",
              "        google.colab.kernel.accessAllowed ? 'block' : 'none';\n",
              "\n",
              "      async function convertToInteractive(key) {\n",
              "        const element = document.querySelector('#df-2aa693cb-6860-46ba-826a-c63211c6af81');\n",
              "        const dataTable =\n",
              "          await google.colab.kernel.invokeFunction('convertToInteractive',\n",
              "                                                    [key], {});\n",
              "        if (!dataTable) return;\n",
              "\n",
              "        const docLinkHtml = 'Like what you see? Visit the ' +\n",
              "          '<a target=\"_blank\" href=https://colab.research.google.com/notebooks/data_table.ipynb>data table notebook</a>'\n",
              "          + ' to learn more about interactive tables.';\n",
              "        element.innerHTML = '';\n",
              "        dataTable['output_type'] = 'display_data';\n",
              "        await google.colab.output.renderOutput(dataTable, element);\n",
              "        const docLink = document.createElement('div');\n",
              "        docLink.innerHTML = docLinkHtml;\n",
              "        element.appendChild(docLink);\n",
              "      }\n",
              "    </script>\n",
              "  </div>\n",
              "\n",
              "\n",
              "<div id=\"df-10b968d1-bab9-45a3-87f3-261bec60ab89\">\n",
              "  <button class=\"colab-df-quickchart\" onclick=\"quickchart('df-10b968d1-bab9-45a3-87f3-261bec60ab89')\"\n",
              "            title=\"Suggest charts.\"\n",
              "            style=\"display:none;\">\n",
              "\n",
              "<svg xmlns=\"http://www.w3.org/2000/svg\" height=\"24px\"viewBox=\"0 0 24 24\"\n",
              "     width=\"24px\">\n",
              "    <g>\n",
              "        <path d=\"M19 3H5c-1.1 0-2 .9-2 2v14c0 1.1.9 2 2 2h14c1.1 0 2-.9 2-2V5c0-1.1-.9-2-2-2zM9 17H7v-7h2v7zm4 0h-2V7h2v10zm4 0h-2v-4h2v4z\"/>\n",
              "    </g>\n",
              "</svg>\n",
              "  </button>\n",
              "\n",
              "<style>\n",
              "  .colab-df-quickchart {\n",
              "      --bg-color: #E8F0FE;\n",
              "      --fill-color: #1967D2;\n",
              "      --hover-bg-color: #E2EBFA;\n",
              "      --hover-fill-color: #174EA6;\n",
              "      --disabled-fill-color: #AAA;\n",
              "      --disabled-bg-color: #DDD;\n",
              "  }\n",
              "\n",
              "  [theme=dark] .colab-df-quickchart {\n",
              "      --bg-color: #3B4455;\n",
              "      --fill-color: #D2E3FC;\n",
              "      --hover-bg-color: #434B5C;\n",
              "      --hover-fill-color: #FFFFFF;\n",
              "      --disabled-bg-color: #3B4455;\n",
              "      --disabled-fill-color: #666;\n",
              "  }\n",
              "\n",
              "  .colab-df-quickchart {\n",
              "    background-color: var(--bg-color);\n",
              "    border: none;\n",
              "    border-radius: 50%;\n",
              "    cursor: pointer;\n",
              "    display: none;\n",
              "    fill: var(--fill-color);\n",
              "    height: 32px;\n",
              "    padding: 0;\n",
              "    width: 32px;\n",
              "  }\n",
              "\n",
              "  .colab-df-quickchart:hover {\n",
              "    background-color: var(--hover-bg-color);\n",
              "    box-shadow: 0 1px 2px rgba(60, 64, 67, 0.3), 0 1px 3px 1px rgba(60, 64, 67, 0.15);\n",
              "    fill: var(--button-hover-fill-color);\n",
              "  }\n",
              "\n",
              "  .colab-df-quickchart-complete:disabled,\n",
              "  .colab-df-quickchart-complete:disabled:hover {\n",
              "    background-color: var(--disabled-bg-color);\n",
              "    fill: var(--disabled-fill-color);\n",
              "    box-shadow: none;\n",
              "  }\n",
              "\n",
              "  .colab-df-spinner {\n",
              "    border: 2px solid var(--fill-color);\n",
              "    border-color: transparent;\n",
              "    border-bottom-color: var(--fill-color);\n",
              "    animation:\n",
              "      spin 1s steps(1) infinite;\n",
              "  }\n",
              "\n",
              "  @keyframes spin {\n",
              "    0% {\n",
              "      border-color: transparent;\n",
              "      border-bottom-color: var(--fill-color);\n",
              "      border-left-color: var(--fill-color);\n",
              "    }\n",
              "    20% {\n",
              "      border-color: transparent;\n",
              "      border-left-color: var(--fill-color);\n",
              "      border-top-color: var(--fill-color);\n",
              "    }\n",
              "    30% {\n",
              "      border-color: transparent;\n",
              "      border-left-color: var(--fill-color);\n",
              "      border-top-color: var(--fill-color);\n",
              "      border-right-color: var(--fill-color);\n",
              "    }\n",
              "    40% {\n",
              "      border-color: transparent;\n",
              "      border-right-color: var(--fill-color);\n",
              "      border-top-color: var(--fill-color);\n",
              "    }\n",
              "    60% {\n",
              "      border-color: transparent;\n",
              "      border-right-color: var(--fill-color);\n",
              "    }\n",
              "    80% {\n",
              "      border-color: transparent;\n",
              "      border-right-color: var(--fill-color);\n",
              "      border-bottom-color: var(--fill-color);\n",
              "    }\n",
              "    90% {\n",
              "      border-color: transparent;\n",
              "      border-bottom-color: var(--fill-color);\n",
              "    }\n",
              "  }\n",
              "</style>\n",
              "\n",
              "  <script>\n",
              "    async function quickchart(key) {\n",
              "      const quickchartButtonEl =\n",
              "        document.querySelector('#' + key + ' button');\n",
              "      quickchartButtonEl.disabled = true;  // To prevent multiple clicks.\n",
              "      quickchartButtonEl.classList.add('colab-df-spinner');\n",
              "      try {\n",
              "        const charts = await google.colab.kernel.invokeFunction(\n",
              "            'suggestCharts', [key], {});\n",
              "      } catch (error) {\n",
              "        console.error('Error during call to suggestCharts:', error);\n",
              "      }\n",
              "      quickchartButtonEl.classList.remove('colab-df-spinner');\n",
              "      quickchartButtonEl.classList.add('colab-df-quickchart-complete');\n",
              "    }\n",
              "    (() => {\n",
              "      let quickchartButtonEl =\n",
              "        document.querySelector('#df-10b968d1-bab9-45a3-87f3-261bec60ab89 button');\n",
              "      quickchartButtonEl.style.display =\n",
              "        google.colab.kernel.accessAllowed ? 'block' : 'none';\n",
              "    })();\n",
              "  </script>\n",
              "</div>\n",
              "    </div>\n",
              "  </div>\n"
            ]
          },
          "metadata": {},
          "execution_count": 24
        },
        {
          "output_type": "display_data",
          "data": {
            "text/plain": [
              "<google.colab._quickchart_helpers.SectionTitle at 0x7d28a6dbe050>"
            ],
            "text/html": [
              "<h4 class=\"colab-quickchart-section-title\">Distributions</h4>\n",
              "<style>\n",
              "  .colab-quickchart-section-title {\n",
              "      clear: both;\n",
              "  }\n",
              "</style>"
            ]
          },
          "metadata": {}
        },
        {
          "output_type": "display_data",
          "data": {
            "text/plain": [
              "import numpy as np\n",
              "from google.colab import autoviz\n",
              "\n",
              "def histogram(df, colname, num_bins=20, figscale=1):\n",
              "  from matplotlib import pyplot as plt\n",
              "  df[colname].plot(kind='hist', bins=num_bins, title=colname, figsize=(8*figscale, 4*figscale))\n",
              "  plt.gca().spines[['top', 'right',]].set_visible(False)\n",
              "  plt.tight_layout()\n",
              "  return autoviz.MplChart.from_current_mpl_state()\n",
              "\n",
              "chart = histogram(_df_0, *['ride_id'], **{})\n",
              "chart"
            ],
            "text/html": [
              "      <div class=\"colab-quickchart-chart-with-code\" id=\"chart-5b41c82d-b9ae-4b70-a838-c9bc928fa765\">\n",
              "        <img src=\"data:image/png;base64,iVBORw0KGgoAAAANSUhEUgAAAYwAAADECAYAAACMRRb/AAAAOXRFWHRTb2Z0d2FyZQBNYXRwbG90\n",
              "bGliIHZlcnNpb24zLjcuMSwgaHR0cHM6Ly9tYXRwbG90bGliLm9yZy/bCgiHAAAACXBIWXMAAA9h\n",
              "AAAPYQGoP6dpAAAYkUlEQVR4nO3dfVRUdf4H8PfMAPJoTIDxsC5rrpBZbrjZtrvH+DUY4yqCgIEg\n",
              "rsc1zq65aZa/XYxkzfBkbVvHPdkhs4NriQaBZmEChi7asri1apmmaSpPgzwsZmggMN/fHy7z42HA\n",
              "e4e5M8Pwfp3DOdz7vXe+n+/ci2/n3rn3qoQQAkRERLegtncBREQ0MjAwiIhIEgYGERFJwsAgIiJJ\n",
              "GBhERCQJA4OIiCRhYBARkSQMDCIikoSBQUREkjAwiIhIEgYG0RDq6+sRERGBmpqaQZdZvXo1MjIy\n",
              "rNLfnDlzsHv37kHbCwoKoNPprNIXkVwu9i6AyJEFBwfj2LFjNuuvuLjYZn0RycVPGERDuHHjhr1L\n",
              "IHIY/IRB1MuiRYswadIktLa24siRI5g6dSqOHDmC0tJShIaGAgC2bt2Kd955B21tbdDr9ejs7ISL\n",
              "y///KV29ehV/+ctfUFFRgevXr2Pq1KnIysrC+PHjb9m/TqfDsmXL8OijjwIADh8+jJdeegm1tbW4\n",
              "9957cf/99yszcCIJ+AmDqJ+ioiLMmzcPVVVVWLNmTZ+2Dz74AG+88QZeeeUVVFZWYurUqThw4ICp\n",
              "XQiB5cuXo62tDbt378bhw4cRFhaG3/72t+js7JRVR01NDZYtW4a0tDQcPXoUTz75JPLy8qwyRiJL\n",
              "MDCI+tHpdIiMjIRarYa7u3uftqKiIiQmJmLatGlwdXVFcnIywsPDTe2nTp3CsWPHsH79evj6+sLN\n",
              "zQ1PPfUUamtrceLECVl1fPjhhwgLC0NycjJcXV0xbdo0zJs3zxpDJLIID0kR9fODH/xg0LaGhgZE\n",
              "RUUNuvylS5fQ1dWFyMhIs+vK0dDQMKCWoWojUhoDg6gflUo1aFtgYCDq6ur6zKutrUVYWBgAwN/f\n",
              "H66urqisrISrq+uw6ggMDMQXX3zRZ17/volsiYekiGSYN28eCgsLcfz4cXR1daGgoABnzpwxtf/0\n",
              "pz/FpEmTsG7dOrS0tAAAvv32W5SUlOD777+X1VdMTAzOnj2LgoICdHV14fjx49izZ481h0MkCwOD\n",
              "SIbY2Fg89thjWLlyJR588EEcP34cM2fONLVrNBrk5ubCw8MDjz76KCIiIhAXF4eysrIhP7mYM378\n",
              "eGzevBl/+9vfMH36dLzyyitISUmx9pCIJFMJIYS9iyAiIsfHTxhERCQJT3oT2VBERITZ+T4+Pqio\n",
              "qLBxNUTy8JAUERFJwkNSREQkCQODiIgkYWAQEZEkTnHSu62tHd9/P/DGbrff7oX//OeaHSqyH455\n",
              "9BiN4+aYlREQ4CNpOaf4hKFWDxyGSgVoNGrIvFZqROOYR4/ROG6O2f6cIjCIiEh5ih2S6ujowKpV\n",
              "q3D+/HmMGTMGfn5+WLdunekhNL0dPHgQL774IoxGI8LCwrBx40Z4e3srVRoREVlA0U8YycnJ2L9/\n",
              "P/bu3YuoqCg8++yzA5a5du0aMjMzsXnzZpSWlmLcuHHYvHmzkmUREZEFFAuMMWPGIDIy0nTDtZ/8\n",
              "5Cdmb81cUVGByZMnY+LEiQCA1NRUFBcXK1UWERFZyGbfktq+fTt0Ot2A+QaDASEhIabpkJAQNDU1\n",
              "oaurq89zkm+l/0mhnulbnSxSq1Wy7yLamxACRqPtL5Y3V3fPpIuLGkNdv2+vmpUgdTs7m9E4bo7Z\n",
              "/mwSGDk5Oaiursa2bdsUeX13d1d4erqZbfPzG/rrYt1GAY3a8q0x3PWV6NfX18vidUeqW21nZzUa\n",
              "x80x24/igfHWW2+htLQU27Ztg4eHx4D2oKAgfPLJJ6bpuro6BAQEyPp00d7eievXO/rMU6luvskt\n",
              "Ld8N+r9tjUYNrdYLK3cdw7nGNsn99fjxOG9sWhCB1tZr6O42yl7fUsOp2141K0XKdnZGo3HcHLNy\n",
              "/fj7SwskRQMjNzcXxcXFyM3NxdixY80uM2PGDKxfvx7nz5/HxIkTkZeXhzlz5sjua7A3U4jB23qc\n",
              "a2zDl/VXZfcppX8lDbduZ/qjk7KdndFoHDfHbD+KBUZDQwM2btyI8ePH49e//jUAwM3NDQUFBdi0\n",
              "aRPGjRuHlJQUeHt7Izs7G8uXL0d3dzcmTZqEF198UamyiIjIQooFRmBgYJ9nHfe2cuXKPtNRUVGI\n",
              "iopSqhQiIrICXulNRESSMDCIiEgSBgYREUnCwCAiIkkYGEREJAkDg4iIJGFgEBGRJAwMIiKShIFB\n",
              "RESSMDCIiEgSBgYREUnCwCAiIkkYGEREJAkDg4iIJGFgEBGRJAwMIiKShIFBRESSMDCIiEgSBgYR\n",
              "EUnCwCAiIkkYGEREJAkDg4iIJGFgEBGRJAwMIiKSRNHAyM7Ohk6nQ3h4OE6fPm12maqqKkydOhVx\n",
              "cXGmn/b2diXLIiIiC7go+eJ6vR6PPfYYUlNTh1xuwoQJeP/995UshYiIhknRwJg+fbqSL09ERDak\n",
              "aGBIVV1djfj4eKjVaiQkJGDhwoWyX0OlMj/df75SbNWPNY3Emvuz9XZ2FKNx3Byz/dk9MKZMmYKK\n",
              "igr4+PigoaEB6enp0Gq1mD17tuTXcHd3haenm9k2Pz8fa5U6KK3WS/E+rG0k1jwUW2xnRzQax80x\n",
              "24/dA8Pb29v0e2BgIGJiYvDZZ5/JCoz29k5cv97RZ55KdfNNbmn5DkKYX0+jUVvlH87W1mvo7jYO\n",
              "+3Wkskbdtq5ZKVK2szMajePmmJXrx99fWiDZPTAaGxvh7+8PtVqNtrY2HDx4EPPnz5f9OoO9mUIM\n",
              "3mZNI3EHHok1D8ZW29nRjMZxc8z2I/trtYcPH5a8bFZWFh566CE0NDRg6dKleOSRRwAAmZmZ+Pjj\n",
              "jwEApaWlmDt3LmJjY5GcnIxf/vKXSExMlFsWEREpTPYnjM2bNyM7OxupqalITEzsc0ipv/Xr15ud\n",
              "v2HDBtPvaWlpSEtLk1sGERHZmOxPGLt27cKrr76Kr7/+Gnq9HuvWrcO5c+eUqI2IiByIRVd63333\n",
              "3cjOzsbWrVtx6NAhxMbGYsmSJThz5oy16yMiIgdh0Unvf/zjH3j77bdx9uxZpKamYv78+Th69Ch+\n",
              "//vfo6yszNo1EhGRA5AdGL/61a+g1WqxaNEiREdHQ6PRAABmzZqF9957z+oFEhGRY5AdGH/+859x\n",
              "zz33mG3bunXrsAsiIiLHJPscxpdffokrV66YpltbW5Gfn2/NmoiIyAHJDoy8vDz4+vqaprVaLfLy\n",
              "8qxZExEROSDZgSHMXG7Y3d1tlWKIiMhxyQ6MgIAA7Nu3zzS9b98+jBs3zqpFERGR45F90vuZZ57B\n",
              "448/jpdffhkA4O7ujtdff93qhRERkWORHRgTJ07Evn37cOHCBQA3n5bX89VaIiJyXhZduKdSqeDj\n",
              "44Pu7m5cvnwZABAcHGzVwoiIyLHIDoyioiJkZ2fD1dUVqv8+BkqlUqGystLqxRERkeOQHRivv/46\n",
              "3nvvPdx5551K1ENERA5K9rektFotw4KIaBSSHRgzZ87Etm3b0NLSgra2NtMPERE5N9mHpF599VUA\n",
              "wMaNG6FSqSCEgEqlwunTp61eHBEROQ7ZgfHVV18pUQcRETk4ix6gdPLkSezZswcAcPXqVTQ2Nlqz\n",
              "JiIickCyA2PHjh145pln8NprrwEArly5gqefftrqhRERkWORHRj5+fnIz8+Ht7c3AOCHP/whWltb\n",
              "rV4YERE5FtmB4ebmBnd39z7zeGsQIiLnJzswbr/9dly4cMF0lXdRURGCgoKsXhgRETkWi+5W+9RT\n",
              "T+Gbb75BZGQkvL29kZOTo0RtRETkQGQHRmhoKAoKCnDhwgUIIYa8W212djbKy8tRV1eHPXv2YPLk\n",
              "yWaXKygowJtvvgmj0YgHH3wQf/rTn+Dq6iq3NCIiUpDsQ1L19fVoaGiAh4cHPD09cfnyZdTX15td\n",
              "Vq/XIy8vDyEhIYO+Xk1NDTZt2oQdO3agrKwMzc3NfEY4EZEDkv0JIyEhwXSFd0dHB9rb2+Hr62v2\n",
              "brXTp0+/5euVlJRAp9MhICAAAJCSkoKcnBwsXLhQbmlERKQg2YHxz3/+s890aWnpsK7+NhgMfT6B\n",
              "hISEwGAwyH6d/56DHzDdf75SLOlHrVaZvjwgh0Zj0fWWVnsNIQSMxoHPdleauferZ9LFRQ0zj5vv\n",
              "w151K8HW+7cjcPYxj4T926IHKPUWHR2NnJwcrFixwhr1WMTd3RWenm5m2/z8fBTvX6v1smi9bqOA\n",
              "Rm3bvT/Aewy6jQJjx3pY/Br2qPtW/fr63nob2KtuJdli/3Y0zjrmkbB/yw6M3nem7e7uxokTJ3Dt\n",
              "2jWLCwgKCkJ1dbVpuq6uTvbXdNvbO3H9ekefeSrVzR2rpeW7QZNZo1Fb/I99b62t19DdbZS1Tk/f\n",
              "K3cdw7lGeXf7/Z/wAPyv/i5Z6/QY6+ECjVplUb8A8ONx3ti0IMKiMQ/HcN4vwH51K0XK/u1snHnM\n",
              "9t6//f2lhbDswLj//vtN5zA0Gg1CQ0ORmZkpu8Aeer0eKSkpeOKJJ+Dv74+dO3dizpw5sl9nsB1I\n",
              "iMHbrMnSPs41tuHL+quy1pkYMPyQs6Tf/uzxRztS61aKrfZvR+LMY3b0/VvRu9VmZWXh0KFDaG5u\n",
              "xtKlS+Hl5YWysjJkZmZCp9MhKioK48ePx4oVK5CSkgIAeOCBB5CcnCy3LCIiUtiwz2EMZf369Wbn\n",
              "b9iwoc90UlISkpKSlCyFiIiGSXZg3HXXXWa/2cMHKREROTfZgbFixQp0dHSYDiHt3LkT7u7uWLx4\n",
              "sdWLIyIixyH7y/gHDhzAqlWrEBgYiMDAQKxatQplZWXw9PSEp6enEjUSEZEDkB0Y165dQ0tLi2m6\n",
              "paVlWF+rJSKikUH2IaklS5YgLi4ODz30EADg8OHDeOKJJ6xeGBERORbZgbFgwQJMmzYNVVVVAG4G\n",
              "yKRJk6xeGBERORaLvlbr6+uLsLAw/OxnP0NXVxdu3LgBNzfzt+YgIiLnIPscxv79+5GcnIw1a9YA\n",
              "AM6dO4fly5dbvTAiInIssgNjy5YtKCoqwtixYwHcvC5jsOdhEBGR85AdGGq1Glqtts88Ph2PiMj5\n",
              "yQ4MLy8vNDc3m672rqysxG233Wb1woiIyLHIPum9evVqpKeno6amBikpKaitrcWWLVuUqI2IiByI\n",
              "rMAwGo0wGo3Yvn07/v3vfwMAIiIiTOcziIjIeckKDLVajbVr12Lv3r2IjIxUqiYiInJAss9h/OhH\n",
              "P8KlS5eUqIWIiByY7HMYV65cwbx58xAREdHnZoOvvfaaVQsjIiLHIjkw1q5di+effx7x8fHQ6XT8\n",
              "ZhQR0SgjOTBOnjwJAIiPj0d8fDx2796tWFFEROR4ZJ/DAG4+XY+IiEYXyZ8w2tvbcebMGQgh0NHR\n",
              "Yfq9x1133aVIgURE5BgkB0ZHRweWLVtmmu79u0qlwscff2zdyoiIyKFIDozy8nIl6yAiIgdn0TkM\n",
              "IiIafSx6gJJUFy9eREZGBlpbW+Ht7Y2NGzcOeDpfVVUV0tPTMWHCBNO8d999F+7u7kqWRkREMika\n",
              "GFlZWUhKSkJCQgL279+PjIwMFBYWDlhuwoQJeP/995UshYiIhkmxQ1ItLS04efIkYmNjAQB6vR4N\n",
              "DQ28rQgR0Qil2CcMg8GAgIAAuLjc7EKlUiEoKAj19fUIDQ3ts2x1dTXi4+OhVquRkJCAhQsXyu7v\n",
              "v4/nGDDdf75SbNWPIxmpYx6pdfdm6/3bEYzGMVtCyfdH0UNSUkyZMgUVFRXw8fFBQ0MD0tPTodVq\n",
              "MXv2bMmv4e7uCk9PN7Ntfn4+1ip1UFqtl+J9OJqROuaRWvdgbLF/O5rROGaplN6/FQuMoKAgNDU1\n",
              "oaurCy4uLhBCwGAwIDg4uM9y3t7ept8DAwMRExODzz77TFZgtLd34vr1jj7zVKqbO1ZLy3cY7MJ0\n",
              "jUZtlTe4tfUauruNstaxVt/2YsmYh8Oe28oRSdm/nY0zj9ne+7e/v7QQVuwchp+fH6ZMmYK9e/cC\n",
              "AEpKSnDHHXcMOBzV2NgIo/HmANva2nDw4EFMnjxZdn9CDPwZbH7vdmsZqh+l+7YXuWMezs9IrVvp\n",
              "98TeNXDM1huXPfdvqRQ9JPXcc89hzZo1eOONN+Dl5YUXXngBAJCZmQmdToeoqCiUlpZi586d0Gg0\n",
              "6O7uxqxZs5CYmKhkWUREZAFFA+POO+/Eu+++O2D+hg0bTL+npaUhLS1NyTKIiMgKeKU3ERFJwsAg\n",
              "IiJJGBhERCQJA4OIiCRhYBARkSQMDCIikoSBQUREkjAwiIhIEgYGERFJwsAgIiJJGBhERCQJA4OI\n",
              "iCRhYBARkSQMDCIikoSBQUREkjAwiIhIEgYGERFJwsAgIiJJGBhERCQJA4OIiCRhYBARkSQMDCIi\n",
              "koSBQUREkjAwiIhIEkUD4+LFi1iwYAH0ej0SExPx9ddfm12uoKAA0dHRmDlzJp599ll0dnYqWRYR\n",
              "EVlA0cDIyspCUlISSkpKkJ6ejoyMjAHL1NTUYNOmTdixYwfKysrQ3NyM/Px8JcsiIiILKBYYLS0t\n",
              "OHnyJGJjYwEAer0eDQ0NuHTpUp/lSkpKoNPpEBAQAJVKhZSUFHz44YdKlUVERBZyUeqFDQYDAgIC\n",
              "4OJyswuVSoWgoCDU19cjNDS0z3IhISGm6ZCQEBgMBtn9qVTmp/vPN+fH47xl99d7PY1Gfu72rGNJ\n",
              "3+Nv97TLur3Xs2TMACCEtG3S33Der97r2bru4a472Po90y4uagihTN9K1D2cdW0x5uGub+/9Gxje\n",
              "2G9FscCwJU9PN3h6uplt8/PzueX6mxZEDKv/sWM9LF53OH3ba11geGMejpFat1J8fb3sXYLNOfOY\n",
              "h7t/a7XKvjeKHZIKCgpCU1MTurq6AABCCBgMBgQHBw9Yrq6uzjRdV1eHoKAgpcoiIiILKRYYfn5+\n",
              "mDJlCvbu3Qvg5rmKO+64o8/hKODmuY3y8nI0NTVBCIGdO3dizpw5SpVFREQWUgkx1NHA4fnmm2+w\n",
              "Zs0aXLlyBV5eXnjhhRcQHh6OzMxM6HQ6REVFAQDy8/OxZcsWAMADDzyA5557Dq6urkqVRUREFlA0\n",
              "MIiIyHnwSm8iIpKEgUFERJIwMIiISBIGBhERScLAICIiSZw2MKTeKdfRZGdnQ6fTITw8HKdPnzbN\n",
              "H2o8SrTZUkdHBx5//HHo9XrExsZiyZIlpnuOtbS0YOnSpYiOjkZMTAz+9a9/mdZTos2WfvOb32Du\n",
              "3LmIi4tDamoqTp06BcC5t3WPwsJChIeH48CBAwCcezvrdDro9XrExcUhLi4O+/btAzBCt7NwUosW\n",
              "LRKFhYVCCCE++ugjkZCQYOeKpDl69KgwGAzi4YcfFqdOnTLNH2o8SrTZUnt7uzh06JAwGo1CCCHe\n",
              "fvttkZaWJoQQIiMjQ/z1r38VQghx4sQJMWPGDHHjxg3F2mzp22+/Nf1eWloq5s6dK4Rw7m0thBA1\n",
              "NTUiOTlZJCUlibKyMiGEc2/n/n/LPUbidnbKwGhubhYRERGis7NTCCGE0WgUv/jFL8TFixftXJl0\n",
              "vXeyocajRJu9ff755+Lhhx8WQghx3333icbGRlNbYmKi+OSTTxRrs5fCwkIRGxvr9Nu6u7tbLF68\n",
              "WHzxxRciLS3NFBjOvJ3NBcZI3c5OcfPB/qTeKXekGGo8Pj4+Vm+z93u0fft26HQ6tLa2orOzEwEB\n",
              "Aaa2kJAQ1NfXK9JmD3/4wx9QVVUFANiyZYvTb+vc3FxMmzYN99xzj2neaNnOAHDvvfdi9erVI3Y7\n",
              "O+05DBqZcnJyUF1djaefftrepdjESy+9hL///e948skn8fLLL9u7HEWdPXsWpaWlWLZsmb1Lsal3\n",
              "3nkHH3zwAYqKiqDVavHHP/7R3iVZzCkDQ+qdckeKocajRJu9vPXWWygtLcWbb74JDw8PaLVauLi4\n",
              "oKmpybRMXV0dgoODFWmzp/j4eFRVVSEwMNBpt/Wnn36Kuro66PV66HQ6HD9+HGvXrsVHH33k1Nu5\n",
              "p09XV1csXrwYn3766Yj9m3bKwJB6p9yRYqjxKNFmD7m5uSguLkZubi7Gjh1rmj9r1izs2rULAPD5\n",
              "55/j8uXLmD59umJttnL16lVcvnzZNH3gwAH4+vo69bZOTU3FkSNHUF5ejvLyctx33314/vnnkZqa\n",
              "6rTb+fr167h69appuri4GHfffffI3c5WOxviYM6fPy+SkpJEdHS0iI+PF1999ZW9S5Jk7dq1YsaM\n",
              "GWLy5Mni5z//uZg5c6YQYujxKNFmSwaDQYSFhYmoqCgRGxsrYmNjxfz584UQQjQ1NYklS5aIRx55\n",
              "RMyePVtUVlaa1lOizVZqa2tFYmKiiImJEXPnzhWLFy82nRh15m3dW++T3s66naurq0VcXJyIiYkR\n",
              "MTEx4ne/+52oqakRQozM7cy71RIRkSROeUiKiIisj4FBRESSMDCIiEgSBgYREUnCwCAiIkkYGERE\n",
              "JAkDg4iIJGFgEBGRJAwMIiKShIFBRESSMDCIiEiS/wNPl8HwzmrbKwAAAABJRU5ErkJggg==\n",
              "\">\n",
              "        \n",
              "      </div>\n",
              "      <script></script>\n",
              "      <script type=\"text/javascript\">\n",
              "        (() => {\n",
              "          const chartElement = document.getElementById(\"chart-5b41c82d-b9ae-4b70-a838-c9bc928fa765\");\n",
              "          async function getCodeForChartHandler(event) {\n",
              "            const chartCodeResponse =  await google.colab.kernel.invokeFunction(\n",
              "                'getCodeForChart', [\"chart-5b41c82d-b9ae-4b70-a838-c9bc928fa765\"], {});\n",
              "            const responseJson = chartCodeResponse.data['application/json'];\n",
              "            await google.colab.notebook.addCell(responseJson.code, 'code');\n",
              "          }\n",
              "          chartElement.onclick = getCodeForChartHandler;\n",
              "        })();\n",
              "      </script>\n",
              "      <style>\n",
              "        .colab-quickchart-chart-with-code  {\n",
              "            display: block;\n",
              "            float: left;\n",
              "            border: 1px solid transparent;\n",
              "        }\n",
              "\n",
              "        .colab-quickchart-chart-with-code:hover {\n",
              "            cursor: pointer;\n",
              "            border: 1px solid #aaa;\n",
              "        }\n",
              "      </style>"
            ]
          },
          "metadata": {}
        },
        {
          "output_type": "display_data",
          "data": {
            "text/plain": [
              "import numpy as np\n",
              "from google.colab import autoviz\n",
              "\n",
              "def histogram(df, colname, num_bins=20, figscale=1):\n",
              "  from matplotlib import pyplot as plt\n",
              "  df[colname].plot(kind='hist', bins=num_bins, title=colname, figsize=(8*figscale, 4*figscale))\n",
              "  plt.gca().spines[['top', 'right',]].set_visible(False)\n",
              "  plt.tight_layout()\n",
              "  return autoviz.MplChart.from_current_mpl_state()\n",
              "\n",
              "chart = histogram(_df_1, *['max_capacity'], **{})\n",
              "chart"
            ],
            "text/html": [
              "      <div class=\"colab-quickchart-chart-with-code\" id=\"chart-7c4a8599-5265-40ae-a7ab-90beada8dd10\">\n",
              "        <img src=\"data:image/png;base64,iVBORw0KGgoAAAANSUhEUgAAAYwAAADECAYAAACMRRb/AAAAOXRFWHRTb2Z0d2FyZQBNYXRwbG90\n",
              "bGliIHZlcnNpb24zLjcuMSwgaHR0cHM6Ly9tYXRwbG90bGliLm9yZy/bCgiHAAAACXBIWXMAAA9h\n",
              "AAAPYQGoP6dpAAAXVElEQVR4nO3df1DUdf4H8OeuiIigoJJoFuflQXk2uah1NoknemCG/BBCZESG\n",
              "brisy7552Q9/cKPJXHbR2DWXcZSHJ16nCDZTAyqag0US6tjl+QtEMX6qSBi/3AV3X98/jB0plc8u\n",
              "+2GX3edjphl2P/v+vF+v/az7bPfz2c9HIyICIiKiXmjtXQAREQ0MDAwiIlKEgUFERIowMIiISBEG\n",
              "BhERKcLAICIiRRgYRESkCAODiIgUYWAQEZEiDAwiJ6DT6VBWVmbvMsjJaXhqECLnUlZWhqVLl+LU\n",
              "qVNwc3OzdznkRPgJg4iIFGFgkMNKSkrChg0b8NJLLyE4OBghISEoKChAeXk5Fi1aBJ1Oh7i4OFy4\n",
              "cAEAsGfPHixcuBDTp0/HY489hmXLlqGmpsa8vjVr1iA+Ph6dnZ0AgIsXL2LatGnYs2dPr7Xo9Xps\n",
              "2rQJ4eHh0Ol0mDNnDj755BMAQEVFBZKTk/Gb3/wGU6dOxdNPP43S0lLz2NraWgQFBSE3Nxfz589H\n",
              "cHAwkpOTUV1dbX5Mb7UDQHFxMeLj482PefHFF83LgoKCcPjwYdTX1yM1NRUAMH36dOh0OmRmZuLd\n",
              "d99FUlJSj/U1NjZi8uTJOHPmjKLtQQQhclBLliyRqVOnypEjR8RoNMrWrVvlkUcekdTUVKmpqRGD\n",
              "wSAvvPCCPPPMMyIicujQITlz5ozcuHFDmpqa5Nlnn5X4+Hjz+vR6vcTExMi6deuko6NDIiIi5C9/\n",
              "+YuiWl5++WWJjY2VyspKMZlMcunSJTl58qSIiJSXl0tJSYlcv35dDAaDvPfeexIcHCxXr14VEZGa\n",
              "mhoJDAyU2NhYqa+vl46ODlm9erU8+eST0tXVpaj2kpISefjhh6WwsFAMBoPo9Xo5fPiweXlgYKB8\n",
              "9dVXIiLy9ddfS2BgoHndIiL19fUyadIkqaqqMt+3efNmefrppy3ZJOTiGBjksJYsWSKrVq0y325p\n",
              "aZHAwED57LPPzPft3btXpk2bdtvxp06dksDAQGltbTXfV1NTI48++qhER0fL4sWLe7yp3klTU5ME\n",
              "BgbKiRMnFNc+depU+fzzz81zBgYGmm+LiLS2tspDDz0kR48eVVT7H/7wB1m/fv0d5+stMEREli1b\n",
              "Jhs3bhQREaPRKLNnz5b8/HzFPRFxjxg5ND8/P/PfQ4cOve197e3tAIAjR47g/fffx/nz59HR0WF+\n",
              "zPfffw8vLy8AwPjx4xEWFobc3Fxs2bJF0U7h2tpaAMCECRNuu7y+vh5vv/02vvnmG7S0tECr1aKt\n",
              "rQ1NTU09Hjd+/Hjz315eXvD19UVDQ4Oi2mtra/HEE0/0WuvdJCYm4pVXXsGKFStQWlqK1tZWzJ8/\n",
              "v0/rJNfCfRjkFDo7O/Hss89i5syZ2Lt3L44fP47t27cDAOSWAwGLi4tRUFCAuLg4rF+/Hq2trb2u\n",
              "u/uN/uLFi7ddnpaWBpPJhLy8PBw/fhxHjx41B9St6urqzH+3t7ejubkZ/v7+imq/99577zj/T2m1\n",
              "t/9n/cQTT8Db2xv79+/Hzp07ERUVBQ8PD0XrJAIYGOQkurq6YDAYMGLECHh5eeHy5ct49913ezym\n",
              "pqYGr776KtLT07FhwwYEBATgtdde6xEotzNy5EhERETgjTfeMO9gv3LlCk6dOgUAaG1thaenJ4YP\n",
              "H46Ojg688847PT4ldPvggw9w6dIlXL9+HW+99Rbuv/9+6HQ6RbUvXboUeXl52LdvHzo7O2EwGHrs\n",
              "WL/V6NGjAQBVVVU97tdoNEhISMA//vEPHDp0CAkJCXftm+inGBjkFIYNG4b09HR88MEH0Ol0SE1N\n",
              "xbx588zL9Xo9li9fjujoaMyfPx9arRYZGRk4e/YsPvzww17Xv2HDBkyfPh2pqanQ6XRYvHgxzp07\n",
              "BwBYu3YtysvL8eijj+Kpp57CmDFj4O/v/7N1xMXFISUlBY8//jiqqqqQmZkJNze3XmsHbn46eOed\n",
              "d5CVlYUZM2YgJCQEO3bsuG2tEyZMQFJSEpYuXYpp06YhKyvLvGzhwoWoqqrClClTMHHiREXPLVE3\n",
              "/nCPSGW1tbWYM2cOioqKEBAQYNdajEYjfvvb3+KVV15BZGSkXWuhgYefMIhcyM6dO6HVan/2CYZI\n",
              "CR4lRQTgqaeeQn19/W2XffHFF/D29u7nimyrtbUVISEh8Pb2xptvvgl3d3d7l0QDEL+SIiIiRfiV\n",
              "FBERKcLAICIiRRgYRESkCAODiIgUcdijpNra9Lh+vcvq8SNHDsP337fbsCLHx55dhyv2zZ7V4+en\n",
              "7ChAh/2Ecafz4Sih0QCDBmmh0diwIAfHnl2HK/bNnh2DwwYGERE5FgYGEREpwsAgIiJFGBhERKSI\n",
              "wx4lZQuDBlmfhyaTwGTiWVOIiLo5ZWBotRoYTQJf32FWr+OG0YQfrnUwNIiIfuSUgaHRaDBIq8H/\n",
              "7fgGlVfaLB4/8R4v/C1BB61Ww8AgIvqRUwZGt8orbThV32LvMoiInAJ3ehMRkSIMDCIiUoSBQURE\n",
              "ijAwiIhIEQYGEREpwsAgIiJFGBhERKQIA4OIiBRhYBARkSIMDCIiUoSBQUREijAwiIhIEVVPPtjZ\n",
              "2YmNGzeipKQEQ4YMQVBQEDIyMtSckoiIVKJqYGRkZECj0WDfvn3QaDRobGxUczoiIlKRaoHR0dGB\n",
              "vLw8fPHFF9BoNAAAPz8/taYjIiKVqRYY1dXV8PHxQWZmJg4fPgwPDw8sX74cM2bMULyOH3PGYtaO\n",
              "U3tdauquc6DUawuu2DPgmn2zZ8egWmAYjUbU1dVh4sSJWLlyJU6fPo2UlBQUFBRg9OjRvY738BgM\n",
              "T093tcpTpC+XeLWXUaO87V1Cv3PFngHX7Js925dqgTF27FhotVosWLAAADBp0iSMHz8eFRUVigJD\n",
              "r+9CR4fBqrnd3LTw8en7m31zczuMRlOf19MfNJqbL6ymplaIi1xV1hV7Blyzb/as7lyjRysLJdUC\n",
              "Y+TIkZgxYwZKSkowa9Ys1NTUoLa2Fg888IDidVj7JNnyyR1oL06RgVdzX7liz4Br9s2e7UvVo6TW\n",
              "r1+P1atXm4+WeuONNzBmzBg1pyQiIpWoGhj33XcfcnJy1JyCiIj6CX/pTUREijAwiIhIEQYGEREp\n",
              "wsAgIiJFGBhERKQIA4OIiBRhYBARkSIMDCIiUoSBQUREijAwiIhIEQYGEREpwsAgIiJFLA6ML7/8\n",
              "Uo06iIjIwVkcGO+//z7Cw8Pxr3/9C21tbWrUREREDsjiwNixYwc2bdqEc+fOITw8HOvWrUNlZaUa\n",
              "tRERkQOxah/GpEmTkJ6ejo8++gjFxcWIjIxESkoKysvLbV0fERE5CKsuoHT48GHk5OSgoqICiYmJ\n",
              "iIuLw5EjR/DCCy9g//79tq6RiIgcgMWB8eSTT8LX1xdJSUkICwvDoEGDAADz5s1DXl6ezQskIiLH\n",
              "YHFgvP3225g8efJtl3300Ud9LoiIiByTxfswTp06hWvXrplvNzc3Izc315Y1ERGRA7I4MD7++GP4\n",
              "+PiYb/v6+uLjjz+2ZU1EROSALA4MEfnZfUaj0SbFEBGR47I4MPz8/FBYWGi+XVhYiHvuucemRRER\n",
              "keOxeKf36tWr8fzzzyMjIwMA4OHhgc2bN9u8MCIiciwWB8YDDzyAwsJCVFVVAQAmTJhgPrSWiIic\n",
              "l1U/3NNoNPD29obRaMTly5cBAOPGjbNpYURE5FgsDozdu3cjPT0dgwcPhkajAXAzQEpLS21eHBER\n",
              "OQ6LA2Pz5s3Iy8vDL3/5SzXqISIiB2XxUVK+vr4Wh0V+fj6CgoJw4MABS6cjIiIHYXFgzJ07F1u3\n",
              "bkVTUxPa2trM/91JbW0tdu3ahSlTpvSlTiIisjOLv5LatGkTAGDjxo3QaDQQEWg0Gpw5c+ZnjzWZ\n",
              "TFi7di3Wrl2Lt956q+/VEhGR3VgcGGfPnlX82OzsbAQHB9/xZIW9+XGfer+NU3tdauquc6DUawuu\n",
              "2DPgmn2zZ8dg1WG1J0+eRGVlJaKjo9HS0gK9Xv+zX3tXVFSgqKgI27dvt6owD4/B8PR0t2qsrfj6\n",
              "DrPr/NYYNcrb3iX0O1fsGXDNvtmzfVkcGP/+97+xc+dOdHR0IDo6GteuXcOaNWuQk5PT43HHjh1D\n",
              "XV0dwsPDAQCNjY2orKzElStXkJiY2Os8en0XOjoMlpYHAHBz08LHp+9v9s3N7TAaTX1eT3/QaG6+\n",
              "sJqaWnGb0305JVfsGXDNvtmzunONHq0slCwOjNzcXOTm5iIhIQEAcP/996O5uflnj0tMTOwRDElJ\n",
              "SUhOTsbcuXMVz2Xtk2TLJ3egvThFBl7NfeWKPQOu2Td7ti+Lj5Jyd3eHh4dHj/t4ahAiIudn8SeM\n",
              "kSNHoqqqyvwr7927d2Ps2LG9jvvpV1ZERDSwWHW22j/96U+4cOECZs2aBS8vL2RmZqpRGxERORCL\n",
              "AyMgIAC7du1CVVUVRIRnqyUichEWB0Z9fT0AYOjQoQDAs9USEbkIiwNj4cKF5l94GwwG6PV6+Pj4\n",
              "8Gy1REROzuLA+Prrr3vcLioqsujX30RENDBZfFjtT4WFhaG4uNgGpRARkSOz+BPGrWemNRqN+Pbb\n",
              "b9He3m7TooiIyPFYHBjTpk0z78MYNGgQAgICsGbNGjVqIyIiB6Lq2WqJiMh59HkfBhERuQaLP2E8\n",
              "+OCD5tOC3OpuF1IiIqKBz+LAePHFF2EwGLB48WIAwH/+8x94eHggOTnZ5sUREZHjsPgrqQMHDmDF\n",
              "ihXw9/eHv78/VqxYgf3798PT0xOenp5q1EhERA7A4sBob29HU1OT+XZTUxMPqyUicgEWfyWVkpKC\n",
              "qKgohISEAAC+/PJLLF++3OaFERGRY7E4MBISEhAcHIyysjIANwPkV7/6lc0LIyIix2JxYACAj48P\n",
              "AgMD8dhjj+HGjRvo7OyEu7u7rWsjIiIHYvE+jL1792LRokVYtWoVAKCyshJ//OMfbV4YERE5FosD\n",
              "IysrC7t378bw4cMB3PxdRvc1MoiIyHlZHBharRa+vr497hs8eLDNCiIiIsdkcWAMGzYMV69eNf/a\n",
              "u7S0FCNGjLB5YURE5Fgs3um9cuVKpKamoqamBosXL0ZtbS2ysrLUqI2IiByIRYFhMplgMpmwbds2\n",
              "HD9+HACg0+nM+zOIiMh5WRQYWq0WaWlp+PTTTzFr1iy1aiIiIgdk8T6MX/ziF/juu+/UqIWIiByY\n",
              "xfswrl27hujoaOh0uh4nG/z73/9u08KIiMixKA6MtLQ0bNiwATExMQgNDeWRUURELkZxYJw8eRIA\n",
              "EBMTg5iYGHzyySeqFUVERI7Hqku0ioit6yAiIgen+BOGXq9HeXk5RAQGg8H8d7cHH3ywx+MNBgNW\n",
              "rFiB8+fPY8iQIRg1ahTWrVuHgIAA21VPRET9RnFgGAwGPPfcc+bbt/6t0Wjw+eef/2zMokWLEBIS\n",
              "Ao1Gg+3bt2Pt2rXIycnpY8lERGQPigPj4MGDFq14yJAhPX6r8cgjj+Cf//ynResgIiLHYdX1MKyx\n",
              "bds2hIaGWjTmx9NVWczacWqvS03ddQ6Uem3BFXsGXLNv9uwY+iUwMjMzUV1dja1btyoe4+ExGJ6e\n",
              "9r0ok6/vMLvOb41Ro7ztXUK/c8WeAdfsmz3bl+qBsWXLFhQVFWHr1q0YOnSo4nF6fRc6OgxWzenm\n",
              "poWPT9/f7Jub22E0mvq8nv6g0dx8YTU1tcJVDmJzxZ4B1+ybPas71+jRykJJ1cDIzs5GQUEBsrOz\n",
              "rTpBobVPki2f3IH24hQZeDX3lSv2DLhm3+zZvlQLjEuXLmHjxo247777sHTpUgCAu7s7du3apdaU\n",
              "RESkItUCw9/fH+Xl5WqtnoiI+plVv/QmIiLXw8AgIiJFGBhERKQIA4OIiBRhYBARkSIMDCIiUoSB\n",
              "QUREijAwiIhIEQYGEREpwsAgIiJFGBhERKQIA4OIiBRhYBARkSL9dolWIiK6Pa1WA6329tdiHTSo\n",
              "9/+vN5kEJpP6F81gYBAR2ZFWq8EIH0+43SEYlFwq+obRhB+udageGgwMIiI70mo1cBukxf/t+AaV\n",
              "V9osHj/xHi/8LUEHrVbDwCAicgWVV9pwqr7F3mXcFXd6ExGRIgwMIiJShIFBRESKMDCIiEgRBgYR\n",
              "ESnCwCAiIkUYGEREpAgDg4iIFGFgEBGRIgwMIiJShIFBRESKqBoYFy9eREJCAsLDwxEbG4tz586p\n",
              "OR0REalI1cD485//jPj4eOzbtw+pqal4/fXX1ZyOiIhUpFpgNDU14eTJk4iMjAQAhIeH49KlS/ju\n",
              "u+/UmpKIiFSk2unNGxoa4OfnBze3m1NoNBqMHTsW9fX1CAgIULQOze0vQKV43MR7vKwa3z1OyZWu\n",
              "7kTE+vqtGdv9eDc3LUwm6+e2dn57jL+1Z7nlMgD9/dz39/g79d1f86sxtrfxd+u5P+ZXc3z3+0xf\n",
              "36+AvtWvhMNeD8PT0x2enu59WsffEnR9Gj98+NA+jbcHH5/er87lbFyxZ8A1+3bmnvv6fqXkynx9\n",
              "pdpXUmPHjkVjYyNu3LgBABARNDQ0YNy4cWpNSUREKlItMEaNGoVf//rX+PTTTwEA+/btw5gxYxR/\n",
              "HUVERI5FI3KnbwT77sKFC1i1ahWuXbuGYcOG4c0330RQUJBa0xERkYpUDQwiInIe/KU3EREpwsAg\n",
              "IiJFGBhERKQIA4OIiBRhYBARkSJOFxgD+Qy56enpCA0NRVBQEM6cOWO+/249qbGsPxkMBjz//PMI\n",
              "Dw9HZGQkUlJSzOcba2pqwu9//3uEhYUhIiICR48eNY9TY1l/euaZZ7BgwQJERUUhMTERp0+fBuDc\n",
              "27pbfn4+goKCcODAAQDOvZ1DQ0MRHh6OqKgoREVFobCwEMAA3s7iZJKSkiQ/P19ERPbs2SMLFy60\n",
              "c0XKHTlyRBoaGmT27Nly+vRp8/1360mNZf1Jr9dLcXGxmEwmERHJycmRJUuWiIjI66+/Lu+9956I\n",
              "iHz77bcyc+ZM6ezsVG1Zf/rhhx/MfxcVFcmCBQtExLm3tYhITU2NLFq0SOLj42X//v0i4tzb+af/\n",
              "lrsN1O3sVIFx9epV0el00tXVJSIiJpNJHn/8cbl48aKdK7PMrS+yu/WkxjJ7O3HihMyePVtERKZM\n",
              "mSJXrlwxL4uNjZWvvvpKtWX2kp+fL5GRkU6/rY1GoyQnJ8v//vc/WbJkiTkwnHk73y4wBvJ2dtiT\n",
              "D1rDFmfIdTR368nb29vmy+z9PG3btg2hoaFobm5GV1cX/Pz8zMvuvfde1NfXq7LMHl599VWUlZUB\n",
              "ALKyspx+W2dnZyM4OBiTJ0823+cq2xkAHn74YaxcuXJAb2en24dBA1dmZiaqq6vx8ssv27uUfvHX\n",
              "v/4Vhw4dwksvvYSMjAx7l6OqiooKFBUV4bnnnrN3Kf1q+/bt+Oyzz7B79274+vritddes3dJfeJU\n",
              "geGMZ8i9W09qLLOXLVu2oKioCB9++CGGDh0KX19fuLm5obGx0fyYuro6jBs3TpVl9hQTE4OysjL4\n",
              "+/s77bY+duwY6urqEB4ejtDQUPz3v/9FWloa9uzZ49TbuXvOwYMHIzk5GceOHRvQ/6adKjCc8Qy5\n",
              "d+tJjWX2kJ2djYKCAmRnZ2P48OHm++fNm4cdO3YAAE6cOIHLly9j+vTpqi3rLy0tLbh8+bL59oED\n",
              "B+Dj4+PU2zoxMRElJSU4ePAgDh48iClTpmDDhg1ITEx02u3c0dGBlpYW8+2CggJMmjRpYG9nm+4R\n",
              "cQDnz5+X+Ph4CQsLk5iYGDl79qy9S1IsLS1NZs6cKQ899JDMmDFD5s6dKyJ370mNZf2poaFBAgMD\n",
              "Zc6cORIZGSmRkZESFxcnIiKNjY2SkpIiv/vd72T+/PlSWlpqHqfGsv5SW1srsbGxEhERIQsWLJDk\n",
              "5GTzjlFn3ta3unWnt7Nu5+rqaomKipKIiAiJiIiQZcuWSU1NjYgM3O3Ms9USEZEiTvWVFBERqYeB\n",
              "QUREijAwiIhIEQYGEREpwsAgIiJFGBhERKQIA4OIiBRhYBARkSIMDCIiUoSBQUREijAwiIhIkf8H\n",
              "g3oCq5sztnwAAAAASUVORK5CYII=\n",
              "\">\n",
              "        \n",
              "      </div>\n",
              "      <script></script>\n",
              "      <script type=\"text/javascript\">\n",
              "        (() => {\n",
              "          const chartElement = document.getElementById(\"chart-7c4a8599-5265-40ae-a7ab-90beada8dd10\");\n",
              "          async function getCodeForChartHandler(event) {\n",
              "            const chartCodeResponse =  await google.colab.kernel.invokeFunction(\n",
              "                'getCodeForChart', [\"chart-7c4a8599-5265-40ae-a7ab-90beada8dd10\"], {});\n",
              "            const responseJson = chartCodeResponse.data['application/json'];\n",
              "            await google.colab.notebook.addCell(responseJson.code, 'code');\n",
              "          }\n",
              "          chartElement.onclick = getCodeForChartHandler;\n",
              "        })();\n",
              "      </script>\n",
              "      <style>\n",
              "        .colab-quickchart-chart-with-code  {\n",
              "            display: block;\n",
              "            float: left;\n",
              "            border: 1px solid transparent;\n",
              "        }\n",
              "\n",
              "        .colab-quickchart-chart-with-code:hover {\n",
              "            cursor: pointer;\n",
              "            border: 1px solid #aaa;\n",
              "        }\n",
              "      </style>"
            ]
          },
          "metadata": {}
        },
        {
          "output_type": "display_data",
          "data": {
            "text/plain": [
              "<google.colab._quickchart_helpers.SectionTitle at 0x7d28a6c85f00>"
            ],
            "text/html": [
              "<h4 class=\"colab-quickchart-section-title\">Categorical distributions</h4>\n",
              "<style>\n",
              "  .colab-quickchart-section-title {\n",
              "      clear: both;\n",
              "  }\n",
              "</style>"
            ]
          },
          "metadata": {}
        },
        {
          "output_type": "display_data",
          "data": {
            "text/plain": [
              "import numpy as np\n",
              "from google.colab import autoviz\n",
              "\n",
              "def categorical_histogram(df, colname, figscale=1, mpl_palette_name='Dark2'):\n",
              "  from matplotlib import pyplot as plt\n",
              "  import seaborn as sns\n",
              "  df.groupby(colname).size().plot(kind='barh', color=sns.palettes.mpl_palette(mpl_palette_name), figsize=(8*figscale, 4.8*figscale))\n",
              "  plt.gca().spines[['top', 'right',]].set_visible(False)\n",
              "  return autoviz.MplChart.from_current_mpl_state()\n",
              "\n",
              "chart = categorical_histogram(_df_2, *['index'], **{})\n",
              "chart"
            ],
            "text/html": [
              "      <div class=\"colab-quickchart-chart-with-code\" id=\"chart-eb1085eb-c42f-4d4f-9b8e-5deb1c0d1f4d\">\n",
              "        <img src=\"data:image/png;base64,iVBORw0KGgoAAAANSUhEUgAAAX4AAADgCAYAAAAEwQ17AAAAOXRFWHRTb2Z0d2FyZQBNYXRwbG90\n",
              "bGliIHZlcnNpb24zLjcuMSwgaHR0cHM6Ly9tYXRwbG90bGliLm9yZy/bCgiHAAAACXBIWXMAAA9h\n",
              "AAAPYQGoP6dpAAAd80lEQVR4nO3de3BU5f3H8ffZBKKES1aCEDAyQpGLaLGAQS7WBgolMYnB4I1L\n",
              "pQpYqECwRe4KSokptGiRy1CUImI7QCBci1KsYhFUwFZaQMQSIAkNhI0hCSTZ3fP7A7MjP9u6G7KX\n",
              "7Pm8Znamm5yzfr9D+snJc87zPIZpmiYiImIZtmAXICIigaXgFxGxGAW/iIjFKPhFRCxGwS8iYjEK\n",
              "fhERi1Hwi4hYjIJfRMRiIoNdQDC53W6Ki8uDXUZA3HBDNBcuqNdwo17D07X02qJFk289xtJX/Dab\n",
              "DcMIdhX+ZxgQEaFew416DU+B6NXSwS8iYkUKfhERi1Hwi4hYjKVv7sKVsTSrUK/hSb2KrwwrL8ts\n",
              "mm4MQz9IIhJaTLcLR8klXC7f49mbp3osfcVvGDYKl4+gquBIsEsREQGgYevOxI19HcMwAP9cl1s6\n",
              "+AGqCo5QmXco2GWIiARMvRjnOHPmDG+++eb/PGbIkCHs378/QBWJiNRf9SL48/Pz+cMf/hDsMkRE\n",
              "wkLIDfVcvnyZqVOn8tlnnxEZGUlsbCwFBQUUFBSQlpZGXFwcy5Yt4+DBg8yZMweXy8Xtt9+Oy+UK\n",
              "dukiInXGMPDb7N2QC/49e/Zw8eJFtm/fDkBJSQnHjh3jl7/8Jbm5uQBUVVWRmZnJ/Pnz6d27N++/\n",
              "/z45OTnBLFtEpE7FxET77bNDLvg7derEiRMneO6557jrrru45557vnHMF198QUREBL179wagb9++\n",
              "xMfHB7pUERG/KSkpx+l0+3xebGw9XKQtPj6ebdu20a9fPw4ePEhKSgqlpaXfep5hhdWbRMQyTLN2\n",
              "L2+EXPCfPXsWwzDo378/U6ZMwTRNYmJiuHjxoueYdu3a4XK52LdvHwB79+7l1KlTwSpZRKReCbmh\n",
              "nmPHjvHrX/8a0zRxuVykpaVx55130qFDB+677z5uuukmli1bxm9+8xvmzJmD2+2ma9eudOrUKdil\n",
              "i4jUC5ZesgHQzF0RCSk1M3cdjtqN8XuzZIOlg19r9YhIKNJaPX5kGDYcDmts5Wa3R6vXMKRew5Pd\n",
              "Ho3b7b9rcksHP4DL5fb6Tnh9VfPAk3oNL+o1PAXiAUWNc4iIWIyCX0TEYhT8IiIWo+AXEbEYBb+I\n",
              "iMUo+EVELEbBLyJiMZZ/jj8iwjq/+9RreFKv4itLL9ngNk1sWs5ZREKMy+3my5IKLdngDzbD4Kl3\n",
              "/8DxL4uCXYqICAAdmt3Ib7//8Fd7jPjnutzSwQ9w/MsiDhcXBLsMEZGAqVcDZv/+97959NFHg12G\n",
              "iEi9Vq+Cv2XLlqxduzbYZYiI1GshEfwdO3Zk6dKlDB06lMTERHbt2sXy5csZMmQIAwcOZP/+/QCc\n",
              "OXOGHj16XHXesmXLyMjIIDExkQ0bNgSrBRGROmUYtXt5I2TG+Bs1asS6dev44IMPGDduHLNmzSIn\n",
              "J4cdO3aQnZ39X0O9YcOGrF+/nhMnTpCRkUFaWhqRkSHTlohIrcTERPvts0MmIZOSkgDo2rUrFRUV\n",
              "JCcnA3DHHXeQl5f3X89LSUkBoH379kRGRnL+/HlatWrl/4JFRPyopKR2Wy/GxtajxzmjoqIAsNls\n",
              "V72PiIjA5XJ963k15zqdTj9WKSISGKaJ3zadCYkxfhERCRwFv4iIxVh6yQZAM3dFJKTUzNx1OGo3\n",
              "xu/Nkg2WDn6t1SMioUhr9fiRzTBwOMqDXUZA2O3R6jUMqdfwZLdH43b775rc0sEP4HK5/XbnPFTU\n",
              "/FGjXsOLeg1PgRiE0M1dERGLUfCLiFiMgl9ExGIU/CIiFqPgFxGxGAW/iIjFKPhFRCzG8s/xR0RY\n",
              "53efeg1P6lV8ZeklG0zTjWHoB0lEQotpunA4LmnJBn8wDBuO/SNwXjwS7FJERACIbNIZe8LrGIYB\n",
              "+Oe63NLBD+C8eARnyaFglyEiEjAa5xARsRgFv4iIxfhtqKdjx45MmjSJ3bt3U1xczPTp0zlx4gQ7\n",
              "d+6krKyM559/noSEBAD27NnDkiVLqKysxGaz8fOf/5xevXpx7tw5Jk+eTHl5OZWVlSQkJDBz5kxs\n",
              "Nhs5OTls3ryZG264gePHj9OgQQNeeukl4uPj/dWSiEjAGIb/Vur06xh/o0aNWLduHR988AHjxo1j\n",
              "1qxZ5OTksGPHDrKzs9mwYQOnT59m8eLFrFy5ksaNG5OXl8ewYcPYvXs3TZs2ZdmyZURHR+NyuRg3\n",
              "bhw7duwgOTkZgE8//ZRNmzYRHx/PggULWLFiBXPnzvVnSyIiARETE+23z/Zr8CclJQHQtWtXKioq\n",
              "PIF9xx13kJeXB8B7773nCfsahmFQUFBAy5YtWbBgAQcOHMA0TS5cuECHDh08n9OtWzfPFX63bt1Y\n",
              "s2aNP9sREQmYkpLabb0YGxvkxzmjoqIAsNlsV72PiIjA5XJ5juvTpw8LFy78xvlLliyhuLiYdevW\n",
              "ERUVxfz586msrPzG5/+nzxQRqc9ME79tOhP0m7t9+/Zl7969HD161PO1v//97wCUlpbSokULoqKi\n",
              "OHfuHH/605+CVaaISNgI+nP8bdu2ZeHChTz77LNcunSJ6upqunTpwsKFCxk5ciQTJkwgOTmZG2+8\n",
              "kd69ewe7XBGRes/SSzYAmrkrIiGlZuauw1G7MX5vlmywdPBrrR4RCUVaq8ePDMOGw1Ee7DICwm6P\n",
              "Vq9hSL2GJ7s9Grfbf9fklg5+AJfL7bc756GiZhKIeg0v6jU8+WvS1tdpnENExGIU/CIiFqPgFxGx\n",
              "GAW/iIjFKPhFRCxGwS8iYjEKfhERi1Hwi4hYjOUncEVEWOd3n3oNT+pVfKW1erRWj4iEGLfpokRr\n",
              "9fiHYdhYuXcihaWfB7sUEREA4pp+h8d7v4RhGIB/rsstHfwAhaWfc9pxONhliIgEjMY5REQspk6C\n",
              "v6qqyudzOnbsyNKlSxk6dCiJiYns2rWL5cuXM2TIEAYOHMj+/fsBcDqdPP744wwZMoTk5GSefvpp\n",
              "KioqANi8eTNDhgyhqqoK0zR58sknWbp0aV20JCISVIZRu5c3fA7+0aNHU1JS4nl/6tQpHn74YV8/\n",
              "BoBGjRqxbt065s2bxy9+8QtatGhBTk4OmZmZZGdnA1c2UV+wYAE5OTls3bqVxo0bs2bNGgBSU1Pp\n",
              "2rUrWVlZrFy5EqfTyZNPPlmrWkREQklMTDSxsU18fnnD5zH+Xr16kZGRwa9+9SsKCwvJzs5m6tSp\n",
              "PjcFkJSUBEDXrl2pqKggOTkZgDvuuIO8vDwATNNk1apVvPvuu7hcLi5evMidd97p+YwZM2YwdOhQ\n",
              "SktLycnJ+eqGiIhI/VZSUrutF70Jf5+D//HHH+f2229n5MiRxMTEsHbtWuLj430uDiAqKgoAm812\n",
              "1fuIiAhcLhcAW7ZsYf/+/axZs4bGjRuzevVq9u3b5/mM4uJiSktLcbvdXLx4kRtuuKFWtYiIhBLT\n",
              "xG+bzvg81HPmzBmys7NJT0+nTZs2LF26lMrKSn/UBkBpaSkxMTE0btyYsrIyNm7c6Pme0+lk8uTJ\n",
              "TJw4kalTpzJp0qRa3W8QEbESn4N/2LBhjBo1irlz5/LGG2/QrFkzMjIy/FEbAPfffz+XL19m0KBB\n",
              "jB49mu7du3u+t3DhQm655RbS09NJSkqiW7duzJs3z2+1iIiEA59n7v7rX//illtuueprf/nLX7j3\n",
              "3nvrsq6A0QQuEQklNRO4HI7ajfF7M3PX5+B3Op2sXr2avLw85syZw6lTp8jPz+fuu+/2ucBg05IN\n",
              "IhKKQm7Jhrlz5+J2uzlw4AAAMTExTJo0iZycHJ8LDDbDsOFwlAe7jICw26PVaxhSr+HJbo/G7fbf\n",
              "Mmo+B//f/vY3cnNzuf/++wFo2rQpTqezrusKGJfL7bc756Gi5glX9Rpe1Gt4CsQT6T6Pc9Q8clnD\n",
              "5XJh4QU+RUTqHZ+v+Dt27Ehubi5ut5u8vDxWrFjBXXfd5Y/aRETED3y+4p86dSoHDhzg/PnzPPLI\n",
              "I9hsNp5++ml/1CYiIn5g6Y1YAM6fv2iJMcPY2CbqNcyo1/B0rb3W6VM9mzZt+p/fr7nZKyIioc3r\n",
              "4N+9ezcA5eXlfPjhh3Tv3h3DMDhw4AA9e/ZU8IuI1BNeB//LL78MwPjx49mwYQO33norAMePH/d8\n",
              "T0REQp/PN3dPnTrlCX2ADh06cPLkybqsSURE/Mjnxzmjo6PJyckhPT0dgI0bNxIdHV3nhQVKRIR1\n",
              "lmxQr+FJvYqvfH6q54svvmDKlCkcPXoUgC5dupCVlUW7du38UqA/mW4Tw6aNW0QktJguN44vK/y2\n",
              "Vk+tH+csKysDoHHjxrU5PWSUTNmK80RxsMsQEQEgsn1zYrLv8+vqnD4P9QAUFRVx5swZzy5ZAD17\n",
              "9qzNR9WJVatWkZycTIsWLXw+13miGOeRIj9UJSISmnwO/qVLl7Jy5Uri4+M9WyYahsH69evrvDhv\n",
              "rV69moSEhFoFv4iI1fgc/Bs2bODtt9/Gbrd/67GHDh0iOzub8vJyTNNk4sSJtGzZknnz5lFeXk5U\n",
              "VBTTpk2je/funDlzhvvvv5+PP/4YuDJf4Hvf+x7Hjh0DrqwRlJmZya5du7hw4QLjx4/ngQceYPHi\n",
              "xRQVFTFp0iSuu+46srKy6Ny5s69tiYiEFMPw30qdPgd/bGysV6FfUlLC+PHjefnll+nRowdutxuH\n",
              "w8EDDzzA888/T79+/fj444+ZMGECb731llf/7YYNG7J+/XpOnDhBRkYGaWlp/OxnPyMnJ4dFixYp\n",
              "8EUkbMTE+O9pSZ+Dv3fv3sybN4+UlBQaNmzo+XqnTp2uOu6TTz7hlltuoUePHgDYbDbOnz+PzWaj\n",
              "X79+APTo0YPmzZtz5MgRWrVq9a3/7ZSUFADat29PZGQk58+f9+o8EZH6pqSkdjd3Y2P9cHO3Zs2e\n",
              "P//5z56vGYZx1XtfGF/9LRMZGXnVzeLKyspvHPv1vQBsNlu93gBGROR/MU38tiCdz8Ffs2bPt7nz\n",
              "zjvJy8vj448/9gz1xMbG4na7+etf/0qfPn04ePAg58+fp3Pnzp5Q//zzz/nOd75Dbm6u1zVFR0dz\n",
              "8eJFX1sREbEkr4O/oqKCRo0aeZ7f///+//P8zZo1Y/HixWRlZVFeXo7NZmPixIn89re/Zd68eWRl\n",
              "ZREVFcVLL73kmfk7c+ZMxo4dS0xMDIMGDfK6iZEjRzJr1izd3BUR8YLXE7jS09PZuHEjnTp1wjCM\n",
              "q7ZbNAyDI0eO+K1If9IELhEJJYGYwGXpjVi0ZIOIhCJ/L9lQq5m74cKwGTgc5cEuIyDs9mj1GobU\n",
              "a3iy26Nxu/13TW7p4AdwudyW2MoN1Gu4Ua/hyV+Ttr5Oa5yKiFiMgl9ExGIU/CIiFqPgFxGxGAW/\n",
              "iIjFKPhFRCxGwS8iYjEKfhERi7H8BK6ICOv87lOv4Um9iq+svVaPaXr2AxARCRVut0lJSbnW6vEH\n",
              "wzB48/VDFBVpLX8RCQ033tiER0bc+dVFqX+uy4MS/A6Hg8cee8zz/vLly5w+fZq9e/fy1FNPkZ+f\n",
              "T5MmV35rpaene46dPXs2hw4dwm6388orr9CkSRNM02T06NHMnj2bm2++2edaiooukn+mtC7aEhGp\n",
              "F4IS/Ha7/aodtlauXMlHH31ETEwMANOnT2fAgAFXnfPZZ59x8uRJtmzZwuLFi8nNzWX48OGsW7eO\n",
              "hISEWoW+iIgVhcSdkvXr15ORkfE/j4mMjKSqqgq3282lS5do0KABRUVFbN26lVGjRgWoUhGR+i/o\n",
              "wX/w4EFKS0u59957PV9bsGABKSkpTJo0idOnTwPQrl07EhISSE9P5/Tp06SmpjJ//nymTJlCZKSl\n",
              "b1WISBgyjNq9vBH0xFy/fj1paWme8M7OziYuLg7TNHnjjTcYO3Ys27dvByAzM5PMzEwAdu3aRatW\n",
              "rWjTpg3Tpk2jrKyMwYMHk5SUFLReRETqSkxMtN8+O6jBX15ezo4dO1i/fr3na3FxccCVJ26GDx/O\n",
              "iy++iMPhwG63e44pKyvj1VdfZeXKlSxfvpyePXuSmppKWloaiYmJXHfddQHvRUSkLpWU1G7P3djY\n",
              "b3+cM6hDPdu3b6dTp060b98eAKfTyfnz5z3f37lzJ7GxsVeFPlwZCho/fjzXX389ly5dwjAMDMPA\n",
              "6XRSXV0d0B5ERPzBNGv38kZQr/g3bNjA0KFDPe+rqqoYM2YM1dXVGIaB3W5n6dKlV51z4MABKisr\n",
              "6dOnDwDDhg1j8uTJrFixgtTUVM9joCIi8p9ZeuYuoAlcIhJSaiZwORy1G+rxZuaupYNfSzaISCjS\n",
              "kg1+ZBgGDkd5sMsICLs9Wr2GIfUanuz2aNxu/12TWzr4AVwut9c3ROqrmj9q1Gt4Ua/hKRCDEEGf\n",
              "wCUiIoGl4BcRsRgFv4iIxSj4RUQsRsEvImIxCn4REYtR8IuIWIyCX0TEYiw/gSsiwjq/+9RreFKv\n",
              "4iuLr9XjxjD0gyQiocV0u3CUXNJaPf5gGDYKl4+gquBIsEsREQGgYevOxI19/asFJP1zXR604E9M\n",
              "TKRBgwae3bLGjh1LUlISJ0+eZOrUqTgcDho3bkxWVhYdOnSgurqaiRMncubMGW6++WYWLVpEZGQk\n",
              "lZWV/OQnP2HJkiU0a9bM5zqqCo5QmXeortsTEQlZQR3nWLRoEbm5ueTm5nr2yp09ezYPPvggO3fu\n",
              "ZPTo0UydOhWA999/n2bNmrF582aaNGnCnj17AFiyZAnDhg2rVeiLiFhRSA1wFxcXc/jwYVJTUwEY\n",
              "NGgQZ8+eJS8vj8jISC5fvgzA5cuXadCgAUePHuWLL77QBusiIj4IavBPmTKFlJQUpk+fzoULFygs\n",
              "LKRFixZERl4ZgTIMg7i4OAoKCujTpw/R0dGe7RV79epFVlYWM2bMCGYLIiJ+YRi1e3kjaGP8a9as\n",
              "oXXr1lRXV7No0SKeeeYZJk6c+F+Pt9lsvPDCC573q1atYsCAATidTp5++mmqqqp49NFHufvuuwNR\n",
              "voiIX8XERPvts4MW/K1btwagQYMG/PjHP2bQoEHExcVx7tw5nE4nkZGRmKZJYWGh59ga+fn5vPfe\n",
              "e/zud7/jmWee4cEHH+S2227joYceYtu2bcFoR0SkTpWU1G7P3djYb3+cMyhDPRUVFZSWlnreb9u2\n",
              "jS5dutC8eXNuu+02Nm/eDMDOnTtp2bIlbdu2ver8efPmMW3aNGw2G5cuXcIwDM//FhEJB6ZZu5c3\n",
              "gnLFX1xczFNPPYXL5QLgpptu4sUXXwRgzpw5TJs2jeXLlxMdHc38+fOvOnfLli106tSJDh06ADBm\n",
              "zBhmzpxJdXU1P/3pTwPbiIhIPWTpmbuAJnCJSEipmcDlcNRuqMebmbuWDn4t2SAioUhLNviRYdhw\n",
              "OMqDXUZA2O3R6jUMqdfwZLdH43b775rc0sEP4HK5vb4hUl/VPNurXsOLeg1P3j6Lfy00ziEiYjEK\n",
              "fhERi1Hwi4hYjIJfRMRiFPwiIhaj4BcRsRgFv4iIxSj4RUQsxvITuCIirPO7T72GJ/UqvrL0Wj1u\n",
              "08QWiGlyIiI+cLndfFlSobV6/MFmGDz17h84/mVRsEsREQGgQ7Mb+e33H8YwDMA/1+VBCf7Kykoy\n",
              "MzM5ceIEUVFRNG/enOeee462bdsyYsQI8vPzadLkym+t9PR0HnvsMQBmz57NoUOHsNvtvPLKKzRp\n",
              "0gTTNBk9ejSzZ8/m5ptv9rmW418Wcbi4oC7bExEJaUG74n/ooYe45557MAyDNWvWMHPmTF5//XUA\n",
              "pk+fzoABA646/rPPPuPkyZNs2bKFxYsXk5uby/Dhw1m3bh0JCQm1Cn0RESsKyp2SqKgovv/973/1\n",
              "pwx897vfJT8//3+eExkZSVVVFW63m0uXLtGgQQOKiorYunUro0aNCkTZIiJhISRuka9evZrExETP\n",
              "+wULFpCSksKkSZM4ffo0AO3atSMhIYH09HROnz5Namoq8+fPZ8qUKURGWvpWhYiEIcOo3csbQU/M\n",
              "ZcuWcerUKVatWgVAdnY2cXFxmKbJG2+8wdixY9m+fTsAmZmZZGZmArBr1y5atWpFmzZtmDZtGmVl\n",
              "ZQwePJikpKRgtSIiUmdiYqL99tlBDf6VK1fy1ltvsWrVKq6//noA4uLiADAMg+HDh/Piiy/icDiw\n",
              "2+2e88rKynj11VdZuXIly5cvp2fPnqSmppKWlkZiYiLXXXddUPoREakrJSW123M3NvbbH+cM2lDP\n",
              "a6+9xrZt23jttddo2rQpAE6nk/Pnz3uO2blzJ7GxsVeFPlwZCho/fjzXX389ly5dwjAMDMPA6XRS\n",
              "XV0d0D5ERPzBNGv38kZQrvjPnj1LVlYW8fHxjBw5EoCGDRvy+9//njFjxlBdXY1hGNjtdpYuXXrV\n",
              "uQcOHKCyspI+ffoAMGzYMCZPnsyKFStITU31PAYqIiL/maVn7gL8aPPLeo5fREJG1+at+VPqBByO\n",
              "2g31aOauFzo0uzHYJYiIeAQikyx9xa+1ekQkFGmtHj+yGQYOR3mwywgIuz1avYYh9Rqe7PZo3G7/\n",
              "XZNbOvgBXC6313fC66uaP2rUa3hRr+EpEIMQITFzV0REAkfBLyJiMZa+uSsiYkW64hcRsRgFv4iI\n",
              "xSj4RUQsRsEvImIxCn4REYtR8IuIWIyCX0TEYhT8IiIWo+AXEbEYBb+IiMWEffCfPHmShx9+mEGD\n",
              "BvHAAw9w/Pjx/3jcunXrGDhwIAMGDGDmzJn1cu9eb3r94IMPyMjIICkpieTkZLKzs3G7fd/lJ9i8\n",
              "/XcFME2TkSNH0qNHjwBWWHe87fXYsWOMGDGCwYMHM3jwYN56660AV3rtvOnV7XYzf/58kpKSSElJ\n",
              "YcSIEeTl5QWh2tp74YUXSExMpGPHjhw5cuS/Hue3XDLD3IgRI8wNGzaYpmmaO3bsMIcMGfKNY06d\n",
              "OmX26dPHLCoqMt1utzl27FhzzZo1gS71mnnT6z/+8Q/z1KlTpmma5uXLl82HH37Yc0594k2vNV59\n",
              "9VVzxowZZvfu3QNVXp3ypteKigozMTHR/Oijj0zTNE2n02kWFxcHtM664E2vb7/9tpmRkWFWVVWZ\n",
              "pmmar7zyijlhwoSA1nmtPvzwQ7OwsND8wQ9+YP7zn//8j8f4M5fC+oq/uLiYw4cPk5qaCsCgQYM4\n",
              "e/bsN64Odu7cSWJiIi1atMAwDB555BG2bt0ajJJrzdteu3TpQnx8PABRUVF07tyZ/Pz8gNd7Lbzt\n",
              "FeD48ePs2rWLMWPGBLrMOuFtr1u3bqVbt26ev2oiIiK44YYbAl7vtfDl37WqqorKykpM06SsrIxW\n",
              "rVoFutxr0rNnz2+t2Z+5FNbBX1hYSIsWLYiMvLLfjGEYxMXFUVBQ8I3j2rRp43nfpk0bCgsLA1rr\n",
              "tfK21687d+4cO3fu5N577w1QlXXD216rq6uZNWsWc+fOxWarnz/q3vb6+eef07BhQ8aOHUtaWhpT\n",
              "pkzhwoULwSi51rztNTExkbvuuou+ffvSt29f9u3bx4QJE4JRsl/5M5fq5/8b5JqVlZXx5JNP8sQT\n",
              "T3D77bcHuxy/WLx4MT/84Q9p3759sEvxO5fLxd69e5k7dy6bNm2iZcuWPPfcc8Euyy8OHz7M8ePH\n",
              "ee+999izZw+9evXi2WefDXZZ9UpYB39cXBznzp3D6XQCV27yFRYW0rp1628c9/Xhjvz8fOLi4gJa\n",
              "67Xytle4EvpPPPEE/fv3Z9SoUYEu9Zp52+tHH33EmjVrSExM5NFHH6WsrIzExMR6dSXsy89wQkIC\n",
              "LVu2xDAMUlNT+eSTT4JQce152+umTZvo1asXTZs2xWazkZ6ezv79+4NRsl/5M5fCOvibN2/Obbfd\n",
              "xubNm4ErY2YtW7akbdu2Vx03aNAgdu/ezblz5zBNkzfffJPk5ORglFxr3vZaXl7OE088Qd++fRk3\n",
              "blwwSr1m3va6du1a3nnnHXbv3s3atWtp3Lgxu3fvrldj3972OnjwYD799FPKysoAePfdd+nUqVPA\n",
              "670W3vYaHx/Pvn37qKqqAuCdd97h1ltvDXi9/ubXXKqTW8Qh7MSJE+aDDz5oDhw40ExPTzePHj1q\n",
              "mqZpTp8+3dy1a5fnuD/+8Y9m//79zf79+5vTpk3zPDFQn3jT65IlS8wuXbqYqampnteSJUuCWXat\n",
              "ePvvWuP06dP19qkeb3vduHGjmZycbN53333m448/bhYUFASr5FrzptfKykpzxowZ5o9+9CPzvvvu\n",
              "M0eNGuV5Uq2+mDVrltmvXz+zc+fO5t13320OGDDANM3A5ZK2XhQRsZiwHuoREZFvUvCLiFiMgl9E\n",
              "xGIU/CIiFqPgFxGxGAW/iIjFKPhFRCxGwS8iYjEKfhERi1Hwi4hYzP8Bu+UTAdQaBMMAAAAASUVO\n",
              "RK5CYII=\n",
              "\">\n",
              "        \n",
              "      </div>\n",
              "      <script></script>\n",
              "      <script type=\"text/javascript\">\n",
              "        (() => {\n",
              "          const chartElement = document.getElementById(\"chart-eb1085eb-c42f-4d4f-9b8e-5deb1c0d1f4d\");\n",
              "          async function getCodeForChartHandler(event) {\n",
              "            const chartCodeResponse =  await google.colab.kernel.invokeFunction(\n",
              "                'getCodeForChart', [\"chart-eb1085eb-c42f-4d4f-9b8e-5deb1c0d1f4d\"], {});\n",
              "            const responseJson = chartCodeResponse.data['application/json'];\n",
              "            await google.colab.notebook.addCell(responseJson.code, 'code');\n",
              "          }\n",
              "          chartElement.onclick = getCodeForChartHandler;\n",
              "        })();\n",
              "      </script>\n",
              "      <style>\n",
              "        .colab-quickchart-chart-with-code  {\n",
              "            display: block;\n",
              "            float: left;\n",
              "            border: 1px solid transparent;\n",
              "        }\n",
              "\n",
              "        .colab-quickchart-chart-with-code:hover {\n",
              "            cursor: pointer;\n",
              "            border: 1px solid #aaa;\n",
              "        }\n",
              "      </style>"
            ]
          },
          "metadata": {}
        },
        {
          "output_type": "display_data",
          "data": {
            "text/plain": [
              "<google.colab._quickchart_helpers.SectionTitle at 0x7d28a6bcf0a0>"
            ],
            "text/html": [
              "<h4 class=\"colab-quickchart-section-title\">2-d distributions</h4>\n",
              "<style>\n",
              "  .colab-quickchart-section-title {\n",
              "      clear: both;\n",
              "  }\n",
              "</style>"
            ]
          },
          "metadata": {}
        },
        {
          "output_type": "display_data",
          "data": {
            "text/plain": [
              "import numpy as np\n",
              "from google.colab import autoviz\n",
              "\n",
              "def scatter_plot(df, x_colname, y_colname, figscale=1, alpha=.8):\n",
              "  from matplotlib import pyplot as plt\n",
              "  plt.figure(figsize=(6 * figscale, 6 * figscale))\n",
              "  df.plot(kind='scatter', x=x_colname, y=y_colname, s=(32 * figscale), alpha=alpha)\n",
              "  plt.gca().spines[['top', 'right',]].set_visible(False)\n",
              "  plt.tight_layout()\n",
              "  return autoviz.MplChart.from_current_mpl_state()\n",
              "\n",
              "chart = scatter_plot(_df_3, *['ride_id', 'max_capacity'], **{})\n",
              "chart"
            ],
            "text/html": [
              "      <div class=\"colab-quickchart-chart-with-code\" id=\"chart-d4608612-2feb-483e-95b7-0f007ce4db3f\">\n",
              "        <img src=\"data:image/png;base64,iVBORw0KGgoAAAANSUhEUgAAAnwAAAHcCAYAAABMGXclAAAAOXRFWHRTb2Z0d2FyZQBNYXRwbG90\n",
              "bGliIHZlcnNpb24zLjcuMSwgaHR0cHM6Ly9tYXRwbG90bGliLm9yZy/bCgiHAAAACXBIWXMAAA9h\n",
              "AAAPYQGoP6dpAAAmYElEQVR4nO3de5DddX3/8ddJdpckuwmEZAkJl6gzNAhq0EKrtpoaHRapBEks\n",
              "ZKIYq1WnKkVHDEkJoC0Va7EjIo6X4YdKVEYa1DgoCchga7UaixKpIFSaBJJNTNaFJGwum+T8/kAW\n",
              "qRXOHs7JnnzyeMzsDHs+3z372fPOSZ58z2Ur1Wq1GgAAijVqpDcAAEBzCT4AgMIJPgCAwgk+AIDC\n",
              "CT4AgMIJPgCAwgk+AIDCCT4AgMIJPgCAwrWN9AZayY4du7Jz52BNxx55ZGd+/evHmrwjhsNMWo+Z\n",
              "tCZzaT1m0noOlpl0d4+v6Thn+H7LqFG13RyVSjJ69KhUKk3eEDUzk9ZjJq3JXFqPmbSeEmci+AAA\n",
              "Cif4AAAKJ/gAAAon+AAACif4AAAKJ/gAAAon+AAACif4AAAKJ/gAAAon+AAACif4AAAKJ/gAAAon\n",
              "+AAACif4AAAK1zbSGwAAKMnq9f1Zfndv1vfvzPETx2bezKk57fiJI7onwQcA0CCr1/fnH1Y9kJ2D\n",
              "+zKmbVR+8vCjuW/zjlxy+gkjGn0e0gUAaJDld/dm5+C+HNXVkcPHtueoro7sHNyXm+/uHdF9CT4A\n",
              "gAZZ378zY9pGpVKpJEkqlUrGtI3Kuv6dI7ovwQcA0CDHTxybXXv3p1qtJkmq1Wp27d2f6RPHjei+\n",
              "BB8AQIPMmzk1Y9tH51c79uTRnYP51Y49Gds+OvNmTh3RfQk+AIAGOe34ibnk9BPykmMPT+dhbXnJ\n",
              "sYdn6el/kFOPP2JE9+VVugAADXTa8RNH/G1Y/jdn+AAACif4AAAKJ/gAAAon+AAACtf0F23Mnj07\n",
              "7e3tGTNmTJLkne98Z84888ysXbs2ixcvTn9/f7q6uvKRj3wkJ5xwQpI0ZQ0A4FB1QM7wffzjH883\n",
              "vvGNfOMb38iZZ56ZJLnsssty7rnnZuXKlXn729+exYsXDx3fjDUAgEPViDyk29fXl3vuuSdz5sxJ\n",
              "kvT09GTTpk1Zt25dU9YAAA5lB+R9+BYtWpQkeeELX5iLLroovb296e7uTlvb49++Uqlk6tSp2bhx\n",
              "Y8aPH9/wtenTp9e819/86ruajqnlWA4MM2k9ZtKazKX1mEnrKXEmTQ++ZcuWZdq0aRkcHMzHP/7x\n",
              "XHzxxbnwwgub/W3rMmZMe8aN66j5+EmTxjdxN9TDTFqPmbQmc2k9ZtJ6SppJ04Nv2rRpSZL29vYs\n",
              "XLgwPT09mTp1arZs2ZK9e/emra0t1Wo1vb29mTZtWrq6uhq+VqtduwYzMLD7GY+rVB7/Q9DXtz2/\n",
              "+d3IjDAzaT1m0prMpfWYSes5mGYyeXJtUdrU4BsYGMjevXszYcKEJMktt9ySk046KZMmTcrJJ5+c\n",
              "FStWZO7cuVm5cmWmTJky9NBrM9ZqNZzBVqvDO57mM5PWYyatyVxaj5m0npJmUqlWm/ejPPTQQ7ng\n",
              "gguyb9++JMmxxx6bSy65JMcee2wefPDBLFmyJI888kg6Oztz5ZVXZsaMGUnSlLVaDAzsyWOP1XaG\n",
              "b/Lk8dm6tfXL/1BhJq3HTFqTubQeM2k9B9NMurtrO8PX1OA72Ai+g5eZtB4zaU3m0nrMpPUcTDOp\n",
              "Nfj8pg0AgMIJPgCAwgk+AIDCCT4AgMIJPgCAwgk+AIDCCT4AgMIJPgCAwgk+AIDCCT4AgMIJPgCA\n",
              "wgk+AIDCCT4AgMIJPgCAwgk+AIDCCT4AgMIJPgCAwgk+AIDCCT4AgMIJPgCAwgk+AIDCCT4AgMIJ\n",
              "PgCAwgk+AIDCCT4AgMIJPgCAwgk+AIDCCT4AgMIJPgCAwgk+AIDCCT4AgMIJPgCAwgk+AIDCCT4A\n",
              "gMIJPgCAwgk+AIDCCT4AgMIJPgCAwgk+AIDCCT4AgMIJPgCAwgk+AIDCCT4AgMIJPgCAwgk+AIDC\n",
              "CT4AgMIJPgCAwgk+AIDCCT4AgMIJPgCAwgk+AIDCCT4AgMIJPgCAwgk+AIDCCT4AgMIJPgCAwgk+\n",
              "AIDCCT4AgMIJPgCAwgk+AIDCCT4AgMIJPgCAwgk+AIDCCT4AgMIJPgCAwh2w4Fu+fHlmzJiR22+/\n",
              "PUnS19eXt73tbTn99NPzute9LqtXrx46thlrAACHqgMSfA8//HBuuummnHLKKUOXXXXVVTnllFOy\n",
              "atWqfPjDH8773//+DA4ONm0NAOBQ1fTg279/f5YuXZqlS5emo6Nj6PJbb7018+fPT5K86EUvylFH\n",
              "HTV0Rq4ZawAAh6q2Zn+D66+/Pi95yUvyghe8YOiy/v7+DA4Opru7e+iyY445Jhs3bmzK2nBUKrUf\n",
              "U8uxHBhm0nrMpDWZS+sxk9ZT4kyaGnz3339/Vq1alWXLljXz2zTMmDHtGTeu45kP/I1Jk8Y3cTfU\n",
              "w0xaj5m0JnNpPWbSekqaSVOD78c//nE2bNiQnp6eJMmWLVvy3//937ngggvS1taWLVu2DJ2R27Bh\n",
              "Q6ZNm5aJEyc2fK1Wu3YNZmBg9zMeV6k8/oegr297qtVh3SQ0iZm0HjNpTebSesyk9RxMM5k8ubYo\n",
              "bWrwLViwIAsWLBj6/Pzzz8/ChQvzmte8JmvWrMmNN96YCy64IGvWrMnmzZtz2mmnJUnOOOOMhq/V\n",
              "ajiDrVaHdzzNZyatx0xak7m0HjNpPSXNpOnP4ft9LrrooixatCinn3562tvb80//9E9pb29v2hoA\n",
              "wKGqUq2W0q7P3sDAnjz2WG0P6U6ePD5bt7b+qd5DhZm0HjNpTebSesyk9RxMM+nuru0hXb9pAwCg\n",
              "cIIPAKBwgg8AoHCCDwCgcIIPAKBwgg8AoHCCDwCgcIIPAKBwgg8AoHCCDwCgcIIPAKBwgg8AoHCC\n",
              "DwCgcIIPAKBwgg8AoHCCDwCgcIIPAKBwgg8AoHCCDwCgcIIPAKBwgg8AoHCCDwCgcIIPAKBwgg8A\n",
              "oHCCDwCgcIIPAKBwgg8AoHCCDwCgcIIPAKBwgg8AoHCCDwCgcIIPAKBwgg8AoHCCDwCgcIIPAKBw\n",
              "gg8AoHCCDwCgcIIPAKBwgg8AoHCCDwCgcIIPAKBwgg8AoHCCDwCgcIIPAKBwgg8AoHCCDwCgcIIP\n",
              "AKBwgg8AoHCCDwCgcIIPAKBwgg8AoHCCDwCgcIIPAKBwgg8AoHCCDwCgcIIPAKBwgg8AoHCCDwCg\n",
              "cIIPAKBwgg8AoHCCDwCgcIIPAKBwgg8AoHCCDwCgcIIPAKBwdQXfxz72sWzatKnRewEAoAnqCr5K\n",
              "pZI3vOENefe7350f/OAHT3vsW9/61px11lk5++yzs2DBgvz85z9Pkqxduzbz589PT09P5s2blwce\n",
              "eGDoa5qxBgBwqKpUq9VqPV+4Z8+efPvb385XvvKVbN++PQsWLMg555yTcePGPeW4bdu2ZcKECUmS\n",
              "2267Lddcc01WrFiRN7/5zXn961+fuXPn5tZbb83nPve5LF++PEmaslaLgYE9eeyx3c94XKWSTJ48\n",
              "Plu3bk99tx6NZiatx0xak7m0HjNpPQfTTLq7x9d0XN3P4evo6MiZZ56Z+fPn57HHHsuNN96Ynp6e\n",
              "fOMb33jKcU/EXpJs3749lUolfX19ueeeezJnzpwkSU9PTzZt2pR169Y1ZQ0A4FDWVs8Xbd68OV/+\n",
              "8pfz9a9/PaeeemquvvrqzJw5M5s3b855552Xs88++ynHL1q0KD/84Q+TJJ/97GfT29ub7u7utLU9\n",
              "/u0rlUqmTp2ajRs3Zvz48Q1fmz59es0/W6VS+zG1HMuBYSatx0xak7m0HjNpPSXOpK7gmzdvXt7w\n",
              "hjfkq1/9aqZMmTJ0+ZQpUzJ37tzfOf6jH/1okuRrX/tarrrqqlx44YV1bre5xoxpz7hxHTUfP2lS\n",
              "badROXDMpPWYSWsyl9ZjJq2npJnUFXzXXnttZs6c+ZTL7rvvvpx44on5m7/5m9/7deecc04uv/zy\n",
              "HH300dmyZUv27t2btra2VKvV9Pb2Ztq0aenq6mr4Wq127RrMwEBtz+GbNGl8+vpa/7H9Q4WZtB4z\n",
              "aU3m0nrMpPUcTDOZPLmJz+H74Ac/+DuXLVmy5Hcu27ZtWzZv3jz0+e23354jjjgikyZNysknn5wV\n",
              "K1YkSVauXJkpU6Zk+vTpTVkbjmq1to/hHOvjwHyYSet9mElrfphL632YSet9HCwzqdWwzvD19fVl\n",
              "y5Yt2bVrV37xi1/kiRf47tixIwMDA79z/Pbt23PhhRdm9+7dqVQqOfLII/OZz3wmlUolH/rQh7Jk\n",
              "yZJ85jOfSWdnZ6688sqhr2vGGgDAoWpYb8vyhS98IV/4whfyq1/9KkcdddTQ5ePHj8+b3vSm/MVf\n",
              "/EVTNnmgeFuWg5eZtB4zaU3m0nrMpPUcTDOp9W1ZhnWGb+HChVm4cGGuvfbavPvd765rYwAAHFjD\n",
              "Cr6BgYGMGzcuCxcuzI4dO35nvaurq2EbAwCgMYYVfG984xvzta99LaeeemoqlUp++9HgSqWSe++9\n",
              "t+EbBADg2RlW8H3ta19L8vhbsAAAcHCo621Z1qxZ85SHdHfs2JGf/exnDdsUAACNU1fwXX755Rk7\n",
              "duzQ52PGjMnll1/esE0BANA4dQXf/v37M3r06KHP29rasm/fvoZtCgCAxqkr+Nrb27N27dqhz//n\n",
              "f/4nbW11/ZY2AACarK5Ke8973pMFCxbkla98ZZLke9/7Xj784Q83dGMAADRGXcH3Z3/2Z/nSl76U\n",
              "73//+0mSd73rXTn++OMbujEAABqj7sdhn/vc5+a5z31uI/cCAEAT1BV8fX19+cQnPpFf/OIX2b37\n",
              "yd89+8T79AEA0DrqetHGJZdckmOOOSb9/f254IILctRRR2XWrFmN3hsAAA1QV/D19vbmHe94Rzo6\n",
              "OjJ79uxcc801+cEPftDovQEA0AB1vy1LknR0dKS/vz9tbW3p7+9v6MYAAGiMup7D95znPCf9/f2Z\n",
              "M2dOzj333HR1deXkk09u9N4AAGiAuoLvqquuSpIsXLgwL3jBC7Jt27a84hWvaOjGAABojLrflmXj\n",
              "xo1ZvXp1KpVKTj31VL9pAwCgRdX1HL5vfvObOeecc7Jq1aqsXLkyc+fOzS233NLovQEA0AB1nZa7\n",
              "9tpr8y//8i857rjjkiQPP/xw/uqv/ip//ud/3tDNAQDw7NV1hm/s2LFDsZckxx57bMaOHduwTQEA\n",
              "0Dh1Bd+sWbNyzTXXZNOmTent7c0nP/nJvOpVr8qOHTuyY8eORu8RAIBnoVKtVqvD/aITTzzx919h\n",
              "pZJ77733WW1qpAwM7Mljj+1+xuMqlWTy5PHZunV7hn/r0Qxm0nrMpDWZS+sxk9ZzMM2ku3t8TcfV\n",
              "9Ry+++67r54vAwBgBNT1kC4AAAePus7wrV27NldccUXuu+++7NmzZ+jyH/3oRw3bGAAAjVHXGb5L\n",
              "L700c+fOzeGHH54bbrghPT09eetb39rovQEA0AB1Bd+OHTty5plnZtSoUZkxY0b+7u/+Lrfffnuj\n",
              "9wYAQAPUFXxP/Bq1zs7OPPzww9mzZ0/6+/sbujEAABqjrufwnXrqqenv788b3/jGzJs3L+3t7Xnt\n",
              "a1/b6L0BANAAdQXfxRdfnCQ566yzcuqpp2b79u35gz/4g4ZuDACAxqjrId077rgj27ZtS5JMnTo1\n",
              "U6ZMyZ133tnIfQEA0CB1Bd/VV1+dCRMmDH0+YcKEXH311Q3bFAAAjdOQN16uVCrZt29fI64KAIAG\n",
              "qyv4Ojs7c9dddw19/p//+Z/p7Oxs2KYAAGicul608YEPfCDvec978rznPS/J479549prr23oxgAA\n",
              "aIy6gu/FL35xvvWtb+WnP/3p0Oe//Zy+PXv2pKOjoyEbBADg2an7OXyHH354Zs2alVmzZj0l9pLk\n",
              "vPPOe9YbAwCgMRryoo3/rVqtNuNqAQCoQ1OCr1KpNONqAQCoQ1OCDwCA1uEhXQCAwjUl+GbOnNmM\n",
              "qwUAoA51Bd9nPvOZp3w+ODiYD33oQ0Of//Z/AwAwsuoKvp/85Cd5xzvekUcffTTr16/Peeedl1Gj\n",
              "PB0QAKAV1fXGy5/+9Kdz3XXX5Zxzzsn+/fuzePHinHHGGY3eGwAADVDXabnBwcFs3Lgx48ePT6VS\n",
              "ye7duxu9LwAAGqSu4Js/f3727t2bm266KV/60pfyla98JX/7t3/b6L0BANAAdQXfW97ylnzoQx9K\n",
              "R0dHpk2blmXLluXwww9v9N4AAGiAuoLvrLPOesrnbW1tufjiixuyIQAAGquuF23s2rUrN9xwQ+67\n",
              "776nPH/vk5/8ZMM2BgBAY9R1hm/p0qXZsGFDfvKTn+SP//iPs3HjxkybNq3RewMAoAHqCr5f/OIX\n",
              "+eAHP5jOzs6cf/75+eIXv5j/+q//avTeAABogLqC77DDDkvy+HP3BgYG0tXVlV//+tcN3RgAAI1R\n",
              "13P4Dj/88Dz66KN55Stfmbe97W2ZOHFijj766EbvDQCABqgr+D772c9m9OjRee9735sVK1Zk+/bt\n",
              "ef3rX9/grQEA0Ah1Bd/o0aOTJJVKJWeffXZDNwQAQGPVFXyrV6/OP/7jP2b9+vXZu3fv0OV33XVX\n",
              "wzYGAEBj1BV8S5cuzfve97686EUvGjrbBwBAa6or+Lq6unLGGWc0ei8AADRBXW/L0tPTk69//evZ\n",
              "s2dPo/cDAECD1XWG73nPe14+8IEPZMmSJUmSarWaSqWSe++9t6GbAwDg2asr+K688sp86lOfygtf\n",
              "+MKMGlXXSUIAAA6QuoJv0qRJednLXtbovQAA0AR1nZ6bPXt2li1blr6+vuzYsWPoAwCA1lPXGb6P\n",
              "f/zjSZIrrrgilUrl9z6Hb/fu3Xnf+96XX/7ylznssMMyadKkfPCDH8z06dPT19eXRYsW5aGHHkpH\n",
              "R0cuv/zynHbaaUnSlDUAgENVXcF333331Xzseeedl1e+8pWpVCpZtmxZli5dmhtuuCFXXXVVTjnl\n",
              "lFx33XVZs2ZN3vOe9+Q73/lO2tvbm7IGAHCoauorLg477LDMmjUrlUolSTJz5sxs2LAhSXLrrbdm\n",
              "/vz5SZIXvehFOeqoo7J69eqmrQEAHKrqOsNXry9+8YuZPXt2+vv7Mzg4mO7u7qG1Y445Jhs3bmzK\n",
              "2nD8pk1rOqaWYzkwzKT1mElrMpfWYyatp8SZHLDg+/SnP53169fn85//fHbt2nWgvu2wjBnTnnHj\n",
              "Omo+ftKk8U3cDfUwk9ZjJq3JXFqPmbSekmZyQILvuuuuy6pVq/L5z38+Y8eOzdixY9PW1pYtW7YM\n",
              "nZHbsGFDpk2blokTJzZ8rVa7dg1mYGD3Mx5XqTz+h6Cvb3uq1eHeGjSDmbQeM2lN5tJ6zKT1HEwz\n",
              "mTy5tiht+rsmX3/99bnlllty/fXXZ8KECUOXn3HGGbnxxhuTJGvWrMnmzZuHXlHbjLVaVau1fQzn\n",
              "WB8H5sNMWu/DTFrzw1xa78NMWu/jYJlJrSrV6nAOH55NmzZl1qxZOe6449LZ2Zkk6ejoyE033ZSt\n",
              "W7dm0aJFefjhh9Pe3p5LL700L33pS5OkKWu1GBjYk8ceq+0M3+TJ47N1a+uX/6HCTFqPmbQmc2k9\n",
              "ZtJ6DqaZdHfXdoavqcF3sBF8By8zaT1m0prMpfWYSes5mGZSa/D5RbgAAIUTfAAAhRN8AACFE3wA\n",
              "AIUTfAAAhRN8AACFE3wAAIUTfAAAhRN8AACFE3wAAIUTfAAAhRN8AACFE3wAAIUTfAAAhRN8AACF\n",
              "E3wAAIUTfAAAhRN8AACFE3wAAIUTfAAAhRN8AACFE3wAAIUTfAAAhRN8AACFE3wAAIUTfAAAhRN8\n",
              "AACFE3wAAIUTfAAAhRN8AACFE3wAAIUTfAAAhRN8AACFE3wAAIUTfAAAhRN8AACFE3wAAIUTfAAA\n",
              "hRN8AACFE3wAAIUTfAAAhRN8AACFE3wAAIUTfAAAhRN8AACFE3wAAIUTfAAAhRN8AACFE3wAAIUT\n",
              "fAAAhRN8AACFE3wAAIUTfAAAhRN8AACFE3wAAIUTfAAAhRN8AACFE3wAAIUTfAAAhRN8AACFE3wA\n",
              "AIUTfAAAhRN8AACFE3wAAIUTfAAAhRN8AACFa3rwXXHFFZk9e3ZmzJiRe++9d+jytWvXZv78+enp\n",
              "6cm8efPywAMPNHUNAOBQ1fTg6+npyZe//OUcc8wxT7n8sssuy7nnnpuVK1fm7W9/exYvXtzUNQCA\n",
              "Q1XTg++0007L0Ucf/ZTL+vr6cs8992TOnDlJHo/CTZs2Zd26dU1ZAwA4lLWNxDft7e1Nd3d32toe\n",
              "//aVSiVTp07Nxo0bM378+IavTZ8+vea9VSq1H1PLsRwYZtJ6zKQ1mUvrMZPWU+JMRiT4WtWYMe0Z\n",
              "N66j5uMnTRrfxN1QDzNpPWbSmsyl9ZhJ6ylpJiMSfFOnTs2WLVuyd+/etLW1pVqtpre3N9OmTUtX\n",
              "V1fD12q1a9dgBgZ2P+Nxlcrjfwj6+ranWn02twSNYiatx0xak7m0HjNpPQfTTCZPri1KRyT4Jk2a\n",
              "lJNPPjkrVqzI3Llzs3LlykyZMmXooddmrNVqOIOtVod3PM1nJq3HTFqTubQeM2k9Jc2kUq0290e5\n",
              "7LLLcuedd2br1q054ogj0tnZmdtuuy0PPvhglixZkkceeSSdnZ258sorM2PGjCRpylotBgb25LHH\n",
              "ajvDN3ny+Gzd2vrlf6gwk9ZjJq3JXFqPmbSeg2km3d21neFrevAdTATfwctMWo+ZtCZzaT1m0noO\n",
              "ppnUGnx+0wYAQOEEHwBA4QQfAEDhBB8AQOEEHwBA4QQfAEDhBB8AQOEEHwBA4QQfAEDhBB8AQOEE\n",
              "HwBA4QQfAEDhBB8AQOEEHwBA4QQfAEDhBB8AQOEEHwBA4QQfAEDhBB8AQOEEHwBA4QQfAEDhBB8A\n",
              "QOEEHwBA4QQfAEDhBB8AQOEEHwBA4QQfAEDhBB8AQOEEHwBA4QQfAEDhBB8AQOEEHwBA4QQfAEDh\n",
              "BB8AQOEEHwBA4QQfAEDhBB8AQOEEHwBA4QQfAEDhBB8AQOEEHwBA4QQfAEDhBB8AQOEEHwBA4QQf\n",
              "AEDhBB8AQOEEHwBA4QQfAEDhBB8AQOEEHwBA4QQfAEDhBB8AQOEEHwBA4QQfAEDhBB8AQOEEHwBA\n",
              "4QQfAEDhBB8AQOEEHwBA4QQfAEDhBB8AQOEEHwBA4QQfAEDhBB8AQOEEHwBA4QQfAEDh2kZ6A422\n",
              "du3aLF68OP39/enq6spHPvKRnHDCCSO9LQ6g1ev7s/zu3qzv35njJ47NvJlTc9rxEw/4dZB8/7+3\n",
              "5v/96y+zzu0IMKIq1Wq1OtKbaKQ3v/nNef3rX5+5c+fm1ltvzec+97ksX768pq8dGNiTxx7b/YzH\n",
              "VSrJ5Mnjs3Xr9gzn1nu6iDhUA6NRP3elktz/yO5cdeu9+dnG7UklmXBYW6pJxraPziWnn1Dz9a5e\n",
              "359/WPVAdg7uy5i2Udm1d/+wr4Pkxw/158rbf5kduwbdji2k3r+/aB4zaT0H00y6u8fXdFxRD+n2\n",
              "9fXlnnvuyZw5c5IkPT092bRpU9atWzfCO3syIn7y8KN5bPfe/OThR/MPqx7I6vX9T7tWskb+3KvX\n",
              "92fxzT/Lz3q3Z1+1mn37q9m2e286O0Zn5+C+3Hx3b83Xtfzu3uwc3Jejujpy+Nj2HNXVMezrIFn+\n",
              "094M7NnrdgRoAUU9pNvb25vu7u60tT3+Y1UqlUydOjUbN27M9OnTa7qOSqX2Y2o59gk3/1ZEVCqV\n",
              "TKhWs2XHnty8pjep5veu/dH0cs+EPN1tMtyfe/ndj8fFqCSpVDJ6VCWD+6t5ZOfejD9sdNb176x5\n",
              "Xuv7d2ZM26hUfvMFlUolY9pGDes6SNb178yY9tFuxxZTz99fNJeZtJ4SZ1JU8D1bY8a0Z9y4jpqP\n",
              "nzSpttOoSbJh++6MO6wt7e1P3uRjD9ufDdsefwj5961Nnlz79zjYPN1tMtyfe8O23RnTPjqDe6vZ\n",
              "sWdvRicZVUn27NuXPftH5cVTJ9R8nSccPSE/+p++jB79ePRVq9Xs2V8d1nXw5O14xNh2t2MLGs7f\n",
              "XxwYZtJ6SppJUcE3derUbNmyJXv37k1bW1uq1Wp6e3szbdq0mr5+167BDAzU9hy+SZPGp6+v9sf2\n",
              "jxl/WO56dFe62p+MiJ279+b5R3WlWq3+3rWtW7fX9g0OQk93mwz35z5mwmH56fbdmTBmdAYG92Zw\n",
              "3/7sT9I+qpLDRo/KWSd213ydZz1/cu5e35/eR3bmsLZR2b13f8a0jx7WdfD47XjPhkfdji2mnr+/\n",
              "aC4zaT0H00xq/R/oooJv0qRJOfnkk7NixYrMnTs3K1euzJQpU2p+ODfJsAZbrdZ+/NyZU3Pv5h35\n",
              "1Y49T3kC+9wXTU011d+/1uJ/0J6Np71Nhvlzz5s5NfdvGchjuwYz4bC2bNu9N5Vq8oKpE/L2l03P\n",
              "Hx53RM3XeepxE3PJ6Sfk5rt7s65/Z046emzmzZw2rOsgOe34ifnI3Bfm//3bL7Pu127HVjOcv784\n",
              "MMyk9ZQ0k+Jepfvggw9myZIleeSRR9LZ2Zkrr7wyM2bMqOlrD8SrdJ+IiOkTH//H79Tjj3jGtZI1\n",
              "6ud+4lW6T8TFoXQbtqqD6VVuhxJzaT1m0noOppnU+ird4oLv2Wh28NE8ZtJ6zKQ1mUvrMZPWczDN\n",
              "5JB8WxYAAH6X4AMAKJzgAwAonOADACic4AMAKJzgAwAonOADACic4AMAKJzgAwAonOADACic4AMA\n",
              "KJzgAwAonOADACic4AMAKFylWq1WR3oTAAA0jzN8AACFE3wAAIUTfAAAhRN8AACFE3wAAIUTfAAA\n",
              "hRN8AACFE3wAAIUTfAAAhRN8w7R27drMnz8/PT09mTdvXh544IGR3lIxrrjiisyePTszZszIvffe\n",
              "O3T5093mzVjjSbt378673vWu9PT0ZM6cOfnLv/zLrFu3LknS19eXt73tbTn99NPzute9LqtXrx76\n",
              "umas8aS3vvWtOeuss3L22WdnwYIF+fnPf57EfaUVLF++PDNmzMjtt9+exP1kJM2ePTs9PT05++yz\n",
              "c/bZZ+db3/pWkkP4flJlWM4///zq8uXLq9Vqtfrtb3+7Onfu3BHeUTl+9KMfVXt7e6uvetWrqj//\n",
              "+c+HLn+627wZazxp165d1TvvvLO6f//+arVard5www3VN73pTdVqtVpdvHhx9ROf+ES1Wq1W7777\n",
              "7uorXvGK6p49e5q2xpMeffTRof9etWpV9ayzzqpWq+4rI+2hhx6qnnfeedVzzz23etttt1WrVfeT\n",
              "kfS//y15wqF6PxF8w7B169bqi1/84urg4GC1Wq1W9+/fX335y19eXbt27QjvrCy/fSd9utu8GWs8\n",
              "vTVr1lRf9apXVavVavWUU06p/upXvxpamzdvXvXf//3fm7bG/2358uXVOXPmuK+MsH379lUXLlxY\n",
              "/dnPflZ905veNBR87icj5/8KvkP5ftI20mcYDya9vb3p7u5OW9vjN1ulUsnUqVOzcePGTJ8+fYR3\n",
              "V6anu83Hjx/f8DVzfHpf/OIXM3v27PT392dwcDDd3d1Da8ccc0w2btzYlDV+16JFi/LDH/4wSfLZ\n",
              "z37WfWWEXX/99XnJS16SF7zgBUOXuZ+MvEWLFiVJXvjCF+aiiy46pO8nnsMH1OTTn/501q9fn/e/\n",
              "//0jvRWSfPSjH813v/vdvPe9781VV1010ts5pN1///1ZtWpV/vqv/3qkt8JvWbZsWb75zW/m5ptv\n",
              "zsSJE3PxxReP9JZGlOAbhqlTp2bLli3Zu3dvkqRaraa3tzfTpk0b4Z2V6+lu82as8X+77rrrsmrV\n",
              "qnzuc5/L2LFjM3HixLS1tWXLli1Dx2zYsCHTpk1ryhq/3znnnJMf/vCHOfroo91XRsiPf/zjbNiw\n",
              "IT09PZk9e3Z++tOf5tJLL823v/1t95MR9MRt0t7enoULF+bHP/7xIf1viuAbhkmTJuXkk0/OihUr\n",
              "kiQrV67MlClTWuqUbWme7jZvxhq/6/rrr88tt9yS66+/PhMmTBi6/IwzzsiNN96YJFmzZk02b96c\n",
              "0047rWlrPG7btm3ZvHnz0Oe33357jjjiCPeVEbRgwYJ873vfyx133JE77rgjp5xySv7+7/8+CxYs\n",
              "cD8ZIQMDA9m2bdvQ57fccktOOumkQ/p+UqlWq9WR3sTB5MEHH8ySJUvyyCOPpLOzM1deeWVmzJgx\n",
              "0tsqwmWXXZY777wzW7duzRFHHJHOzs7cdtttT3ubN2ONJ23atCmzZs3Kcccdl87OziRJR0dHbrrp\n",
              "pmzdujWLFi3Kww8/nPb29lx66aV56UtfmiRNWeNxGzZsyIUXXpjdu3enUqnkyCOPzMUXX5znP//5\n",
              "7ist4vzzz8/ChQvzmte8xv1khDz00EO54IILsm/fviTJsccem0suuSTHHnvsIXs/EXwAAIXzkC4A\n",
              "QOEEHwBA4QQfAEDhBB/AMHznO9/Jhz/84f9z7f7778/s2bPrvu6rr7566JV+/9uyZcuyePHiuq8b\n",
              "OLT5TRsANdq7d29e/epX59WvfnVTrv/CCy9syvUCCD6ApzFjxoy8+93vzne/+9380R/9UU444YTc\n",
              "fvvt+dSnPpUkueaaa/LNb34zXV1decUrXvGUr/23f/u3fOpTn8ru3bszatSoXHTRRU/79hmLFy/O\n",
              "iSeemLe85S3ZsWNHli5dmnvvvTdHHnlkTjjhhKb+nEDZBB/AMxg1alSWL1+eJLn55puHLr/zzjtz\n",
              "66235uabb05nZ2c+8IEPDK099NBD+eQnP5nrrrsuXV1dWbduXd74xjfmjjvuSEdHxzN+z2uvvTYd\n",
              "HR259dZbs2PHjpx77rmZOXNm43844JAg+ACewRve8Ib/8/If/OAHee1rX5uurq4kyfz583PXXXcl\n",
              "Sf71X/91KPKeUKlUsnHjxjznOc95xu/5H//xH1myZEkqlUrGjx+f173udXnooYee/Q8DHJIEH8Az\n",
              "GDduXF1f9yd/8if52Mc+1pA9VCqVhlwPcGjyKl2AOr385S8fesi1Wq3mq1/96tDan/7pn+b73/9+\n",
              "7rvvvqHL1qxZU/N1v+xlL8vNN9+carWaHTt25JZbbmno3oFDizN8AHWaNWtW1qxZk7lz5/7Oizam\n",
              "T5+ej33sY7n88suzc+fODA4O5qSTTqr5jN+73vWuLF26NGeccUaOPPLI/OEf/mH27NnTrB8FKJzf\n",
              "pQsAUDgP6QIAFM5DugAH0He/+9388z//8+9c/s53vjNnnnnmCOwIOBR4SBcAoHAe0gUAKJzgAwAo\n",
              "nOADACic4AMAKJzgAwAonOADACic4AMAKJzgAwAo3P8H07QEuh0Yi98AAAAASUVORK5CYII=\n",
              "\">\n",
              "        \n",
              "      </div>\n",
              "      <script></script>\n",
              "      <script type=\"text/javascript\">\n",
              "        (() => {\n",
              "          const chartElement = document.getElementById(\"chart-d4608612-2feb-483e-95b7-0f007ce4db3f\");\n",
              "          async function getCodeForChartHandler(event) {\n",
              "            const chartCodeResponse =  await google.colab.kernel.invokeFunction(\n",
              "                'getCodeForChart', [\"chart-d4608612-2feb-483e-95b7-0f007ce4db3f\"], {});\n",
              "            const responseJson = chartCodeResponse.data['application/json'];\n",
              "            await google.colab.notebook.addCell(responseJson.code, 'code');\n",
              "          }\n",
              "          chartElement.onclick = getCodeForChartHandler;\n",
              "        })();\n",
              "      </script>\n",
              "      <style>\n",
              "        .colab-quickchart-chart-with-code  {\n",
              "            display: block;\n",
              "            float: left;\n",
              "            border: 1px solid transparent;\n",
              "        }\n",
              "\n",
              "        .colab-quickchart-chart-with-code:hover {\n",
              "            cursor: pointer;\n",
              "            border: 1px solid #aaa;\n",
              "        }\n",
              "      </style>"
            ]
          },
          "metadata": {}
        },
        {
          "output_type": "display_data",
          "data": {
            "text/plain": [
              "<google.colab._quickchart_helpers.SectionTitle at 0x7d28a6b36f50>"
            ],
            "text/html": [
              "<h4 class=\"colab-quickchart-section-title\">Values</h4>\n",
              "<style>\n",
              "  .colab-quickchart-section-title {\n",
              "      clear: both;\n",
              "  }\n",
              "</style>"
            ]
          },
          "metadata": {}
        },
        {
          "output_type": "display_data",
          "data": {
            "text/plain": [
              "import numpy as np\n",
              "from google.colab import autoviz\n",
              "\n",
              "def value_plot(df, y, figscale=1):\n",
              "  from matplotlib import pyplot as plt\n",
              "  df[y].plot(kind='line', figsize=(8 * figscale, 4 * figscale), title=y)\n",
              "  plt.gca().spines[['top', 'right']].set_visible(False)\n",
              "  plt.tight_layout()\n",
              "  return autoviz.MplChart.from_current_mpl_state()\n",
              "\n",
              "chart = value_plot(_df_4, *['ride_id'], **{})\n",
              "chart"
            ],
            "text/html": [
              "      <div class=\"colab-quickchart-chart-with-code\" id=\"chart-50ca6f35-3dae-4273-8bd7-6f56945b0d43\">\n",
              "        <img src=\"data:image/png;base64,iVBORw0KGgoAAAANSUhEUgAAAYwAAADECAYAAACMRRb/AAAAOXRFWHRTb2Z0d2FyZQBNYXRwbG90\n",
              "bGliIHZlcnNpb24zLjcuMSwgaHR0cHM6Ly9tYXRwbG90bGliLm9yZy/bCgiHAAAACXBIWXMAAA9h\n",
              "AAAPYQGoP6dpAAAmSElEQVR4nO3deXxTdb7/8ddpk3Qv3ULT0k4RgcrSFtAqjqMoONRx2DeRERm3\n",
              "n+Od60Wv/hAcBn2ooz4cZh7e+/v5u45XL4pcdaTsorQwXFRcWMRSENmElrRNShu6p0vant8fhQBK\n",
              "IWlzepL283w88oDm9CTvhNB3z/b9KqqqqgghhBBXEKR3ACGEEIFBCkMIIYRHpDCEEEJ4RApDCCGE\n",
              "R6QwhBBCeEQKQwghhEekMIQQQnhECkMIIYRHpDCEEEJ4RApDCCGER6QwhPBQWVkZo0ePxmq1dvo9\n",
              "Tz75JIsXL/bJ8/36179m3bp1nS5fvXo148eP98lzCeEJg94BhAgUycnJfPvttz32fJs3b+6x5xLC\n",
              "E7KFIYSHWlpa9I4ghK5kC0OITsyfP58hQ4ZQVVXFzp07yczMZOfOneTn55OWlgbAm2++yapVq6iv\n",
              "rycnJweXy4XBcP6/VW1tLX/5y1/47LPPcDqdZGZmsmzZMlJTU6/4/OPHj+eRRx5h9uzZAHz++ee8\n",
              "8sorlJSUkJGRwXXXXafNCxeiE7KFIcRlrF27lmnTprFr1y6WLFly0bJNmzbxt7/9jb/+9a989dVX\n",
              "ZGZmsm3bNvdyVVX5/e9/T319PevWrePzzz9n6NChPPzww7hcLq9yWK1WHnnkEe655x52797NY489\n",
              "xnvvveeT1yiEp6QwhLiM8ePHM27cOIKCgggNDb1o2dq1a5k5cyZjxozBaDRy1113kZ6e7l5+6NAh\n",
              "vv32W5577jliYmIwmUz867/+KyUlJezfv9+rHB999BFDhw7lrrvuwmg0MmbMGKZNm+aLlyiEx2SX\n",
              "lBCXkZKS0ukyu93OhAkTOv3+4uJiWltbGTdu3CXX9Ybdbv9JlstlE0ILUhhCXIaiKJ0us1gslJaW\n",
              "XnRfSUkJQ4cOBSAhIQGj0chXX32F0WjsVg6LxcKBAwcuuu/Hzy2E1mSXlBBdNG3aNNasWUNBQQGt\n",
              "ra2sXr2aI0eOuJdfe+21DBkyhGeffRaHwwFATU0NeXl5NDY2evVckyZN4ujRo6xevZrW1lYKCgpY\n",
              "v369L1+OEFckhSFEF02ZMoUHH3yQhQsXMnbsWAoKCrj99tvdy4ODg1mxYgVhYWHMnj2b0aNHM3Xq\n",
              "VLZu3XrZLZdLSU1N5bXXXuOdd94hOzubv/71r9x9992+fklCXJaiqqqqdwghhBD+T7YwhBBCeEQO\n",
              "eguhk9GjR1/y/qioKD777LMeTiPElckuKSGEEB6RXVJCCCE8IoUhhBDCI1IYQgghPNKrD3rX1zfR\n",
              "2OjdIG/nxMVFcOZMg48TaUOyakOyakOyaqM7Wc3mKI++r1dvYQQFde3lKQoEBwfh5bVVupCs2pCs\n",
              "2pCs2uiprL26MIQQQviOFIYQQgiPSGEIIYTwSK8+6N1V31irGdgK8fLuCCGEm2xh/Eh9cyu/+3sh\n",
              "c/72Fc6WNr3jCCGE3/C6MMaPH09OTg5Tp05l6tSpfPzxxwAUFRUxd+5ccnJymDlzJseOHXOvo8Uy\n",
              "rYSbgkmJCaWm0cUn35dr/nxCCBEourSF8eqrr7JhwwY2bNjAnXfeCcCyZcuYM2cOeXl5PPTQQyxe\n",
              "vNj9/Vos00qQojBzVDIAuQU2ZKgtIYTo4JNdUg6Hg4MHDzJlyhQAcnJysNvtFBcXa7JMa1NGJhJq\n",
              "DOJYRQOFZbWaP58QQgSCLh3WXbRoEQAZGRk8+eST2Gw2zGYzBkPHwymKQlJSEmVlZURFRfl8WVpa\n",
              "msdZu3IhS78wI1Oykvlwbwm5+8sYldLP+wfpIedeX6BcXHThn/5MsmpDsmqjp7J6XRirVq0iOTkZ\n",
              "l8vFq6++ylNPPcXChQu1yNZtoaFGwsNNXVp3/tiBfLi3hH8creT5GSbMUSE+Tudb8fGeXdrvDySr\n",
              "NiSrNiTreV4XRnJyx/59o9HIggULyMnJISkpiYqKClpbWzEYDKiqis1mIzk5mcjISJ8v81RTkwun\n",
              "s9nbl4iiQEZKP0YmRXHQVseKT49z/9ifef04PUFROj4kDkcd/n64RbJqQ7Jqoy9lTUjQYCwpp9NJ\n",
              "be35ffqbN29m+PDhxMfHM2LECDZu3AhAXl4eiYmJpKWlabLMG6ratRvArLMHv9fst9Hapnb5sbS+\n",
              "ded1SlbJKlklq6e8mnHParXy6KOP0tbWcX1CSkoKf/jDH0hJSeHEiRMsWbKE6upqIiIieOmll0hP\n",
              "TwfQZJknnM4WGhq6toWRkBBFqb2GO1//mpqmVpZPHc64wQleP5bWzmWtrAyM34Ikq+9JVm30paye\n",
              "jlbbq6do7W5hVFbW8e+fnmDlnhLGpsXyf2ZlaJCye/rSh7onSVZtSFZt9FRhyJXeVzA9MwkF+Lq4\n",
              "ilNVjXrHEUII3UhhXEFKTBg/vyoOgDX7y3ROI4QQ+pHC8MDsswe/Nx0sp8kl40sJIfomKQwPjB0Y\n",
              "S3K/UOqaW8k/XKF3HCGE0IUUhgeCgxRmZiYBsLqgjF58noAQQnRKCsNDU0ZaMAUrHD5dz3f2Or3j\n",
              "CCFEj5PC8FBMuJFfppsByC2Qg99CiL5HCsML56783nqkgmqnS+c0QgjRs6QwvDDCEsWwxEha2lQ2\n",
              "HrTrHUcIIXqUFIYXFEVhVtbZ8aUKbbS1y8FvIUTfIYXhpYnXmIkKMVBW08TXRVV6xxFCiB4jheGl\n",
              "UGMwk0cmAh2n2AohRF8hhdEFM8/ulvry5BlKqmV8KSFE3yCF0QU/iw1jbFosKrCu0KZ3HCGE6BFS\n",
              "GF00a1THld8bDthpbm3XOY0QQmhPCqOLfjEoHktUCDVNrWw7IuNLCSF6vy4Xxpo1a0hPT2fbtm0A\n",
              "OBwOHnjgASZOnMikSZPYs2eP+3u1WKa34CCFGVkdWxm5Muy5EKIP6FJhlJSUsHr1akaNGuW+b/ny\n",
              "5YwaNYr8/HxefPFFnnjiCVwul2bL/MGUkRYMQQoHbXV8Xy7jSwkhejevC6O9vZ2lS5eydOlSTCaT\n",
              "+/4tW7Ywd+5cADIzM+nfv797i0CLZf4gPsLEhKEd83zL+FJCiN7O4O0KK1asYMyYMYwcOdJ9X1VV\n",
              "FS6XC7PZ7L5vwIABlJWVabLMG4ri7Ss8v44n684enUze4QryDlfw2K2DiA41ev+E3eBNVr1JVm1I\n",
              "Vm1I1p/yqjCOHj1Kfn4+q1at0iqPT4WGGgkPN135GzsRH3/lidEnxEdyzf+c4LC9ju0nq3nw5kFd\n",
              "fr7u8CSrv5Cs2pCs2pCs53lVGHv37qW0tJScnBwAKioqOH78OI8++igGg4GKigr3FkFpaSnJycnE\n",
              "xsb6fJmnmppcOJ3N3rxEoKOl4+OjcDjq8GSupBkZFl601/HOFyeZck0CQT34K4m3WfUkWbUhWbXR\n",
              "l7ImJHhWNF4dw5g3bx47d+5k+/btbN++nVGjRvH8888zb9487rjjDj744AMACgsLKS8vJzs7G0CT\n",
              "ZZ5S1a7dvFk355r+RJiCsVY3sauoqsvP2RNZ9b5JVskqWf0vq6e8PobRmSeffJJFixYxceJEjEYj\n",
              "f/7znzEajZot8yfhpmAmjUjk79+WkVtgY+zAOL0jCSGEzylqL56g2ulsoaGha7ukEhKiqKz0fPOu\n",
              "yOFk9tt7CVJgw4PXY4kO9fp5u6IrWfUiWbUhWbXRl7KazRrskhKdGxgfznU/i6FdhbUyvpQQoheS\n",
              "wvCh2Vnnx5dqkfGlhBC9jBSGD90yOAFzpIkzThfbj1XqHUcIIXxKCsOHDEEK0zPPji8lV34LIXoZ\n",
              "KQwfm55hIThIYX9ZLUdP1+sdRwghfEYKw8cSIkO4bfDZ8aVkFFshRC8ihaGBc5MrfXLoNPXNrTqn\n",
              "EUII35DC0MCYlH4Mig+nqbWdzd+V6x1HCCF8QgpDA4qiMGtUx5hXufvL6MXXRgoh+hApDI38alh/\n",
              "wo3BFJ1pZK+1Wu84QgjRbVIYGokMMfCr4f0ByC2QK7+FEIFPCkND53ZLfXq8ktN13o9pJYQQ/kQK\n",
              "Q0ODEyIYndKPNhXWyfhSQogAJ4WhsVlnx5dad8BOa5uMLyWECFxSGBq7bUgCceFGHA0t7Dju0DuO\n",
              "EEJ0mRSGxozBQe7xpVbL+FJCiADmdWHcf//9TJ48malTpzJv3jwOHToEQFFREXPnziUnJ4eZM2dy\n",
              "7Ngx9zpaLAsk0zOTCFZgX0kNP1Q26B1HCCG6xOvCePXVV9m0aRMbNmzgvvvuY/HixQAsW7aMOXPm\n",
              "kJeXx0MPPeS+X6tlgSQxKoSbr44HYM1+OfgthAhMXhdGdHS0++91dXUoioLD4eDgwYNMmTIFgJyc\n",
              "HOx2O8XFxZosC0Szz55i+/GhchpaZHwpIUTgMXRlpUWLFrFr1y4A3njjDWw2G2azGYOh4+EURSEp\n",
              "KYmysjKioqJ8viwtLc3jrIri/es7t05X1u3M9WkxpMWFUXymkS3fn3Zfo9FdWmTVimTVhmTVhmT9\n",
              "qS4VxiuvvALAunXrWL58OQsXLvRpKF8JDTUSHm7q8vrx8Z5NjO6pBT+/iuc+OsS6A+U8PGEoig//\n",
              "dX2dVUuSVRuSVRuS9bwuFcY506dP55lnnsFisVBRUUFraysGgwFVVbHZbCQnJxMZGenzZZ5qanLh\n",
              "dHp/hbWidLzxDkcdvhw38LaBMbxiCOJIeR1bC0oYkxrT7cfUKqsWJKs2JKs2+lLWhATPisarYxi1\n",
              "tbWUl58frnvbtm3ExMQQHx/PiBEj2LhxIwB5eXkkJiaSlpamyTJvqGrXbt1Zt7NbZIiBO4Z1jC+1\n",
              "usDms8fVIqtWN8kqWSWr/2X1lKJ6MfZ2aWkpCxcupLm5GUVRiIuL46mnnmLYsGGcOHGCJUuWUF1d\n",
              "TUREBC+99BLp6ekAmizzhNPZQkND17YwEhKiqKz0/W8WR07Xc8+7+wgOUvjof91AQkTXd5mBtll9\n",
              "TbJqQ7Jqoy9lNZs928LwqjACjT8WBsAD7xdQWFbL725K44Gxad16rL70oe5JklUbklUbPVUYcqW3\n",
              "Ds5N4bp2v43Wdj//JAohxFlSGDqYMMRMbJiR0/UtfP6DjC8lhAgMUhg6MBmCmJphASBXxpcSQgQI\n",
              "KQydzMhKQgF2n6qm6IxT7zhCCHFFUhg6SYoO5ReD4gAZX0oIERikMHQ0e3THRYgffWen0dWmcxoh\n",
              "hLg8KQwd3ZAWS0pMKPXNbWz5/rTecYQQ4rKkMHQUpCjMzOrYysgtKKMXXxIjhOgFpDB0NnlEIiGG\n",
              "II5WNHDAVqd3HCGE6JQUhs76hRmZmG4GZApXIYR/k8LwA+fmxvjH0QrOOFt0TiOEEJcmheEHhlui\n",
              "GGGJwtWmsvGAXe84QghxSVIYfsI9vlShjTYZX0oI4YekMPzE7UPN9As1YKtt5ouTZ/SOI4QQPyGF\n",
              "4SdCjcFMHinjSwkh/JcUhh+ZeXZ8qa+KqiipbtQ7jhBCXMSrwmhubuaf/umfyMnJYcqUKdx3330U\n",
              "FxcD4HA4eOCBB5g4cSKTJk1iz5497vW0WNYbpcSEceNVsQDkFsj4UkII/+L1FsZdd93Fli1b2Lhx\n",
              "IxMmTGDp0qUALF++nFGjRpGfn8+LL77IE088gcvl0mxZbzXr7JXfm76z0yTjSwkh/IhXhRESEsK4\n",
              "ceNQFAWArKwsSktLAdiyZQtz584FIDMzk/79+7u3CLRY1lv9/Ko4kqNDqG1qZeuRCr3jCCH8XEl1\n",
              "I//+6Qne331K8+cydGfllStXMn78eKqqqnC5XJjNZveyAQMGUFZWpskyb5ztti6t05V1u8sQrDAj\n",
              "K5n/+/lJcgvKmHJ2oqXO6JnVW5JVG5JVG/6e9ejpet7ZbWXrkQraVRhwzMHEq7M1fc4uF8brr7/O\n",
              "qVOnePvtt2lqavJlJp8JDTUSHm7q8vrx8Z5NjO5r9427mje+LOZQeT2ljW1kpcZccR29snaFZNWG\n",
              "ZNWGP2VVVZU9RVX8x47j/M8FeyDGDTXzv3PSNc/apcJ46623yM/P5+233yYsLIywsDAMBgMVFRXu\n",
              "LYLS0lKSk5OJjY31+TJPNTW5cDqbvX59itLxIXE46tBrANnb0xP4+NBp3txxnGd+ld7p9/lDVk9J\n",
              "Vm1IVm34U9Z2VeWLE2dYsctKYVktAEEKTBhqZsH1qQyzRHYra0KCZ0Xj9UHvFStWsHnzZlasWEF0\n",
              "dLT7/jvuuIMPPvgAgMLCQsrLy8nOztZsmadUtWu37qzri9u5g9/5Ryqocrr8Omsgva+SVf+bZPX8\n",
              "5mptZ/N35dz9zjc8vu47CstqMQYrTM+0kHtfNi9OGkZ6/8huZ/WUonoxCYPdbmfcuHGkpqYSEREB\n",
              "gMlkYvXq1VRWVrJo0SJKSkowGo388Y9/ZOzYsQCaLPOE09lCQ0PXtjASEqKorNTvNwtVVZm/6luO\n",
              "nK7nX265ivnZqZf8Pn/I6inJqg3Jqg09sza52th4sJz/3mulrLbjZ1iEKZiZWUncPWYACZEhPs1q\n",
              "Nnu2heFVYQSaQC4MgA0HbLyQf4wB/UJZ+0A2QZc4+uYvWT0hWbUhWbWhR9baJhe5BTY+2FdKVWPH\n",
              "JQSxYUbuvnYAs7KSiQq99FGEniqMbp0lJbSVc01/Xv30BKU1TXxVVMVNV8XpHUkIoYGK+mbe/6aU\n",
              "tYU2Glo6rr9Kjg7hnuxUJo9IJNQYrHPCDlIYfizUGMzkERbe31dKbkGZFIYQvcypqkbe3WNl86Fy\n",
              "XG0dmwZXJ4Sz4PpUfpneH0OQf53TK4Xh52ZmJfH+vlK+OHGGspomkvuF6h1JCNFNh8vreGd3CduP\n",
              "dVxDAZCVHM1vb0jlpqvi3BdH+xspDD+XFhfODWkx7CquZm2hjX+++Sq9IwkhukBVVb6x1vDObitf\n",
              "F1e57//FoDgWZKcyKqWfjuk8I4URAGZlJbOruJoNB+w8dGMaIQYZZFiIQNGuqnx23ME7e6wctNUB\n",
              "EKzAL6/pz73ZKQwxR+qc0HNSGAHgF1fHkxgVQnldM/84WsGdwxP1jiSEuILWtna2HD7Nyt0lnDzj\n",
              "BCDEEMTkEYn85roUUmLCdE7oPSmMAGAIUpiRmcR/fFFEboFNCkMIP9boamP9ATv/vbeE8rqO0/oj\n",
              "Q4KZPSqZu0YPID6i68MV6U0KI0BMzbDwn18Vc8BWy5HyetITA2czVoi+oKbRxYcFZfx9Xyk1Ta0A\n",
              "xEeYmDdmADOykogMCfwft4H/CvqI+AgTE4YmkHe4gtX7y1g6cajekYQQQHldM+99U8K6QhuNrnYA\n",
              "UmJCmZ+dyq+HJ/aqY45SGAFkVlYyeYcr2PL9aRbeMqjTqz6FENorOuPk3T1WPj50mtaz58YONUew\n",
              "4PpUxg81+901FL4gP3ECSNaAaAYnRHC8soFN39mZd22K3pGE6HO+s9fxzm4rO45Vcm4UjjEp/fjt\n",
              "DamMTYv122sofEEKI4AoisLsUUm8tO04a/bbmDtmAMG9+MMphL9QVZXdp6p5Z7eVPaeq3fePuzqe\n",
              "e69PJTM5uvOVexEpjABzx7BE/v2zk5yqamTPqWrGDozVO5IQvVZbu8o/jlbw9i4r35fXAxAcpHDH\n",
              "NWbuvT6VQfEROifsWVIYASbcFMyvhyfyYUEZuQVlUhhC+ICqqjS0tFHZ0IKjoYXK+hbsdc18/P1p\n",
              "TlQ2AB3XUEzLsPCb61JIiu6bQ/RIYQSgWaOS+bCgjM9+cGCvbfJ4tiwh+pp2VaWm0UVlQ0vHrb7l\n",
              "fCn86Oum1vZLPkZ0qOHsNRTJxHZjyufeQAojAF0VH851qf3Ya61hXaGdkYPMekcSoke1trXjcLrc\n",
              "P/QdDc2XLAWH00Vbu+cTRESYgkmIMJEQaSIhwsQNg81MGBRDuFF+VIKXhfHCCy+wfft2SktLWb9+\n",
              "PcOGDQOgqKiIxYsXU1VVRWRkJC+//DJDhgzRbJno2MrYa61hfaGNpyaN0DuOED7R5Gq76If+hTfH\n",
              "BUVQ3ejCm3mCYsKMHUUQYSL+bBlcdIs0ER9hIuyCeScCabKnnuJVYeTk5PDggw8yb968i+5ftmwZ\n",
              "c+bMYcaMGWzZsoXFixezZs0azZaJjrMzzJEmKupb2PKdnZ8PkN1Swn+52topr2umvK6ZRmsNJ221\n",
              "l9xFdG7yIE8EBynEhxuJv+CHvrsUIkLcX8eHGzEE956L5/TkVWFkZ2f/5D6Hw8HBgwf5r//6L6Cj\n",
              "VJ5//nmKi4uJjIz0+bK0tLRuveDewhAcxPSMJN74qph/23YU021XMyalX68+B1z4r/rmVux1zdhr\n",
              "m7DVdvxpr23u+HtdE5X1LR5vEYQYgi76zb+jAEzni+Hs/TFhxktOWyy00+0dczabDbPZjMHQ8VCK\n",
              "opCUlERZWRlRUVE+X+ZtYXTl83RuHX//LM7IsvDBt6X8UNHA7z4sZLglinuzU7htSALBfniVaaC8\n",
              "ryBZL6SqKg6n64IS6CgFW20T5WdLoa659YqPYwpWsESHMiA2nH4hQSREhPxkyyAh0kSEKdgvfvGR\n",
              "z8BP9eojOaGhRsK7cVZDfLx/7+ZJSIhi87/czBufneDDvVYO2etYvOl7rkqI4KGbBzFjzAC/mQv4\n",
              "Qv7+vl6oL2RtaW3HXtNESbWTsuomSqsaKa12Ulrd2PF1dSMtnZxBdKF+YUYGxISRHBNGSmwYA2LC\n",
              "GBDb8fWAmDASIk1+UQTe6gufAU91uzCSkpKoqKigtbUVg8GAqqrYbDaSk5OJjIz0+TJvNDW5cDqb\n",
              "vX5NitLxxjsc/n+wK1yB56eN5N4xSXywr4zVBWWcrGzg6XUH+EveYeZeO4BZWcl+Me5UIL2vvSlr\n",
              "Q0srtpoLdhfVdWwdnNta8GR3kQKYI01YokNJig4hKToUS3SI+2tLdAgRpst8xppbcDS39Kr31Z90\n",
              "N6unp+Z3+6dIfHw8I0aMYOPGjcyYMYO8vDwSExPdu460WOaN7vxDq2r31u9JseEmfnfTQO7NTmX9\n",
              "ARvvfVNKeV0zr31exIqvrUzPTGLetQPoHxWid9SAel8DIWt9cytWazWHT3XM+15e1+zeZWT3cHdR\n",
              "iCGIxKgQLFHny+B8KYSQGBlyxQPH3rxPgfC+niNZz1NU1fOHX7ZsGTt27KCyspKYmBgiIiLYunUr\n",
              "J06cYMmSJVRXVxMREcFLL71Eeno6gCbLPOV0ttDQ0LUtjEA5na6zrK1t7eQfqWDlHis/VHbM9mUI\n",
              "UrhjWH/mZ6foMqRBb3hf/YWqquwrqWFdoY3txypxtV0+ZHSo4aIyOL9lEIolKoS4cGOP7C7y9/f1\n",
              "Qn0pq9ns2RaGV4URaPpyYZyjqipfnqzinT1Wvi2pcd9/86A4FlyfStaAnpt4vje9r3qpcrbw0Xfl\n",
              "rD9g51RVo/v+xLNbAUkXlkHU+S2Ey+4u6kH++r5eSl/K6mlh+MenSGhGURRuGhTHTYPiOFBWy8o9\n",
              "Vj497uDzE2f4/MQZspKjmZ+dys1Xx8kpin6qXVXZe6qadYV2dhyvdM+9EG4M5o5h/ZmeaeHmkckB\n",
              "8YNNBDYpjD4kIzmaP08dQdEZJ6v2lvDxoXL2l9Wyf8N3XBUfzvzrUrhjWH+McpGTX3A0nNuasFFS\n",
              "3eS+f7gliukZFiZe059wU3BAnPYpegcpjD5oYFw4SycO5eGfp/HBvjLW7C/jpMPJc3lHef2LIu6+\n",
              "NoVpGZZeMQdxoGlXVXYXV7Gu0M6nPzjc4yBFmIL51bD+TMtMIr2/zOcu9CE/Efowc2QIj95yFffd\n",
              "kMra/Tbe31fK6foW/u3TE7z1dTGzspKZO2YA8RF9e4TOnlBR38ymg+VsOGCjrPb8cbeMpGimZVr4\n",
              "Zbr5onGOhNCDFIYgMsTAvdenMnfMAD75vpx395RQXNXI27utvPdNCb8ekcg916Xys9gwvaP2Km3t\n",
              "Kl8XV7G+0MbnPzg4d6JTZEjHnCfTMpIYbO5bE/QI/yaFIdxMhiCmZiQxeaSFz447WLnHygFbHesK\n",
              "7awvtHPbkATuvT6VEZbAufLVH5XXNbPxoJ2NB+zY685vTWQlRzM9M4kJQxP88gp9IaQwxE8EKQq3\n",
              "Dklg3OB4Cko7zqzaeeIM249Vsv1YJdel9mN+dio3DuzdE977Umu7ypcnz7C+0MYXJ89wboqG6FBD\n",
              "x9ZEpqXPTfcpAo8UhuiUoiiMTunH6JR+HK9sYNUeK1sOV7DXWsNeaw1DzBHcm53K7elmDH442KE/\n",
              "sNc2seGAnY0H7Zyub3HfPyalH9MyLYwfYibEIGelicAghSE8Mjghgmd/dQ2/u2kg7+8rZV2hjWMV\n",
              "Dfzx48P8v50n+c21KUzJsMiBWTqust954gzrD9j58uQZ9zhN/UINTBphYVqGhYHx4bpmFKIrpDCE\n",
              "VyzRoTx+69Xcf8PPyN1fxt/3lWGrbWb5//zAf35VzJzRycwZNYCYcKPeUXtcWU0TGw7Y2HiwnMqG\n",
              "81sT1/0shukZFm4dnIBJtiZEAJPCEF3SL8zIA2PT+M21KXz0XTmr9pZQWtPEf351ipV7SpiWYWHe\n",
              "tSkk9wvVO6qmWtva+ewHB+sO2NlVVOXemogNMzJ5ZCJTM5Lk7DLRa0hhiG4JNQYza1Qy0zOT2H6s\n",
              "kpW7rRw+Xc/fvy0jt6CM29PN3JudytBedrFZSXUj6w/Y2XTQzhmny33/DWkxTM9M4par4+WKedHr\n",
              "SGEInwgOUvhlupnbhyaw51Q1K/dY2VVcTd7hCvIOVzB2YCy/vT6VnPjALQ5XWzs7jjtYX2hj96lq\n",
              "9/1x4UamjLQwNcNCSoxsTYjeSwpD+JSiKFyfFsv1abEcKa9n5R4r245W8HVRFV8XVRG18RDhxiBC\n",
              "DcGEGYMJMwUTZgwi3BhMqDHY/WeYMYhw0/n7woxBHd9/wTphZ5eFGII0Pb23+IyTDQfsfPRdOVWN\n",
              "HVsTCjB2YCzTMpO4ZVDcFeeKEKI3kMIQmklPjORPk4bxSPVA3vumlI0H7dQ1tVLXdOV1vaEAYcZg\n",
              "Qs+WTJgxmFBDMOGmC0rGfTtfRD8uqgvLKMQQxBcFpaz84iTfWM8PC58QYWJKhoWpIy29/viMED8m\n",
              "hSE0lxITxqIJg/nnWwbSajRiO11LQ0sbja52GlvaaHSdu7XjdLXRdPZrZ0sbTRfc53RdvE7T2Xmm\n",
              "VcB5dvmFxxN8JUiBn18Vx7SMJG4aFCfXnIg+y+8Lo6ioiMWLF1NVVUVkZCQvv/wyQ4YM0TuW6III\n",
              "k4GEhEj6KapP5m1oV1WaXO0XFM75kmk8WyAdRXP2e35UTpf6e8f6bbSpkNQvlEnD+zNlpAVLtGxN\n",
              "COH3hbFs2TLmzJnDjBkz2LJlC4sXL2bNmjV6xxJ+IEhRCDcFE27y7cWCqqrialdJTozG4aiXSYmE\n",
              "OMuvj9Q5HA4OHjzIlClTAMjJycFut1NcXKxzMtGbKYqi+YF0IQKRX29h2Gw2zGYzBkNHTEVRSEpK\n",
              "oqysjLS0NI8eoyv/58+tEwg/LySrNiSrNiSrNnoqq18XRneFhhoJD+/65D/x8YEzjLdk1YZk1YZk\n",
              "1YbWWf26MJKSkqioqKC1tRWDwYCqqthsNpKTkz1av6nJhdPZfOVv/BFF6XjjHY46v99/LVm1IVm1\n",
              "IVm10d2sCQmeFY1fF0Z8fDwjRoxg48aNzJgxg7y8PBITEz3eHRUebpItDD8kWbUhWbUhWc9TVNW/\n",
              "u/PEiRMsWbKE6upqIiIieOmll0hPT9c7lhBC9Dl+XxhCCCH8g1+fViuEEMJ/SGEIIYTwiBSGEEII\n",
              "j0hhCCGE8IgUhhBCCI9IYQghhPCIFIYQQgiP+PWV3noIpPk3XnjhBbZv305paSnr169n2LBheke6\n",
              "pObmZh5//HF++OEHQkJCiI+P59lnn/X4iv2edv/991NRUUFQUBAREREsXbqU4cOH6x3rstasWcPT\n",
              "Tz/Na6+9xu233653nEsaP348RqOR0NCOuUUefvhh7rzzTp1TXVpLSwsvv/wyO3fuJCQkhPT0dJYv\n",
              "X653rJ+oqqrit7/9rfvrpqYmrFYrX375JTExMb5/QlVcZP78+eqaNWtUVVXVTz75RJ0xY4bOiTq3\n",
              "e/du1Wazqbfddpt66NAhveN0qqmpSd2xY4fa3t6uqqqqvvvuu+o999yjc6rO1dTUuP+en5+vTp48\n",
              "Wcc0V2a1WtW77rpLnTNnjrp161a943TK3z+nF/rTn/6kPvfcc+7P7OnTp3VO5Jk333xTffjhhzV7\n",
              "fNkldYFAm38jOzsbi8Wid4wrCgkJYdy4ce75JbKysigtLdU5Veeio6Pdf6+rq/PreTHa29tZunQp\n",
              "S5cuxWTq+rhp4jyn00lubi6PP/64+9/ebDbrnMozubm5zJo1S7PHl11SF/DF/BviylauXMn48eP1\n",
              "jnFZixYtYteuXQC88cYbOqfp3IoVKxgzZgwjR47UO4pHFi1aBEBGRgZPPvkkcXFxOif6qVOnThET\n",
              "E8Prr7/Ol19+SWhoKI8++ig33nij3tEua9++fdTW1nLrrbdq9hyyhSF61Ouvv86pU6d44okn9I5y\n",
              "Wa+88gqffvopjz32mF/uuwY4evQo+fn5PPLII3pH8ciqVavYtGkTa9euJTY2lqeeekrvSJfU1tZG\n",
              "aWkpgwcPZu3atSxdupTHHnuMyspKvaNdVm5uLlOnTnX/wqsF2cK4QHfn3xCX99Zbb5Gfn8/bb79N\n",
              "WFiY3nE8Mn36dJ555hmqqqqIjY3VO85F9u7dS2lpKTk5OQBUVFRw/PhxTp8+zbx583RO91Pn/h8Z\n",
              "jUYWLFjgzu1vkpKSCAoKYvLkyQAMHz6clJQUjh49SkJCgs7pLq2hoYFPPvmE3NxcTZ9HtjAucOH8\n",
              "G4DX82+Izq1YsYLNmzezYsWKi44R+Jva2lrKy8vdX2/bto2YmBhtzjjppnnz5rFz5062b9/O9u3b\n",
              "GTVqFM8//7xfloXT6aS2ttb99ebNm/32zLO4uDhuvPFGdu7cCYDVaqWkpISrr75a52Sd+/jjj7nm\n",
              "mms0zyjDm/9IIM2/sWzZMnbs2EFlZSUxMTFERESwdetWvWP9hN1uZ9y4caSmphIREQGAyWRi9erV\n",
              "Oif7qdLSUhYuXEhzczOKohAXF8dTTz3lt6csX2j+/PksWLDAL0+rtVqtPProo7S1tQGQkpLCH/7w\n",
              "B1JSUnROdmlWq5Wnn36a6upqFEXh97//vd9uEQHMnTuX2bNnM3PmTE2fRwpDCCGER2SXlBBCCI9I\n",
              "YQghhPCIFIYQQgiPSGEIIYTwiBSGEEIIj0hhCCGE8IgUhhBCCI9IYQghhPCIFIYQQgiPSGEIIYTw\n",
              "iBSGEEIIj/x/Tpf6bDJWx+8AAAAASUVORK5CYII=\n",
              "\">\n",
              "        \n",
              "      </div>\n",
              "      <script></script>\n",
              "      <script type=\"text/javascript\">\n",
              "        (() => {\n",
              "          const chartElement = document.getElementById(\"chart-50ca6f35-3dae-4273-8bd7-6f56945b0d43\");\n",
              "          async function getCodeForChartHandler(event) {\n",
              "            const chartCodeResponse =  await google.colab.kernel.invokeFunction(\n",
              "                'getCodeForChart', [\"chart-50ca6f35-3dae-4273-8bd7-6f56945b0d43\"], {});\n",
              "            const responseJson = chartCodeResponse.data['application/json'];\n",
              "            await google.colab.notebook.addCell(responseJson.code, 'code');\n",
              "          }\n",
              "          chartElement.onclick = getCodeForChartHandler;\n",
              "        })();\n",
              "      </script>\n",
              "      <style>\n",
              "        .colab-quickchart-chart-with-code  {\n",
              "            display: block;\n",
              "            float: left;\n",
              "            border: 1px solid transparent;\n",
              "        }\n",
              "\n",
              "        .colab-quickchart-chart-with-code:hover {\n",
              "            cursor: pointer;\n",
              "            border: 1px solid #aaa;\n",
              "        }\n",
              "      </style>"
            ]
          },
          "metadata": {}
        },
        {
          "output_type": "display_data",
          "data": {
            "text/plain": [
              "import numpy as np\n",
              "from google.colab import autoviz\n",
              "\n",
              "def value_plot(df, y, figscale=1):\n",
              "  from matplotlib import pyplot as plt\n",
              "  df[y].plot(kind='line', figsize=(8 * figscale, 4 * figscale), title=y)\n",
              "  plt.gca().spines[['top', 'right']].set_visible(False)\n",
              "  plt.tight_layout()\n",
              "  return autoviz.MplChart.from_current_mpl_state()\n",
              "\n",
              "chart = value_plot(_df_5, *['max_capacity'], **{})\n",
              "chart"
            ],
            "text/html": [
              "      <div class=\"colab-quickchart-chart-with-code\" id=\"chart-eb0d2b29-5217-406e-997b-3c1fc7a7f75d\">\n",
              "        <img src=\"data:image/png;base64,iVBORw0KGgoAAAANSUhEUgAAAYwAAADECAYAAACMRRb/AAAAOXRFWHRTb2Z0d2FyZQBNYXRwbG90\n",
              "bGliIHZlcnNpb24zLjcuMSwgaHR0cHM6Ly9tYXRwbG90bGliLm9yZy/bCgiHAAAACXBIWXMAAA9h\n",
              "AAAPYQGoP6dpAAAgPklEQVR4nO3dfVRUdeI/8PcdhscBBWZGBTGyFHwsMKnsW1paTGs+lCiRJ3Or\n",
              "w9o+uNaxUIvsQVfbsrN+95w2c9fV0/rd04PWZj8fQHO1dTXTrV1XU3xAcHiGEQIZZhjg8/uDGCFQ\n",
              "7gxz584w79c5c4L5zL3zHkLec++dez+SEEKAiIioFxq1AxARkX9gYRARkSwsDCIikoWFQUREsrAw\n",
              "iIhIFhYGERHJwsIgIiJZWBhERCQLC4OIiGRhYRAFgNTUVBw9elTtGOTnJF4ahCiwHD16FE888QRO\n",
              "nToFrVardhzyI9zCICIiWVgY5LcWLFiAVatW4dlnn8WECRMwefJk7Ny5EwUFBXj00UeRmpqKuXPn\n",
              "orCwEACwe/duzJkzB2lpabjjjjvwzDPPwGw2O9f30ksvITMzE83NzQCAoqIiTJw4Ebt37+41i81m\n",
              "w+9+9zuYTCakpqZi2rRp+PTTTwEAZ8+excKFC3HnnXfitttuw7x583DkyBHnsiUlJUhOTsZHH32E\n",
              "6dOnY8KECVi4cCEuXbrkfExv2QHgwIEDyMzMdD7m17/+tXMsOTkZhw8fRllZGbKzswEAaWlpSE1N\n",
              "xYYNG7B+/XosWLCgy/qqq6sxbtw4nD59Wtb/DwoAgshPPf744+K2224TX3/9tWhtbRVbtmwRt956\n",
              "q8jOzhZms1nY7Xbxq1/9Sjz11FNCCCEOHjwoTp8+LVpaWoTFYhGLFi0SmZmZzvXZbDbxyCOPiFdf\n",
              "fVVYrVYxY8YMsWbNGllZli5dKjIyMsT58+dFW1ubqKioECdPnhRCCFFQUCAOHTokmpqahN1uF7//\n",
              "/e/FhAkTRE1NjRBCCLPZLJKSkkRGRoYoKysTVqtVvPjii+InP/mJcDgcsrIfOnRIjB8/XuzatUvY\n",
              "7XZhs9nE4cOHneNJSUnin//8pxBCiK+++kokJSU51y2EEGVlZWLMmDHi4sWLzvv+8Ic/iHnz5rny\n",
              "v4T6ORYG+a3HH39crFixwvl9fX29SEpKEp9//rnzvj179oiJEyf2uPypU6dEUlKSaGhocN5nNpvF\n",
              "7bffLh5++GHx2GOPdfmjei0Wi0UkJSWJEydOyM5+2223iS+++ML5nElJSc7vhRCioaFBjB49Whw7\n",
              "dkxW9p/97Gfitddeu+bz9VYYQgjxzDPPiDfeeEMIIURra6u47777xPbt22W/Jur/eMSL/JrRaHR+\n",
              "HR4e3uN9jY2NAICvv/4a77zzDi5cuACr1ep8zOXLlxEZGQkASEhIQHp6Oj766CNs2rRJ1kHhkpIS\n",
              "AMDw4cN7HC8rK8Nbb72Fb7/9FvX19dBoNLhy5QosFkuXxyUkJDi/joyMRExMDMrLy2VlLykpwd13\n",
              "391r1uuZP38+XnjhBTz33HM4cuQIGhoaMH369D6tk/oXHsOggNDc3IxFixbhnnvuwZ49e/DNN99g\n",
              "69atAADR6YOCBw4cwM6dOzF37ly89tpraGho6HXdHX/oi4qKehx/+eWX0dbWhm3btuGbb77BsWPH\n",
              "nAXVWWlpqfPrxsZG1NbWYsiQIbKyDx069JrP/2MaTc//7O+++25ERUVh7969+PDDDzF79myEhYXJ\n",
              "WicFBhYGBQSHwwG73Y6BAwciMjISlZWVWL9+fZfHmM1m5OTkYPXq1Vi1ahUSExOxbNmyLoXSk9jY\n",
              "WMyYMQOvv/668wB7VVUVTp06BQBoaGhAREQEBgwYAKvVirfffrvLVkKHd999FxUVFWhqasJvf/tb\n",
              "3HDDDUhNTZWV/YknnsC2bduQl5eH5uZm2O32LgfWOzMYDACAixcvdrlfkiRkZWXhvffew8GDB5GV\n",
              "lXXd102Bh4VBAUGn02H16tV49913kZqaiuzsbDz44IPOcZvNhsWLF+Phhx/G9OnTodFosG7dOpw5\n",
              "cwZ//OMfe13/qlWrkJaWhuzsbKSmpuKxxx7DuXPnAAC5ubkoKCjA7bffjoceegiDBw/GkCFDuq1j\n",
              "7ty5ePLJJ3HXXXfh4sWL2LBhA7Raba/Zgfatg7fffhsbN27EpEmTMHnyZHzwwQc9Zh0+fDgWLFiA\n",
              "J554AhMnTsTGjRudY3PmzMHFixeRkpKCESNGyPrZUuDgiXtEKispKcG0adOQn5+PxMREVbO0trbi\n",
              "3nvvxQsvvIBZs2apmoV8D7cwiMjpww8/hEaj6bYFQwQA/JQUkQwPPfQQysrKehz78ssvERUV5eVE\n",
              "ntXQ0IDJkycjKioKa9euRUhIiNqRyAdxlxQREcnCXVJERCQLC4OIiGRhYRARkSwsDCIikqVff0rq\n",
              "yhUbmpocbi0bG6vD5cuNHk6kDGZVBrMqg1mV0ZesRqO8T/n16y2Ma10zpzeSBAQFaSBJHg6kAGZV\n",
              "BrMqg1mV4a2s/bowiIjIc1gYREQkCwuDiIhk6dcHvd31L3MdbmwB9PzpEBE5cQvjR67YW7DowxPI\n",
              "2ngE9pY2teMQEfkMlwtj6tSpMJlMmD17NmbPno1du3YBaJ9tLCsrCyaTCRkZGc65AJQaU0pESBAG\n",
              "RYag1urAkaLLij8fEZG/cGsLY/369fjss8/w2WefOef8XblyJTIzM5GXl4fs7GwsX77c+XglxpSi\n",
              "kSTcn9w+J3T+mWrFn4+IyF94ZJeUxWLByZMnnROumEwmVFRUoLi4WJExpaWPai+ML89b0ORoVfz5\n",
              "iIj8gVuHdXNycgAA48ePx/PPP4/y8nIYjUZote2rkyQJcXFxKCsrQ1RUlMfHXJmVzJ0TWcbFRWFY\n",
              "bDjMl5twqNCC9FGDXF+Jl3S8Pn85uajzf30ZsyqDWZXhrawuF8bWrVsRHx8Ph8OB9evXY9myZViy\n",
              "ZIkS2fosLCwYERHuTQQz85Z4/OHABRy8WIv5d9/s4WSep9f7zwQ+zKoMZlUGs17lcmHEx8cDAIKD\n",
              "g7Fw4UKYTCbExcWhuroaLS0t0Gq1EEKgvLwc8fHxiIyM9PiYXDabA1ar3dWXCEkCZt7aXhh/P1OF\n",
              "otJaRIb65mdsJan9l8RiaYCvT4XFrMpgVmUEUlaDQYFrSVmtVtTX1zu/37lzJ8aMGQO9Xo+xY8di\n",
              "x44dAIC8vDwMHjwYiYmJioy5Qgj3bqOGROHG2HA0twocOGdxez3euPXldTIrszIrs8rl0hStZrMZ\n",
              "ixcvRmtr+4HghIQEvPTSS0hISEBhYSFWrFiBuro66HQ6rF27FsnJyQCgyJgcVmszGhvd28IwGKKw\n",
              "ZsdJbDxcjLuGx+B/54x3eT3e0JG1psY/3gUxq+cxqzICKavcq9X26zm9+1oYxwsqMXfzcQRpJOxZ\n",
              "dCeiI4IVSNk3gfRL7U3MqgxmVYa3CoNnel/HjfoIJBl1aG0T2H++Ru04RESqYmH0ouMjtXsLeBIf\n",
              "EQU2FkYvHvjhrO9/XapDzRXXd28REfUXLIxexA8Mw/i4KAgAX5zlbikiClwsDBmc15bibikiCmAs\n",
              "DBnuTzJCAnCirB7l9Ta14xARqYKFIcOgqFCkJgwEAOzjVgYRBSgWhkwdV7Dlp6WIKFCxMGSaOtKA\n",
              "IAk4XXkFl2qb1I5DROR1LAyZYiJCkJYYAwDYW1ClchoiIu9jYbjgAc7ER0QBjIXhgvtGGKDVSCi0\n",
              "WHG+plHtOEREXsXCcEFUmBZ3DY8FAOw9w91SRBRYWBguSk+++mmpfnyhXyKiblgYLrrnZj1CtRqY\n",
              "62w4U3VF7ThERF7jdmFs374dycnJ2LdvHwDAYrHg6aefRnp6OmbMmIFjx445H6vEmFoiQoJwz016\n",
              "ADz4TUSBxa3CKCkpwccff4yUlBTnfevWrUNKSgry8/OxZs0aLF26FA6HQ7ExNT3Q6SS+Nu6WIqIA\n",
              "4XJhtLW1ITc3F7m5uQgJCXHev2fPHmRlZQEAbrnlFgwaNMi5RaDEmJruujEGupAgVDbY8d+y+t4X\n",
              "ICLqB7SuLrB582ZMmDAB48aNc95XW1sLh8MBo9HovG/o0KEoKytTZMwVkuTqK7y6zLWWDQ8JwpQR\n",
              "euz6rgr5BdVI+eE6U2roLasvYVZlMKsymLU7lwrj7NmzyM/Px9atW5XK41FhYcGIiAjp/YHXoNdf\n",
              "e57bebcnYtd3Vdh/zoK181IQpFH3t+p6WX0NsyqDWZXBrFe5VBjHjx9HaWkpTCYTAKC6uhrnz5/H\n",
              "4sWLodVqUV1d7dwiKC0tRXx8PGJiYjw+JpfN5oDV6voseZLU/oO3WK49ofqomFAMDNOi5ood+f82\n",
              "I+2GGJefxxPkZPUVzKoMZlVGIGU1GOQVjUvHMObPn49Dhw5h//792L9/P1JSUrBq1SrMnz8fDz74\n",
              "ID744AMAwIkTJ1BZWYm0tDQAUGRMLiHcu/W2rFajwX0jDQCAvNPVbj+PJ259eZ3MyqzMyqxyuXwM\n",
              "41qef/555OTkID09HcHBwXjrrbcQHBys2JgveCDZiL/9twJ/P1eDnGkjEBzE01qIqP+SRD8+Xdlq\n",
              "bUZjo3u7pAyGKNTUXH/zrrVNYPp7X+Gy1YH1j4zD/9wU24e07pGb1RcwqzKYVRmBlNVoVGCXFHUV\n",
              "pJFwf1LHfN+8thQR9W8sjD7qmInv4HkL7C1tKqchIlIOC6OPxscPwOCoUDQ2t+LwxctqxyEiUgwL\n",
              "o480ksSJlYgoILAwPKCjMP5RaIG1uVXlNEREymBheMDowZFIiA6DvaUN/7hgUTsOEZEiWBgeIEmS\n",
              "c2Kl/ALuliKi/omF4SEPjBoEADhSdBkNthaV0xAReR4Lw0NGGHS4SR8BR6vAgfM1aschIvI4FoYH\n",
              "dZyTwd1SRNQfsTA86IHk9t1Sx4prUWttVjkNEZFnsTA86IaYcIwaFIlWAew/x91SRNS/sDA8zLlb\n",
              "iifxEVE/w8LwsPt/+HjttyXfo/qK61fKJSLyVSwMD4sbEIZb4gdAANh3lruliKj/cLkwnnrqKcyc\n",
              "OROzZ8/G/Pnz8d133wEAioqKkJWVBZPJhIyMDJw7d865jBJjvqzjJL69Z3jJcyLqP1wujPXr1+Pz\n",
              "zz/HZ599hieffBLLly8HAKxcuRKZmZnIy8tDdna2836lxnzZtCQDJAD/LW9A6fdNaschIvIIlwtj\n",
              "wIABzq8bGhogSRIsFgtOnjyJWbNmAQBMJhMqKipQXFysyJivM0SG4rZhAwEA+wq4W4qI+ge35vTO\n",
              "ycnB0aNHAQAbN25EeXk5jEYjtNr21UmShLi4OJSVlSEqKsrjY4mJibKzSpLrr69jGXeW7ZA+ahCO\n",
              "m79HfkEVfnrHMPdX1AtPZPUWZlUGsyqDWbtzqzDefPNNAMCnn36KdevWYcmSJR4N5SlhYcGIiAhx\n",
              "e3m9Xt48tz2Ze2co3vziPM5WNeJ7IeFmY6Tb65KjL1m9jVmVwazKYNar3CqMDo888gheeeUVDBky\n",
              "BNXV1WhpaYFWq4UQAuXl5YiPj0dkZKTHx+Sy2RywWl3/aKsktf/gLZa+Tf5+e2I0Dl+sxUdHipB9\n",
              "l/ytIld4Kqs3MKsymFUZgZTVYJBXNC4dw6ivr0dlZaXz+3379iE6Ohp6vR5jx47Fjh07AAB5eXkY\n",
              "PHgwEhMTFRlzhRDu3fqybMct/YdLheSdqUJbm+jz+pTM6q0bszIrs/peVrkkIeQ/vLS0FEuWLIHd\n",
              "bockSYiNjcWyZcswevRoFBYWYsWKFairq4NOp8PatWuRnJwMAIqMyWG1NqOx0b0tDIMhCjU1fXtn\n",
              "ccXegvR3j8DRKvDXJyZgpAK7pTyV1RuYVRnMqoxAymo0ytvCcKkw/I3ahQEAL3x2CgfOW/DT24fh\n",
              "l/cM79vKehBIv9TexKzKYFZleKsweKa3wh7oNBNfP+5mIgoALAyF3XOzHmFaDcq+t+G7yitqxyEi\n",
              "chsLQ2HhwUGYfLMeAJDPS4UQkR9jYXhBxyXP9xVUo427pYjIT7EwvGDSjbHQhQSh6koz/lNar3Yc\n",
              "IiK3sDC8IESrwb0jDQC4W4qI/BcLw0s6Lnn+xdkatLRxtxQR+R8WhpfcfkM0BoZpUdvkwL/MdWrH\n",
              "ISJyGQvDS7RBGkxL6phYifN9E5H/YWF4Ucenpfafq4GjtU3lNERErmFheFHK0IHQ60LQYG/BV0W1\n",
              "aschInIJC8OLgjQS7k/64dNSBdwtRUT+hYXhZemj2i95/uV5C2yOVpXTEBHJx8LwsvFxUYgbEAqr\n",
              "oxWHL15WOw4RkWwsDC+TJKnLFWyJiPyFS4Vht9vxi1/8AiaTCbNmzcKTTz6J4uJiAIDFYsHTTz+N\n",
              "9PR0zJgxA8eOHXMup8SYP+uYie9Q4WU0NreonIaISB6XtzAeffRR7NmzBzt27MC0adOQm5sLAFi3\n",
              "bh1SUlKQn5+PNWvWYOnSpXA4HIqN+bOkQTrcEBMOe0sbvrxgUTsOEZEsLhVGaGgopkyZAkmSAAC3\n",
              "3norSktLAQB79uxBVlYWAOCWW27BoEGDnFsESoz5sy67pXgSHxH5CW1fFn7//fcxdepU1NbWwuFw\n",
              "wGg0OseGDh2KsrIyRcZc8UO3ubWMO8vKZRplxKavLuGrolo02B0YEBbs1nq8kdVTmFUZzKoMZu3O\n",
              "7cLYsGEDLl26hC1btsBms3kyk8eEhQUjIiLE7eX1ennz3LrDYIjCqCFROFPRgOPljchMG9an9SmZ\n",
              "1dOYVRnMqgxmvcqtwti0aRPy8/OxZcsWhIeHIzw8HFqtFtXV1c4tgtLSUsTHxyMmJsbjY3LZbA5Y\n",
              "rXaXX58ktf/gLRZlJ3+fOkKPMxUN2H78EqYOj3ZrHd7K6gnMqgxmVUYgZTUY5BWNywe9N2/ejJ07\n",
              "d2Lz5s0YMGCA8/4HH3wQH3zwAQDgxIkTqKysRFpammJjcgnh3q0vy8q9dRzHOHapDpbGZp/O6qkb\n",
              "szIrs/peVrkkIeQ/vKKiAlOmTMGwYcOg0+kAACEhIfj4449RU1ODnJwclJSUIDg4GC+//DLuvPNO\n",
              "AFBkTA6rtRmNje5tYRgMUaipUf6dxcL/+xbfVTQgZ9oIzEuRv/XUwZtZ+4pZlcGsygikrEajvC0M\n",
              "lwrD3/hDYWw9XoL/PViI1KEDsDErxeXlA+mX2puYVRnMqgxvFQbP9FZZx8UIvy2tR2WD6+VGROQt\n",
              "LAyVDRkQhpSh7ceCvjjLczKIyHexMHzAAz9cKoQn8RGRL2Nh+IBpSQZoJOBURQNK6prUjkNE1CMW\n",
              "hg/Q60IwcVg0AGAvr2BLRD6KheEjOs7JYGEQka9iYfiI+0YaEKSRcK66ERctVrXjEBF1w8LwEQPD\n",
              "gzHpxhgAwN6CKpXTEBF1x8LwIZ0ved6Pz6ckIj/FwvAhk2/WI1SrQXFtE85WN6odh4ioCxaGD4kM\n",
              "1eJ/hscC4DkZROR7WBg+5uqnpaq4W4qIfAoLw8fcfVMswoM1KK+342R5g9pxiIicWBg+Jiw4CJNv\n",
              "1gPgORlE5FtYGD4ofVT7taX2FlSjtY27pYjIN7AwfNCdiTGICtWiprEZ/y79Xu04REQAXCyM1atX\n",
              "Y+rUqUhOTsbp06ed9xcVFSErKwsmkwkZGRk4d+6comP9XYhWg/tGcrcUEfkWlwrDZDLhr3/9K4YO\n",
              "Hdrl/pUrVyIzMxN5eXnIzs7G8uXLFR0LBB2flvribA1aWttUTkNE5GJhpKWlYciQIV3us1gsOHny\n",
              "JGbNmgWgvVQqKipQXFysyFigmHhDDKLDg1HX5MAxc53acYiIoO3rCsrLy2E0GqHVtq9KkiTExcWh\n",
              "rKwMUVFRHh9LTEx0KZ8kuf6aOpZxZ1lPCQ6ScH+SAdv+U469BdW464cT+n7MF7LKxazKYFZlMGt3\n",
              "fS4MXxYWFoyIiBC3l9fr5U2MrpR5dyRi23/KceC8BeuiIxCqDbrmY9XO6gpmVQazKoNZr+pzYcTF\n",
              "xaG6uhotLS3QarUQQqC8vBzx8fGIjIz0+JgrbDYHrFa7y69Jktp/8BZLA9Q82Xp4VDCMkSGovtKM\n",
              "/3fcjCkj9N0e4ytZ5WBWZTCrMgIpq8Egr2j6/LFavV6PsWPHYseOHQCAvLw8DB48GImJiYqMuUoI\n",
              "9259WdZTNwlSpyvYVvl0Vn/6uTIrszJr92XlkIQLFyxauXIlDhw4gJqaGkRHR0On02Hv3r0oLCzE\n",
              "ihUrUFdXB51Oh7Vr1yI5ORkAFBmTy2ptRmOje1sYBkMUamrUf2dxsrweT/713wjTapD/i0kID+66\n",
              "W8qXsvaGWZXBrMoIpKxGo7wtDJcKw9/0h8IQQuDhP32Nsno71swY7dzi6OBLWXvDrMpgVmUEUla5\n",
              "hcEzvX2cJEl4oNOlQoiI1MLC8APpP2xV/LPQgiv2FpXTEFGgYmH4gZFGHW6MDUdzq8CXFyxqxyGi\n",
              "AMXC8AOSJCE9uX23FGfiIyK1sDD8RMfB7q+Ka1HX5FA5DREFIhaGn7hRH4GRRh1a2wT+fq5G7ThE\n",
              "FIBYGH4k3TnfN3dLEZH3sTD8yAOj2gvjX+Y61DQ2q5yGiAINC8OPDB0YjnFxUWgTwP6z3MogIu9i\n",
              "YfiZq9eWYmEQkXexMPzM/UlGSAD+U1aPinqb2nGIKICwMPzMoKhQpCQMBMCD30TkXSwMP8RPSxGR\n",
              "GlgYfmhqkgFBEnC68grMtU1qxyGiAMHC8EOxESFIuyEGAJDPrQwi8hKfL4yioiJkZWXBZDIhIyMD\n",
              "586dUzuST+g4JyP/TJXKSYgoUPh8YaxcuRKZmZnIy8tDdnY2li9frnYkn3DvCD20GgkXaqwoqGhQ\n",
              "Ow4RBQCt2gGux2Kx4OTJk/jzn/8MADCZTFi1ahWKi4vdmt+7PxkQFoxJN8bgH4WXsf2bEmSMHdRl\n",
              "pi1J6r7Mj++SfnzP9b/tcb0/XkdPz9t5LMzegsbmFlmzgnXLd73Hyn+orLVKEmBztMLmaPWL2daa\n",
              "mlvR1NwKgU7zO6P9ix/n7zx+9Wt0+cK5bLdlrn7T4xjaZ4ns8nydHidJQJMmCLXf2/zj5+pHWaNj\n",
              "dIo/j08XRnl5OYxGI7Ta9piSJCEuLg5lZWWyC8OVPyQ/XsadZb3JNHoQ/lF4GRu/LMTGLwvVjkNE\n",
              "KkoZFo1NWbco+hw+XRh9FRYWjIiIELeX1+vlzXOrljl3hGPrv0pRUNl1l5Svvxsi/yVJV7fQpB/e\n",
              "UUldxjrebaHbWPv3Pv4uzI/dZNQp/jfLpwsjLi4O1dXVaGlpgVarhRAC5eXliI+Pl7W8zeaA1Wp3\n",
              "+Xklqb0sLBbfn/z9/xakupz1x7sMgE67JJyPuf54Tw/qbR2QgNjYSFy+fOWaWXvK5io5q+j1IZJA\n",
              "bGwULl/2/d8BSQL0sVG4fPmK84V123UoST388e56h9TDmOThzWx/+rcVSFkNBnlF49OFodfrMXbs\n",
              "WOzYsQNz5sxBXl4eBg8e7NLxi778jxbCf96tu5a1+x+Bbsc35O7od4EkAWHBQQgJ0vj8z1WSgMhQ\n",
              "LWzBWr/IqgvVoik4yONZlXrt/ffflrqUzurThQEAr732GlasWIH33nsPOp0Oa9euVTsSEVFA8vnC\n",
              "uOmmm/Dhhx+qHYOIKOD5/HkYRETkGyThiaOMRETU73ELg4iIZGFhEBGRLCwMIiKShYVBRESysDCI\n",
              "iEgWFgYREcnCwiAiIllYGEREJAsLg4iIZPH5a0l5W1FREZYvX47a2lpERkbijTfewMiRI9WO1aPV\n",
              "q1dj//79KC0txd/+9jeMHj1a7Ug9stvteO6553DhwgWEhoZCr9fj1Vdf9dlZE5966ilUV1dDo9FA\n",
              "p9MhNzcXY8aMUTvWdW3fvh0vvvgi3nnnHdx///1qx+nR1KlTERwcjLCwMADAokWLMH36dJVT9ay5\n",
              "uRlvvPEGDh06hNDQUCQnJ2PdunVqx+qmtrYWP/3pT53f22w2mM1mHD58GNHR0Z5/QkFdLFiwQGzf\n",
              "vl0IIcTu3bvFnDlzVE50bV9//bUoLy8X9913n/juu+/UjnNNNptNHDhwQLS1tQkhhPjLX/4iHn/8\n",
              "cZVTXdv333/v/Do/P1/MnDlTxTS9M5vN4tFHHxWZmZli7969ase5Jl//Pe3sN7/5jXj99dedv7NV\n",
              "VVUqJ5LnT3/6k1i0aJFi6+cuqU465hCfNWsWgPY5xCsqKlBcXKxysp6lpaVhyJAhasfoVWhoKKZM\n",
              "meKcjOfWW29FaWmpyqmubcCAAc6vGxoaPD6JkCe1tbUhNzcXubm5CAlxf3ZJuspqtWLbtm147rnn\n",
              "nP/vjUajyqnk2bZtG+bOnavY+rlLqhNPzCFOvXv//fcxdepUtWNcV05ODo4ePQoA2Lhxo8pprm3z\n",
              "5s2YMGECxo0bp3YUWXJycgAA48ePx/PPP4/Y2FiVE3V36dIlREdHY8OGDTh8+DDCwsKwePFiTJo0\n",
              "Se1o1/XNN9+gvr4e9957r2LPwS0M8qoNGzbg0qVLWLp0qdpRruvNN9/EwYMH8eyzz/rkvmsAOHv2\n",
              "LPLz8/Hzn/9c7SiybN26FZ9//jk++eQTxMTEYNmyZWpH6lFraytKS0sxYsQIfPLJJ8jNzcWzzz6L\n",
              "mpoataNd17Zt2zB79mznG14lcAujk77OIU7Xt2nTJuTn52PLli0IDw9XO44sjzzyCF555RXU1tYi\n",
              "JiZG7ThdHD9+HKWlpTCZTACA6upqnD9/HlVVVZg/f77K6brr+HcUHByMhQsXOnP7mri4OGg0Gsyc\n",
              "ORMAMGbMGCQkJODs2bMwGAwqp+tZY2Mjdu/ejW3btin6PNzC6KTzHOIA3JpDnHq2efNm7Ny5E5s3\n",
              "b+5yjMDX1NfXo7Ky0vn9vn37EB0drcwnTvpo/vz5OHToEPbv34/9+/cjJSUFq1at8smysFqtqK+v\n",
              "d36/c+dOn/3kWWxsLCZNmoRDhw4BAMxmM0pKSnDzzTernOzadu3ahVGjRimekRMo/UhhYSFWrFiB\n",
              "uro65xziycnJasfq0cqVK3HgwAHU1NQgOjoaOp0Oe/fuVTtWNxUVFZgyZQqGDRsGnU4HAAgJCcHH\n",
              "H3+scrLuSktLsWTJEtjtdkiShNjYWCxbtsxnP7Lc2YIFC7Bw4UKf/Fit2WzG4sWL0draCgBISEjA\n",
              "Sy+9hISEBJWT9cxsNuPFF19EXV0dJEnCL3/5S5/dIgKArKwszJs3DxkZGYo+DwuDiIhk4S4pIiKS\n",
              "hYVBRESysDCIiEgWFgYREcnCwiAiIllYGEREJAsLg4iIZGFhEBGRLCwMIiKShYVBRESysDCIiEiW\n",
              "/w+T9uUEPt9v0QAAAABJRU5ErkJggg==\n",
              "\">\n",
              "        \n",
              "      </div>\n",
              "      <script></script>\n",
              "      <script type=\"text/javascript\">\n",
              "        (() => {\n",
              "          const chartElement = document.getElementById(\"chart-eb0d2b29-5217-406e-997b-3c1fc7a7f75d\");\n",
              "          async function getCodeForChartHandler(event) {\n",
              "            const chartCodeResponse =  await google.colab.kernel.invokeFunction(\n",
              "                'getCodeForChart', [\"chart-eb0d2b29-5217-406e-997b-3c1fc7a7f75d\"], {});\n",
              "            const responseJson = chartCodeResponse.data['application/json'];\n",
              "            await google.colab.notebook.addCell(responseJson.code, 'code');\n",
              "          }\n",
              "          chartElement.onclick = getCodeForChartHandler;\n",
              "        })();\n",
              "      </script>\n",
              "      <style>\n",
              "        .colab-quickchart-chart-with-code  {\n",
              "            display: block;\n",
              "            float: left;\n",
              "            border: 1px solid transparent;\n",
              "        }\n",
              "\n",
              "        .colab-quickchart-chart-with-code:hover {\n",
              "            cursor: pointer;\n",
              "            border: 1px solid #aaa;\n",
              "        }\n",
              "      </style>"
            ]
          },
          "metadata": {}
        },
        {
          "output_type": "display_data",
          "data": {
            "text/plain": [
              "<google.colab._quickchart_helpers.SectionTitle at 0x7d28a6943e50>"
            ],
            "text/html": [
              "<h4 class=\"colab-quickchart-section-title\">Faceted distributions</h4>\n",
              "<style>\n",
              "  .colab-quickchart-section-title {\n",
              "      clear: both;\n",
              "  }\n",
              "</style>"
            ]
          },
          "metadata": {}
        },
        {
          "output_type": "display_data",
          "data": {
            "text/plain": [
              "import numpy as np\n",
              "from google.colab import autoviz\n",
              "\n",
              "def violin_plot(df, value_colname, facet_colname, figscale=1, mpl_palette_name='Dark2', **kwargs):\n",
              "  from matplotlib import pyplot as plt\n",
              "  import seaborn as sns\n",
              "  figsize = (12 * figscale, 1.2 * figscale * len(df[facet_colname].unique()))\n",
              "  plt.figure(figsize=figsize)\n",
              "  sns.violinplot(df, x=value_colname, y=facet_colname, palette=mpl_palette_name, **kwargs)\n",
              "  sns.despine(top=True, right=True, bottom=True, left=True)\n",
              "  return autoviz.MplChart.from_current_mpl_state()\n",
              "\n",
              "chart = violin_plot(_df_6, *['ride_id', 'index'], **{'inner': 'stick'})\n",
              "chart"
            ],
            "text/html": [
              "      <div class=\"colab-quickchart-chart-with-code\" id=\"chart-acf6579c-2451-402e-aa0e-fd10de5a632f\">\n",
              "        <img src=\"data:image/png;base64,iVBORw0KGgoAAAANSUhEUgAAAhkAAAGlCAYAAABX+uQYAAAAOXRFWHRTb2Z0d2FyZQBNYXRwbG90\n",
              "bGliIHZlcnNpb24zLjcuMSwgaHR0cHM6Ly9tYXRwbG90bGliLm9yZy/bCgiHAAAACXBIWXMAAA9h\n",
              "AAAPYQGoP6dpAAAjg0lEQVR4nO3de1RU9f7/8ddGFBQpMTmJSZ5sefCepaZpfj1RKwoDUtFMTfO0\n",
              "tIuVkCVaZlfzcjS7eD0u08w6dZApNDXNXJnVyfJSdr5SdnKJiJZgFqIy3D6/P/o130xDsfmwh/H5\n",
              "+Gtm9uzhvXdTPdfee2YcY4wRAACAn4W4PQAAAAhORAYAALCCyAAAAFYQGQAAwAoiAwAAWEFkAAAA\n",
              "K4gMAABgBZEBAACsCHV7ADcVFBw57XMaN47QDz8crYFpzg3sT/9if/oX+9P/2Kf+FUj7Mzo68rTP\n",
              "4UhGFRxHqlMnRI7j9iTBgf3pX+xP/2J/+h/71L9q4/4kMgAAgBVEBgAAQcwYI7d+pozIAAAgSBlj\n",
              "lJGRpoyMdFdC45y+8BMAgGDm9ZYoJ2en73Z4eP0a/fscyQAAAFYQGQAAwAoiAwAAWEFkAAAAK4gM\n",
              "AABgBZEBAACsIDIAAIAVRAYAALCCyAAAAFYQGQAAwAoiAwAAWEFkAAAAK4gMAABgBZEBAACsCIrI\n",
              "WLJkiQoKCtweAwAA/EpQRMbSpUtVWFjo9hgAAOBXrEbG9u3bdeuttyo5OVlJSUlav369vvzySw0a\n",
              "NEhJSUlKTU3V1q1bJUn79u1Tly5dfOsePXpUcXFxvvtxcXGaP3++UlNTFR8fr6ysLEnS7NmzdfDg\n",
              "QaWlpSklJUU5OTk2NwkAAJyhUFsv/OOPP2r06NF64YUX1KVLF1VWVurw4cPq37+/nnrqKfXq1Utb\n",
              "tmzR/fffr3Xr1p3Ra9arV0/Lly/Xt99+q9TUVKWkpOjee++Vx+PRc889pzZt2tjaHAAAUE3WjmR8\n",
              "/vnnuuSSS3xHJ0JCQlRYWKiQkBD16tVLktSlSxddcMEFZ3z0ISkpSZJ06aWXKjQ0lFMkAAAEMNev\n",
              "yXAcR5IUGhqqiooK3+Ner/ek54aFhfluh4SEqLy83P6AAADgrFiLjMsvv1y5ubnasmWLJKmyslJN\n",
              "mjRRZWWlPvroI0nStm3bVFhYqDZt2qhJkyaSpP/+97+SpOzs7DP+WxERETpy5IiftwAAAPwR1q7J\n",
              "OP/88zV79mxNnTpVR48eVUhIiMaMGaMXX3xRkydP1tSpUxUWFqbnn39eERERkqSJEyfqzjvvVKNG\n",
              "jZSQkHDGf2vYsGF69NFHFR4erqlTp3JtBgAAAcAxxhi3h3BLQUHVRz8cR2rSJFKFhUd07u4l/2F/\n",
              "+hf707/Yn/7HPvWvs9mfJSXHNWBAsiQpM3OFwsPr+22e6OjI0z7H9WsyAABAcCIyAACAFUQGAACw\n",
              "gsgAAABWEBkAAMAKIgMAAFhBZAAAACuIDAAAYAWRAQAArCAyAACAFUQGAACwgsgAAABWEBkAAMAK\n",
              "az/1DgAA3BUWFq42bdr5btc0IgMAgCDlOI6mTZvlu13TiAwAAIKYG3HxC67JAAAAVhAZAADACiID\n",
              "AABYQWQAAAAriAzUOGOMjDFujwEAsIzIQI0yxmjcuDRlZKQTGgAQ5PgIK2pUSUmJcnJ2SpK83hKF\n",
              "h9d3eSIAgC0cyQAAAFYQGQAAwAoiAwAAWEFkAAAAK4gMAABgBZEBAACsIDIAAIAVRAYAALCCyAAA\n",
              "AFYQGQAAwAoiAwAAWEFkAAAAK4gMAABgBZEBAACsIDIAAIAVRAYAALAi1NYLx8XFKS0tTRs2bNCh\n",
              "Q4f08MMP69tvv9XatWtVXFysp556St26dZMkbdq0SXPnzpXX61VISIgefPBBde/eXQUFBXrggQd0\n",
              "9OhReb1edevWTRMnTlRISIg8Ho9WrFihxo0b65tvvlHdunX1/PPPKzY21tYmAQCAarB6JKNBgwbK\n",
              "zMzU5MmT9dBDDyk6Oloej0fp6emaPn26JCkvL0+zZ8/WwoUL5fF4NHPmTD344IMqLS3Veeedp/nz\n",
              "5/uCIj8/X2vWrPG9/pdffqn09HStXLlSPXr00MKFC21uDgAAqAZrRzIkKTExUZLUvn17HTt2TH36\n",
              "9JEkdezYUbm5uZKkDz74QLm5uRoyZIhvPcdxtH//fl144YWaMWOGtm7dKmOMfvjhB7Vq1cr3Op06\n",
              "dfIduejUqZOWLVtmc3MAAEA1WI2MsLAwSVJISMgJ9+vUqaOKigrf83r27KmZM2eetP7cuXN16NAh\n",
              "ZWZmKiwsTFOmTJHX6z3p9U/1mgAAwF2uX/h59dVX6+OPP9ZXX33le2zHjh2SpKKiIkVHRyssLEwF\n",
              "BQV655133BoTAABUk9UjGWeiRYsWmjlzph577DEdP35cZWVlatu2rWbOnKlhw4bp/vvvV58+ffSn\n",
              "P/1JPXr0cHtcAABwhhxjjHF7CLcUFBypcrnjSE2aRKqw8IjO3b3kP44jRUSE6pprrpEkZWauUHh4\n",
              "fZenqr14f/oX+9P/2Kf+FWj7Mzo68rTPcf10CQAACE5EBgAAsILIAAAAVhAZAADACiIDAABYQWQA\n",
              "AAAriAwAAGAFkQEAAKwgMgAAgBVEBgAAsILIAAAAVhAZAADACiIDAABY4fpPvePcEh4errZt28kY\n",
              "KSws3O1xAAAWERmoUY7jaNq0WTLm59sAgOBFZKDGERcAcG7gmgwAAGAFkQEAAKwgMgAAgBVEBgAA\n",
              "sILIqAHGGBlj3B4DAIAaRWRYZoxRRkaaMjLSCQ0AwDmFj7Ba5vWWKCdnp+92eHh9lycCAKBmcCQD\n",
              "AABYQWQAAAAriAwAAGAFkQEAAKwgMgAAgBVEBgAAsILIAAAAVhAZAADACiIDAABYQWQAAAAriAwA\n",
              "AGAFkQEAAKwgMgAAgBVEBgAAsKJWRMa+ffv0z3/+s8rn9OvXT5s3b66hiQAAwOnUisjIz8/X66+/\n",
              "7vYYAACgGkLdHuC3SkpKNH78eO3atUuhoaFq0qSJ9u/fr/379yslJUUxMTGaP3++tm3bpieeeEIV\n",
              "FRXq0KGDKioq3B4dAAD8SsBFxqZNm3TkyBGtXr1akvTjjz/q66+/1jPPPKPs7GxJUmlpqdLT0zVl\n",
              "yhT16NFDH374oTwej5tjAwCA3wi40yWtW7fWt99+q8cff1yrV69WaOjJHbR7927VqVNHPXr0kCRd\n",
              "ffXVio2NrelRAQBAFQIuMmJjY7Vq1Sr16tVL27ZtU1JSkoqKik67nuM4NTAdAAA4UwEXGd99950c\n",
              "x9G1116rcePGyRijRo0a6ciRI77ntGzZUhUVFfrkk08kSR9//LH27t3r1sgAAOAUAu6ajK+//lrP\n",
              "PvusjDGqqKhQSkqKLr/8crVq1Uo33XSTmjdvrvnz52vWrFl64oknVFlZqfbt26t169Zujw4AAH4l\n",
              "4CKjd+/e6t2790mPL1iw4IT7V1xxhe9CUAAAEHgC7nQJAAAIDkQGAACwgsgAAABWEBkAAMAKIgMA\n",
              "AFhBZAAAACuIDAAAYAWRAQAArCAyAACAFUQGAACwgsgAAABWEBkAAMAKIgMAAFgRcL/CGmzCwsLV\n",
              "pk07320AAM4VRIZljuNo2rRZvtsAAJwriIwaQFwAAM5FXJMBAACsIDIAAIAVRAYAALCCyAAAAFYQ\n",
              "GQAAwAoiw4+MMTLGuD0GAAABgcjwE2OMMjLSlJGRTmgAACC+J8NvvN4S5eTs9N0OD6/v8kQAALiL\n",
              "IxkAAMAKIgMAAFhBZAAAACuIDAAAYAWRAQAArCAyAACAFUQGAACwgsgAAABWEBkAAMAKIgMAAFhB\n",
              "ZAAAACuIDAAAYAWRAQAArCAyAACAFbUqMr7//nsNHjzY7TEAAMAZqFWRceGFF+q1115zewwAAHAG\n",
              "AiIy4uLiNG/ePA0YMEDx8fFav369FixYoH79+un666/X5s2bJUn79u1Tly5dTlhv/vz5Sk1NVXx8\n",
              "vLKystzaBAAA8BsBERmS1KBBA2VmZmry5Ml66KGHFB0dLY/Ho/T0dE2fPv1316tXr56WL1+uhQsX\n",
              "6umnn1Z5eXkNTg0AAH5PwERGYmKiJKl9+/Y6duyY+vTpI0nq2LGjcnNzf3e9pKQkSdKll16q0NBQ\n",
              "FRYW2h8WAACcVsBERlhYmCQpJCTkhPt16tRRRUXFadf7ZV2OZAAAEBgCJjIAAEBwITIAAIAVoW4P\n",
              "IElff/2173ZERMQJ95s2bart27dLkpo3b64tW7accj1Jvk+hAAAA93EkAwAAWEFkAAAAK4gMAABg\n",
              "BZEBAACs8EtklJaW+uNlAABAEKl2ZIwcOVI//vij7/7evXs1aNAgf84EAACCQLUjo3v37kpNTdX2\n",
              "7du1evVqDRs2TKNGjbIxGwAAqMWq/T0Zd9xxhzp06KBhw4apUaNGeu211xQbG2tjNgAAUItV+0jG\n",
              "vn37NH36dPXt21cXXXSR5s2bJ6/Xa2M2AABQi1U7MoYMGaIRI0boySef1Kuvvqrzzz9fqampNmYD\n",
              "AAC1WLVPlyxZskSXXHKJpJ9/ITUjI0PdunXz+2AAAKB2q/aRjNjYWL300kt67LHHJP386ZJf/9w6\n",
              "AACAdBaR8eSTT2r37t369NNPJUmNGjXS3//+d78PBgAAardqny754osvlJ2drZtvvlmSdN5556m8\n",
              "vNzfc9U6YWHhatOmne82AADnumpHxm9PjVRUVMgY47eBaivHcTRt2izfbQAAznXVjoy4uDhlZ2er\n",
              "srJSubm5Wrhwoa688kobs9U6xAUAAP+n2tdkjB8/Xlu3blVhYaFuvfVWhYSEaOzYsTZmAwAAtZhj\n",
              "zuFzHQUFR6pc7jhSkyaRKiw8onN3L/kP+9O/2J/+xf70P/apfwXa/oyOjjztc874dMlbb71V5fJf\n",
              "LgQFAACQqhEZGzZskCQdPXpUn376qTp37izHcbR161Z17dqVyAAAACc448h44YUXJEmjR49WVlaW\n",
              "/vKXv0iSvvnmG98ynBt+OcPGha4AgKpU+8LPvXv3+gJDklq1aqU9e/b4cyYEMGOMMjLSlJGRzkeX\n",
              "AQBVqnZkREREyOPxyBgjY4w8Ho8iIiJszIYA5PWWKCdnp3Jy/ldeb4nb4wAAAli1I+OZZ57Ra6+9\n",
              "pg4dOqhDhw56/fXX9cwzz9iYDQAA1GLV/jKuli1bavny5SouLpYkNWzY0O9DAQCA2q/akSFJBw8e\n",
              "1L59+1RRUeF7rGvXrn4bCgAA1H7Vjox58+Zp0aJFio2NVUjIz2dbHMfR8uXL/T4cAACovaodGVlZ\n",
              "WXr33XcVFRVlYx4AABAkqn3hZ5MmTQgMAABwWtU+ktGjRw9NnjxZSUlJqlevnu/x1q1b+3UwAABQ\n",
              "u1U7Mn75DZP33nvP95jjOCfcBwAAqHZk/PIbJgAAAFU548g4duyYGjRo4Pt+jN/i+zIAAMCvnXFk\n",
              "DBkyRG+++aa6dOkix3FO+N0Kx3GUk5NjZUAAAFA7nXFkvPnmm5Kkr776ytowAAAgeFT7I6wAAABn\n",
              "gsgAAABWnNVvl/xRXq9X6enp+vbbbxUWFqYLLrhAjz/+uFq0aKHbbrtN+fn5ioyMlCT17dtXt99+\n",
              "uyRp0qRJ2r59u6KiojRnzhxFRkbKGKORI0dq0qRJuvjii93YHAAAcAquRIYk3XLLLfqf//kfOY6j\n",
              "ZcuWaeLEiXrllVckSQ8//LCuu+66E56/a9cu7dmzRytXrtTs2bOVnZ2toUOHKjMzU926dSMwAAAI\n",
              "MK6cLgkLC1Pv3r3lOI4k6bLLLlN+fn6V64SGhqq0tFSVlZU6fvy46tatq4MHD+rtt9/WiBEjamJs\n",
              "AABQDQFxTcbSpUsVHx/vuz9jxgwlJSUpLS1NeXl5kqSWLVuqW7du6tu3r/Ly8pScnKwpU6Zo3Lhx\n",
              "Cg117YAMAAD4Ha7/33n+/Pnau3evlixZIkmaPn26YmJiZIzRq6++qjvvvFOrV6+WJKWnpys9PV2S\n",
              "tH79ejVt2lQXXXSRJkyYoOLiYt14441KTEx0a1MAAMCvuHokY9GiRVq3bp0WLlyo+vXrS5JiYmIk\n",
              "/fwFX0OHDlVeXp4OHz58wnrFxcV66aWXdP/99+vll19W165dNWvWLM2ZM0clJSU1vh0AAOBkrkXG\n",
              "4sWLtWrVKi1evFjnnXeeJKm8vFyFhYW+56xdu/aUPy0/Y8YMjR49WvXr19fx48flOI4cx1F5ebnK\n",
              "yspqdDsAAMCpuXK65LvvvtPUqVMVGxurYcOGSZLq1aunl19+WaNGjVJZWZkcx1FUVJTmzZt3wrpb\n",
              "t26V1+tVz549Jf38decPPPCAFi5cqOTkZN9HXwEAgLtciYymTZvq66+/PuUyj8dT5bqdO3dW586d\n",
              "ffcvvvhiLV++3K/zAQCAPy4gPl0CAACCD5EBAACsIDIAAIAVRAYAALCCyAAAAFYQGQAAwAoiAwAA\n",
              "WEFkAAAAK4gMAABgBZEBAACsIDIAAIAVRAYAALCCyAAAAFa48iusqL3CwsLVpk07320AAH4PkYFq\n",
              "cRxH06bN8t0GAOD3EBmoNuICAHAmuCYDAABYQWQAAAAriAwAAGAFkQEAAKwgMuAKY4yMMW6PAQCw\n",
              "iMhAjTPGKCMjTRkZ6YQGAAQxPsKKGuf1lignZ6fvdnh4fZcnAgDYwJEMAABgBZEBAACsIDIAAIAV\n",
              "RAYAALCCyAAAAFYQGQAAwAoiAwAAWEFkAAAAK4gMAABgBZEBAACsIDIAAIAVRAYAALCCyAAAAFYQ\n",
              "GQAAwArXIiM+Pl4JCQlKSUlRSkqKVq9eLUnas2ePBg0apISEBPXv31/ffPONJKmsrEz33HOPkpOT\n",
              "de+996q8vFyS5PV6NWTIEP30009ubQoAADgFV49kPPfcc8rOzlZ2drYSExMlSZMmTdLAgQO1du1a\n",
              "jRw5UuPHj5ckffjhhzr//PO1YsUKRUZGatOmTZKkuXPnasiQITr//PNd2w4AAHCygDpdcujQIf3n\n",
              "P/9RcnKyJCkhIUHfffedcnNzFRoaqpKSEklSSUmJ6tatq6+++kq7d+/2BQoAAAgcrkbGuHHjlJSU\n",
              "pIcfflg//PCDDhw4oOjoaIWGhkqSHMdRTEyM9u/fr549eyoiIkLJycmKjIxU9+7dNXXqVD3yyCNu\n",
              "bgIAAPgdoW794WXLlqlZs2YqKyvTc889p4yMDI0ZM+Z3nx8SEqKnn37ad3/JkiW67rrrVF5errFj\n",
              "x6q0tFSDBw/WVVddVRPjAwCA03DtSEazZs0kSXXr1tXw4cO1ZcsWxcTEqKCgwHdRpzFGBw4c8D33\n",
              "F/n5+frggw80ePBgPf/88xo4cKCmTJlyQoQAAAB3uRIZx44dU1FRke/+qlWr1LZtW11wwQVq166d\n",
              "VqxYIUlau3atLrzwQrVo0eKE9SdPnqwJEyYoJCREx48fl+M4vtsAACAwuHK65NChQ7rvvvtUUVEh\n",
              "SWrevLmmTZsmSXriiSc0YcIELViwQBEREZoyZcoJ665cuVKtW7dWq1atJEmjRo3SxIkTVVZWprvv\n",
              "vrtmNwQAAPwuVyIjNjZWb7311imXtWzZUm+88cbvrpuUlHTC/Y4dO/qOfAAAgMARUB9hBQAAwYPI\n",
              "AAAAVhAZAADACiIDAABYQWQAAAAriAwAAGAFkQEAAKwgMgAAgBVEBgAAsILIAAAAVhAZAADACiID\n",
              "AABYQWQAAAArXPkVVpzbwsLC1aZNO99tAEBwIjJQ4xzH0bRps3y3AQDBiciAK4gLAAh+XJMBAACs\n",
              "IDIAAIAVRAYAALCCyAAAAFYQGahVjDEyxrg9BgDgDBAZqDWMMcrISFNGRjqhAQC1AB9hRa3h9ZYo\n",
              "J2en73Z4eH2XJwIAVIUjGQAAwAoiAwAAWEFkAAAAK4gMAABgBZEBAACsIDIAAIAVRAYAALCCyAAA\n",
              "AFYQGQAAwAoiAwAAWEFkAAAAK4gMAABgBZEBAACsIDIAAIAVrvzU++HDh3X77bf77peUlCgvL08f\n",
              "f/yx7rvvPuXn5ysyMlKS1LdvX99zJ02apO3btysqKkpz5sxRZGSkjDEaOXKkJk2apIsvvtiFrQEA\n",
              "AKfiSmRERUUpOzvbd3/RokX67LPP1KhRI0nSww8/rOuuu+6EdXbt2qU9e/Zo5cqVmj17trKzszV0\n",
              "6FBlZmaqW7duBAYAAAEmIE6XLF++XKmpqVU+JzQ0VKWlpaqsrNTx48dVt25dHTx4UG+//bZGjBhR\n",
              "Q5MCAIAz5XpkbNu2TUVFRfrrX//qe2zGjBlKSkpSWlqa8vLyJEktW7ZUt27d1LdvX+Xl5Sk5OVlT\n",
              "pkzRuHHjFBrqygEZAABQBdf/77x8+XKlpKT4QmH69OmKiYmRMUavvvqq7rzzTq1evVqSlJ6ervT0\n",
              "dEnS+vXr1bRpU1100UWaMGGCiouLdeONNyoxMdG1bQEAAP/H1SMZR48e1Zo1a9S/f3/fYzExMZIk\n",
              "x3E0dOhQ5eXl6fDhwyesV1xcrJdeekn333+/Xn75ZXXt2lWzZs3SnDlzVFJSUqPbAAAATs3VyFi9\n",
              "erVat26tSy+9VJJUXl6uwsJC3/K1a9eqSZMmioqKOmG9GTNmaPTo0apfv76OHz8ux3HkOI7Ky8tV\n",
              "VlZWo9sAAABOzdXTJVlZWRowYIDvfmlpqUaNGqWysjI5jqOoqCjNmzfvhHW2bt0qr9ernj17SpKG\n",
              "DBmiBx54QAsXLlRycrLvo68AAMBdrkbG66+/fsL9Bg0ayOPxVLlO586d1blzZ9/9iy++WMuXL7cy\n",
              "HwAAOHuuf7oEAAAEJyIDAABYQWQAAAAriAwAAGAFkQEAAKwgMgAAgBVEBgAAsILIAAAAVhAZAADA\n",
              "CiIDAABYQWQAAAAriAwAAGAFkQEAAKxw9VdYgeoICwtXmzbtfLcBAIGNyECt4TiOpk2b5bsNAAhs\n",
              "RAZqFeICAGoPrskAAABWEBkAAMAKIgMAAFhBZAAAACuIDKAWM8bIGOP2GABwSkQGUEsZYzRq1Chl\n",
              "ZKQTGgACEh9hBWopr7dEX375pe92eHh9lycCgBNxJAMAAFhBZAAAACuIDAAAYAWRAQAArCAyAACA\n",
              "FUQGAACwgsgAAABWEBkAAMAKIgMAAFhBZAAAACuIDAAAYAWRAQAArCAyAACAFUQGAACwgsgAAABW\n",
              "EBkAAMAK1yIjLi5O8+bN04ABAxQfH6/169drwYIF6tevn66//npt3rxZklReXq477rhD/fr1U58+\n",
              "fTR27FgdO3ZMkrRixQr169dPpaWlMsborrvu0rx589zaJAAA8CuuHslo0KCBMjMzNXnyZD300EOK\n",
              "jo6Wx+NRenq6pk+fLkmqU6eOZsyYIY/Ho7ffflsNGzbUsmXLJEnJyclq3769pk6dqkWLFqm8vFx3\n",
              "3XWXm5sEAAD+v1A3/3hiYqIkqX379jp27Jj69OkjSerYsaNyc3MlScYYLVmyRBs3blRFRYWOHDmi\n",
              "yy+/3PcajzzyiAYMGKCioiJ5PB45jlPzGwIAAE7iamSEhYVJkkJCQk64X6dOHVVUVEiSVq5cqc2b\n",
              "N2vZsmVq2LChli5dqk8++cT3GocOHVJRUZEqKyt15MgRNW7cuIa3AgAAnIqrkXEmioqK1KhRIzVs\n",
              "2FDFxcV68803FRMTI+nn6zUeeOABjRkzRmFhYUpLS9Mbb7yhevXquTw1AAAI+E+X3HzzzSopKVFC\n",
              "QoJGjhypzp07+5bNnDlTl1xyifr27avExER16tRJkydPdnFaAADwC8cYY9wewi0FBUeqXO44UpMm\n",
              "kSosPKJzdy/5D/vTv7ze40pNTZYkZWauUHh4fZcnqt14f/of+9S/Am1/RkdHnvY5AX8kAwAA1E5E\n",
              "BgAAsILIAAAAVhAZAADACiIDAABYQWQAAAAriAwAAGAFkQEAAKwgMgAAgBVEBgAAsILIAAAAVhAZ\n",
              "AADACiIDAABYEer2AADOTlhYuDp27Kjy8gqFhYW7PQ4AnITIAGopx3G0YMECFRYekeS4PQ4AnITT\n",
              "JUAt5jiOHIfAABCYiAwAAGAFkQEAAKxwjDHG7SEAAEDw4UgGAACwgsgAAABWEBkAAMAKIgMAAFhB\n",
              "ZAAAACuIDAAAYAWRAQAArCAyAACAFUQGAACwgsj4HXv27NGgQYOUkJCg/v3765tvvnF7pIDw9NNP\n",
              "Kz4+XnFxccrJyfE9XtX+srEsWHi9Xt1zzz1KSEhQcnKyRowYodzcXEnSoUOHdMcdd+j666/XTTfd\n",
              "pM8++8y3no1lweJvf/ubkpKSlJKSosGDB2vnzp2SeI/+UVlZWYqLi9P69esl8f48W/Hx8UpISFBK\n",
              "SopSUlK0evVqSUH8/jQ4pdtuu81kZWUZY4xZs2aN6devn8sTBYZPP/3UHDhwwFxzzTVm586dvser\n",
              "2l82lgWLkpIS8/7775vKykpjjDGvvPKKGTp0qDHGmPHjx5sXXnjBGGPMF198YXr16mVKS0utLQsW\n",
              "P/30k+/2unXrTFJSkjGG9+gfkZeXZ2655RYzcOBA8+677xpjeH+erd/+t/MXwfr+JDJOobCw0Fx+\n",
              "+eWmrKzMGGNMZWWl6dGjh9mzZ4/LkwWOX/+LUtX+srEsmO3YscNcc801xhhjOnXqZA4ePOhb1r9/\n",
              "f/PRRx9ZWxaMsrKyTHJyMu/RP6CiosIMHz7cfPnll2bo0KG+yOD9eXZOFRnB/P4MrfljJ4HvwIED\n",
              "io6OVmjoz7vHcRzFxMRo//79atGihcvTBZ6q9ldkZKTflwXzP4OlS5cqPj5ehw8fVllZmaKjo33L\n",
              "LrroIu3fv9/KsmAzbtw4bd68WZL0j3/8g/foH7B48WJdccUVat++ve8x3p9/zLhx4yRJHTp00IMP\n",
              "PhjU70+uyQACxPz587V3716NHTvW7VFqvenTp2vjxo1KS0vTjBkz3B6n1tq1a5fWrVunu+++2+1R\n",
              "gsayZcu0cuVKeTweRUVFKSMjw+2RrCIyTiEmJkYFBQUqLy+XJBljdODAATVr1szlyQJTVfvLxrJg\n",
              "tGjRIq1bt04LFy5U/fr1FRUVpdDQUBUUFPiek5+fr2bNmllZFqz69u2rzZs3q2nTprxHz8KWLVuU\n",
              "n5+vhIQExcfH6/PPP9ejjz6qNWvW8P48S79sT926dTV8+HBt2bIlqP8bSmScwgUXXKB27dppxYoV\n",
              "kqS1a9fqwgsvDKpDoP5U1f6ysSzYLF68WKtWrdLixYt13nnn+R6/4YYb9Prrr0uSduzYoe+//15d\n",
              "u3a1tiwYFBUV6fvvv/fdX79+vRo1asR79CwNHjxYH374oTZs2KANGzaoU6dOeuqppzR48GDen2fh\n",
              "2LFjKioq8t1ftWqV2rZtG9TvT8cYY2r0L9YSu3fv1oQJE/Tjjz8qIiJCU6ZMUVxcnNtjuW7SpEl6\n",
              "//33VVhYqEaNGikiIkLvvvtulfvLxrJg8d1336l3796KjY1VRESEJKlevXrKzMxUYWGhxo0bp337\n",
              "9qlu3bp69NFH1b17d0mysiwY5Ofna8yYMfJ6vXIcR40bN1ZGRobatGnDe9QPbrvtNg0fPlzXXXcd\n",
              "78+zkJeXp/vuu08VFRWSpObNm+uRRx5R8+bNg/b9SWQAAAArOF0CAACsIDIAAIAVRAYAALCCyAAA\n",
              "AFYQGQCse++99/TMM8+cctmuXbsUHx9/1q/9/PPP+z6m91vLli3T+PHjz/q1AfwxfK04AKvKy8t1\n",
              "7bXX6tprr7Xy+mPGjLHyugD+OCIDgN/FxcVp9OjR2rhxo6688kq1atVK69ev19y5cyVJL774olau\n",
              "XKmGDRuqV69eJ6y7adMmzZ07V16vVyEhIXrwwQer/K6E8ePHq3Xr1rr99ttVXFysiRMnKicnR40b\n",
              "N1arVq2sbieAqhEZAKwICQlRVlaWJMnj8fgef//99/XOO+/I4/EoIiJCDz30kG9ZXl6eZs+erUWL\n",
              "Fqlhw4bKzc3VkCFDtGHDBtWrV++0f3POnDmqV6+e3nnnHRUXF2vgwIG67LLL/L9xAM4IkQHAitTU\n",
              "1FM+/u9//1s33nijGjZsKEkaNGiQtm3bJkn64IMPfGHxC8dxtH//fv35z38+7d/85JNPNGHCBDmO\n",
              "o8jISN10003Ky8v74xsD4KwQGQCsaNCgwVmt17NnT82cOdMvMziO45fXAXB2+HQJgBrVo0cP3+kM\n",
              "Y4z+9a9/+ZZdffXV+vjjj/XVV1/5HtuxY8cZv/ZVV10lj8cjY4yKi4u1atUqv84OoHo4kgGgRvXu\n",
              "3Vs7duxQv379Trrws0WLFpo5c6Yee+wxHT9+XGVlZWrbtu0ZH9m45557NHHiRN1www1q3LixOnfu\n",
              "rNLSUlubAuA0+IE0AABgBadLAACAFZwuARDwNm7cqGefffakx++8804lJia6MBGAM8HpEgAAYAWn\n",
              "SwAAgBVEBgAAsILIAAAAVhAZAADACiIDAABYQWQAAAAriAwAAGDF/wM8Dblstmf3jwAAAABJRU5E\n",
              "rkJggg==\n",
              "\">\n",
              "        \n",
              "      </div>\n",
              "      <script></script>\n",
              "      <script type=\"text/javascript\">\n",
              "        (() => {\n",
              "          const chartElement = document.getElementById(\"chart-acf6579c-2451-402e-aa0e-fd10de5a632f\");\n",
              "          async function getCodeForChartHandler(event) {\n",
              "            const chartCodeResponse =  await google.colab.kernel.invokeFunction(\n",
              "                'getCodeForChart', [\"chart-acf6579c-2451-402e-aa0e-fd10de5a632f\"], {});\n",
              "            const responseJson = chartCodeResponse.data['application/json'];\n",
              "            await google.colab.notebook.addCell(responseJson.code, 'code');\n",
              "          }\n",
              "          chartElement.onclick = getCodeForChartHandler;\n",
              "        })();\n",
              "      </script>\n",
              "      <style>\n",
              "        .colab-quickchart-chart-with-code  {\n",
              "            display: block;\n",
              "            float: left;\n",
              "            border: 1px solid transparent;\n",
              "        }\n",
              "\n",
              "        .colab-quickchart-chart-with-code:hover {\n",
              "            cursor: pointer;\n",
              "            border: 1px solid #aaa;\n",
              "        }\n",
              "      </style>"
            ]
          },
          "metadata": {}
        },
        {
          "output_type": "display_data",
          "data": {
            "text/plain": [
              "import numpy as np\n",
              "from google.colab import autoviz\n",
              "\n",
              "def violin_plot(df, value_colname, facet_colname, figscale=1, mpl_palette_name='Dark2', **kwargs):\n",
              "  from matplotlib import pyplot as plt\n",
              "  import seaborn as sns\n",
              "  figsize = (12 * figscale, 1.2 * figscale * len(df[facet_colname].unique()))\n",
              "  plt.figure(figsize=figsize)\n",
              "  sns.violinplot(df, x=value_colname, y=facet_colname, palette=mpl_palette_name, **kwargs)\n",
              "  sns.despine(top=True, right=True, bottom=True, left=True)\n",
              "  return autoviz.MplChart.from_current_mpl_state()\n",
              "\n",
              "chart = violin_plot(_df_7, *['max_capacity', 'index'], **{'inner': 'stick'})\n",
              "chart"
            ],
            "text/html": [
              "      <div class=\"colab-quickchart-chart-with-code\" id=\"chart-c611e330-3a61-4919-b06a-a56c739976fe\">\n",
              "        <img src=\"data:image/png;base64,iVBORw0KGgoAAAANSUhEUgAAAhkAAAGlCAYAAABX+uQYAAAAOXRFWHRTb2Z0d2FyZQBNYXRwbG90\n",
              "bGliIHZlcnNpb24zLjcuMSwgaHR0cHM6Ly9tYXRwbG90bGliLm9yZy/bCgiHAAAACXBIWXMAAA9h\n",
              "AAAPYQGoP6dpAAAmvUlEQVR4nO3df1RVdb7/8deGowdFFBRGSdFlrQZ/j456dTRvd7iumNEBFKUf\n",
              "ajaNS2mmUtBCrXTGKfPHaFbXQi/LNLOmlkAXTRzNWjWVK1OzH3dpP0aXiGgJpAEih1+f7x/ezjfT\n",
              "VPJ83IDPx1/n1968915n8jl7n3O2Y4wxAgAACLAgtwcAAADNE5EBAACsIDIAAIAVRAYAALCCyAAA\n",
              "AFYQGQAAwAoiAwAAWEFkAAAAKzxuD+Cm4uLygK+zfftQffPN6YCv91rDfgwM9mNgsB+vHPswMBrT\n",
              "foyKCrvkaziSEUCOIwUHB8lx3J6kaWM/Bgb7MTDYj1eOfRgYTXE/EhkAAMAKIgMAgGbMGCO3LlNG\n",
              "ZAAA0EwZYzR7dppmz053JTSu6Q9+AgDQnPl8VTpwYL//dkhIq6v69zmSAQAArCAyAACAFUQGAACw\n",
              "gsgAAABWEBkAAMAKIgMAAFhBZAAAACuIDAAAYAWRAQAArCAyAACAFUQGAACwgsgAAABWEBkAAMAK\n",
              "IgMAAFjRLCJj3bp1Ki4udnsMAADwPc0iMtavX6+SkhK3xwAAAN9jNTL27dunO+64Q4mJiUpISNCO\n",
              "HTv06aef6vbbb1dCQoLGjx+vvXv3SpKOHj2qQYMG+Zc9ffq0YmNj/fdjY2O1atUqjR8/XnFxccrJ\n",
              "yZEkrVy5UidOnFBaWpqSkpJ04MABm5sEAAAuk8fWik+dOqV7771XTz/9tAYNGqT6+nqdPHlS48aN\n",
              "06OPPqoRI0Zoz549mj59urZv335Z62zZsqWys7N18OBBjR8/XklJSbrvvvuUm5urJ598Uj179rS1\n",
              "OQAAoIGsHcn46KOP1L17d//RiaCgIJWUlCgoKEgjRoyQJA0aNEgdOnS47KMPCQkJkqQbbrhBHo+H\n",
              "UyQAADRirn8mw3EcSZLH41FdXZ3/cZ/Pd95rvV6v/3ZQUJBqa2vtDwgAAH4Sa5ExYMAAFRQUaM+e\n",
              "PZKk+vp6RUZGqr6+Xu+9954k6cMPP1RJSYl69uypyMhISdK//vUvSVJeXt5l/63Q0FCVl5cHeAsA\n",
              "AMCVsPaZjHbt2mnlypVavHixTp8+raCgIM2YMUP/9V//pYULF2rx4sXyer166qmnFBoaKkl65JFH\n",
              "lJqaqvDwcMXHx1/235o8ebLmzZunkJAQLV68mM9mAADQCDjGGOP2EG4pLg7s0Q/HkSIjw1RSUq5r\n",
              "d69eOfZjYLAfA4P9eOXYh4HxU/ZjVdUZpaQkSpI2btykkJBWAZsnKirskq9x/TMZAACgeSIyAACA\n",
              "FUQGAACwgsgAAABWEBkAAMAKIgMAAFhBZAAAACuIDAAAYAWRAQAArCAyAACAFUQGAACwgsgAAABW\n",
              "EBkAAMAKa5d6BwAA7vJ6Q9SzZ2//7auNyAAAoJlyHEdLlqzw377aiAwAAJoxN+LiO3wmAwAAWEFk\n",
              "AAAAK4gMAABgBZEBAACsIDICyBgjY4zbYwAA0CgQGQFijFFGRppSU1MJDQAAxFdYA8bnq9KBA/v9\n",
              "t73eVi5PBACAuziSAQAArCAyAACAFUQGAACwgsgAAABWEBkAAMAKIgMAAFhBZAAAACuIDAAAYAWR\n",
              "AQAArCAyAACAFUQGAACwgsgAAABWEBkAAMAKIgMAAFhBZAAAACuIDAAAYIXH1opjY2OVlpamN998\n",
              "U6WlpXrooYd08OBBbdu2TRUVFXr00Uc1ZMgQSdI777yjZ599Vj6fT0FBQXrggQc0dOhQFRcXa+bM\n",
              "mTp9+rR8Pp+GDBmiRx55REFBQcrNzdWmTZvUvn17ffnll2rRooWeeuopxcTE2NokAADQAFaPZLRu\n",
              "3VobN27UwoUL9eCDDyoqKkq5ublKT0/X0qVLJUmFhYVauXKlsrKylJubq+XLl+uBBx5QdXW12rZt\n",
              "q1WrVvmDoqioSFu3bvWv/9NPP1V6ero2b96sYcOGKSsry+bmAACABrB2JEOSRo0aJUnq06ePKisr\n",
              "NXr0aElSv379VFBQIEn65z//qYKCAk2cONG/nOM4OnbsmDp27Khly5Zp7969Msbom2++0Y033uhf\n",
              "T//+/f1HLvr3768NGzbY3BwAANAAViPD6/VKkoKCgs65HxwcrLq6Ov/rhg8fruXLl5+3/LPPPqvS\n",
              "0lJt3LhRXq9XixYtks/nO2/9F1onAABwl+sf/Lzpppu0c+dOffbZZ/7HPvnkE0lSWVmZoqKi5PV6\n",
              "VVxcrH/84x9ujQkAABrI6pGMy9GtWzctX75cf/7zn3XmzBnV1NSoV69eWr58uSZPnqzp06dr9OjR\n",
              "+tnPfqZhw4a5PS4AALhMjjHGuD2EW4qLywO2rqqqM0pJSZQkZWdvktfbKmDrvtY4jhQZGaaSknJd\n",
              "u+/OK8d+DAz245VjHwZGY9uPUVFhl3yN66dLAABA80RkAAAAK4gMAABgBZEBAACsIDIAAIAVRAYA\n",
              "ALCCyAAAAFYQGQAAwAoiAwAAWEFkAAAAK4gMAABgBZEBAACsIDIAAIAVrl/qvbnwekPUq1dveTzB\n",
              "8npD3B4HAADXERkB4jiOlixZocjIMJWWVjSKy/ACAOAmTpcEkOM4chzH7TEAAGgUiAwAAGAFkQEA\n",
              "AKwgMgAAgBVEBgAAsILICCBjjAxfKwEAQBKRETDGGGVkpCk1NZXQAABA/E5GwPh8VTpwYL//ttfb\n",
              "yuWJAABwF0cyAACAFUQGAACwgsgAAABWEBkAAMAKIgMAAFhBZAAAACuIDAAAYAWRAQAArCAyAACA\n",
              "FUQGAACwgsgAAABWEBkAAMAKIgMAAFhBZAAAACuaRGQcPXpUf//73y/6muTkZO3atesqTQQAAC6l\n",
              "SURGUVGRXn75ZbfHAAAADeBxe4Afqqqq0pw5c/TFF1/I4/EoMjJSx44d07Fjx5SUlKTo6GitWrVK\n",
              "H374oRYsWKC6ujr17dtXdXV1bo8OAAC+p9FFxjvvvKPy8nLl5+dLkk6dOqXPP/9cjz/+uPLy8iRJ\n",
              "1dXVSk9P16JFizRs2DC9++67ys3NdXNsAADwA43udEmPHj108OBB/eUvf1F+fr48nvM76NChQwoO\n",
              "DtawYcMkSTfddJNiYmKu9qgAAOAiGl1kxMTEaMuWLRoxYoQ+/PBDJSQkqKys7JLLOY5zFaYDAACX\n",
              "q9FFxldffSXHcfSf//mfysjIkDFG4eHhKi8v97/m+uuvV11dnd5//31J0s6dO3XkyBG3RgYAABfQ\n",
              "6D6T8fnnn+uJJ56QMUZ1dXVKSkrSgAEDdOONN+p3v/udunTpolWrVmnFihVasGCB6uvr1adPH/Xo\n",
              "0cPt0QEAwPc0usi4+eabdfPNN5/3+OrVq8+5/8tf/tL/QVAAAND4NLrTJQAAoHkgMgAAgBVEBgAA\n",
              "sILIAAAAVhAZAADACiIDAABYQWQAAAAriAwAAGAFkQEAAKwgMgAAgBVEBgAAsILIAAAAVhAZAADA\n",
              "ikZ3FdamyusNUa9eveXxBMvrDXF7HAAAXEdkBIjjOFqyZIUiI8NUWlohY9yeCAAAd3G6JIAcx5Hj\n",
              "OG6PAQBAo0BkAAAAK4gMAABgBZEBAACsIDIAAIAVRAYAALCCyAggY4wM310FAEASkREwxhhlZKQp\n",
              "NTWV0AAAQPwYV8D4fFU6cGC//7bX28rliQAAcBdHMgAAgBVEBgAAsILIAAAAVhAZAADACiIDAABY\n",
              "QWQAAAAriAwAAGAFkQEAAKwgMgAAgBVEBgAAsILIAAAAVhAZAADACiIDAABYQWQAAAArmlRkfP31\n",
              "15owYYLbYwAAgMvQpCKjY8eOeumll9weAwAAXIZGERmxsbHKzMxUSkqK4uLitGPHDq1evVrJycm6\n",
              "5ZZbtGvXLknS0aNHNWjQoHOWW7VqlcaPH6+4uDjl5OS4tQkAAOAHGkVkSFLr1q21ceNGLVy4UA8+\n",
              "+KCioqKUm5ur9PR0LV269EeXa9mypbKzs5WVlaXHHntMtbW1V3FqAADwYxpNZIwaNUqS1KdPH1VW\n",
              "Vmr06NGSpH79+qmgoOBHl0tISJAk3XDDDfJ4PCopKbE/LAAAuKRGExler1eSFBQUdM794OBg1dXV\n",
              "XXK575blSAYAAI1Do4kMAADQvBAZAADACo/bA0jS559/7r8dGhp6zv1OnTpp3759kqQuXbpoz549\n",
              "F1xOkv9bKAAAwH0cyQAAAFYQGQAAwAoiAwAAWEFkAAAAKwISGdXV1YFYDQAAaEYaHBlTp07VqVOn\n",
              "/PePHDmi22+/PZAzAQCAZqDBkTF06FCNHz9e+/btU35+viZPnqxp06bZmA0AADRhDf6djClTpqhv\n",
              "376aPHmywsPD9dJLLykmJsbGbAAAoAlr8JGMo0ePaunSpRo7dqw6d+6szMxM+Xw+G7MBAIAmrMGR\n",
              "MXHiRN19993661//qhdffFHt2rXT+PHjbcwGAACasAafLlm3bp26d+8u6ewVUmfPnq0hQ4YEfDAA\n",
              "ANC0NfhIRkxMjJ577jn9+c9/lnT22yXfv9w6AACA9BMi469//asOHTqkDz74QJIUHh6uv/3tbwEf\n",
              "DAAANG0NPl3y8ccfKy8vT2PGjJEktW3bVrW1tYGeq8nxekPUq1dveTzB8npD3B4HAADXNTgyfnhq\n",
              "pK6uTsaYgA3UVDmOoyVLVigyMkylpRVilwAArnUNjozY2Fjl5eWpvr5eBQUFysrK0r/927/ZmK3J\n",
              "cRxHjuO4PQYAAI1Cgz+TMWfOHO3du1clJSW64447FBQUpFmzZtmYDQAANGGOuYbPdRQXlwd0fY4j\n",
              "RUaGqaSknNMlV4D9GBjsx8BgP1459mFgNLb9GBUVdsnXXPbpkv/5n/+56PPffRAUAABAakBkvPnm\n",
              "m5Kk06dP64MPPtDAgQPlOI727t2rwYMHExkAAOAclx0ZTz/9tCTp3nvvVU5Ojn7+859Lkr788kv/\n",
              "c9c6YwzftAEA4P80+IOfR44c8QeGJN144406fPhwIGdqkowxyshIU2pqKqEBAIB+QmSEhoYqNzfX\n",
              "///ac3NzFRoaamO2JsXnq9KBA/v1ySefyOercnscAABc1+DIePzxx/XSSy+pb9++6tu3r15++WU9\n",
              "/vjjNmYDAABNWIN/jOv6669Xdna2KioqJElt2rQJ+FAAAKDpa3BkSNKJEyd09OhR1dXV+R8bPHhw\n",
              "wIYCAABNX4MjIzMzU2vWrFFMTIyCgs6ebXEcR9nZ2QEfDgAANF0NjoycnBy9/vrrioiIsDEPAABo\n",
              "Jhr8wc/IyEgCAwAAXFKDj2QMGzZMCxcuVEJCglq2bOl/vEePHgEdDAAANG0NjozvrmHyxhtv+B9z\n",
              "HOec+wAAAA2OjO+uYQIAAHAxlx0ZlZWVat26tf/3MX6I38sAAADfd9mRMXHiRL366qsaNGiQHMc5\n",
              "5/ocjuPowIEDVgYEAABN02VHxquvvipJ+uyzz6wNAwAAmo8Gf4UVAADgchAZAADAip907ZIr5fP5\n",
              "lJ6eroMHD8rr9apDhw76y1/+om7duunOO+9UUVGRwsLCJEljx47V73//e0nS/PnztW/fPkVEROiZ\n",
              "Z55RWFiYjDGaOnWq5s+fr65du7qxOQAA4AJciQxJuu222/Tv//7vchxHGzZs0COPPKIXXnhBkvTQ\n",
              "Qw9p5MiR57z+iy++0OHDh7V582atXLlSeXl5mjRpkjZu3KghQ4YQGAAANDKunC7xer26+eab5TiO\n",
              "JOkXv/iFioqKLrqMx+NRdXW16uvrdebMGbVo0UInTpzQa6+9prvvvvtqjA0AABqgUXwmY/369YqL\n",
              "i/PfX7ZsmRISEpSWlqbCwkJJ0vXXX68hQ4Zo7NixKiwsVGJiohYtWqSMjAx5PK4dkAEAAD/C9X+d\n",
              "V61apSNHjmjdunWSpKVLlyo6OlrGGL344otKTU1Vfn6+JCk9PV3p6emSpB07dqhTp07q3Lmz5s6d\n",
              "q4qKCv32t7/VqFGj3NoUAADwPa4eyVizZo22b9+urKwstWrVSpIUHR0t6ewPfE2aNEmFhYU6efLk\n",
              "OctVVFToueee0/Tp0/X8889r8ODBWrFihZ555hlVVVVd9e0AAADncy0y1q5dqy1btmjt2rVq27at\n",
              "JKm2tlYlJSX+12zbtu2Cl5ZftmyZ7r33XrVq1UpnzpyR4zhyHEe1tbWqqam5qtsBAAAuzJXTJV99\n",
              "9ZUWL16smJgYTZ48WZLUsmVLPf/885o2bZpqamrkOI4iIiKUmZl5zrJ79+6Vz+fT8OHDJZ39ufOZ\n",
              "M2cqKytLiYmJ/q++AgAAd7kSGZ06ddLnn39+wedyc3MvuuzAgQM1cOBA//2uXbsqOzs7oPMBAIAr\n",
              "1yi+XQIAAJofIgMAAFhBZAAAACuIDAAAYAWRAQAArCAyAACAFUQGAACwgsgAAABWEBkAAMAKIgMA\n",
              "AFhBZAAAACuIDAAAYAWRAQAArHDlKqzNkdcbol69esvjCZbXG+L2OAAAuI7ICBDHcbRkyQpFRoap\n",
              "tLRCxrg9EQAA7uJ0SQA5jiPHcdweAwCARoHIAAAAVhAZAADACiIDAABYQWQAAAAriIwAMsbI8LUS\n",
              "AAAkERkBY4xRRkaaUlNTCQ0AAMTvZASMz1elAwf2+297va1cnggAAHdxJAMAAFhBZAAAACuIDAAA\n",
              "YAWRAQAArCAyAACAFUQGAACwgsgAAABWEBkAAMAKIgMAAFhBZAAAACuIDAAAYAWRAQAArCAyAACA\n",
              "FUQGAACwwrXIiIuLU3x8vJKSkpSUlKT8/HxJ0uHDh3X77bcrPj5e48aN05dffilJqqmp0Z/+9Ccl\n",
              "JibqvvvuU21trSTJ5/Np4sSJ+vbbb93aFAAAcAGuHsl48sknlZeXp7y8PI0aNUqSNH/+fN16663a\n",
              "tm2bpk6dqjlz5kiS3n33XbVr106bNm1SWFiY3nnnHUnSs88+q4kTJ6pdu3aubQcAADhfozpdUlpa\n",
              "qv/93/9VYmKiJCk+Pl5fffWVCgoK5PF4VFVVJUmqqqpSixYt9Nlnn+nQoUP+QAEAAI2Hq5GRkZGh\n",
              "hIQEPfTQQ/rmm290/PhxRUVFyePxSJIcx1F0dLSOHTum4cOHKzQ0VImJiQoLC9PQoUO1ePFiPfzw\n",
              "w25uAgAA+BEet/7whg0bdN1116mmpkZPPvmkZs+erRkzZvzo64OCgvTYY4/5769bt04jR45UbW2t\n",
              "Zs2aperqak2YMEG/+tWvrsb4AADgElw7knHddddJklq0aKG77rpLe/bsUXR0tIqLi/0f6jTG6Pjx\n",
              "4/7XfqeoqEj//Oc/NWHCBD311FO69dZbtWjRonMiBAAAuMuVyKisrFRZWZn//pYtW9SrVy916NBB\n",
              "vXv31qZNmyRJ27ZtU8eOHdWtW7dzll+4cKHmzp2roKAgnTlzRo7j+G8DAIDGwZXTJaWlpbr//vtV\n",
              "V1cnSerSpYuWLFkiSVqwYIHmzp2r1atXKzQ0VIsWLTpn2c2bN6tHjx668cYbJUnTpk3TI488opqa\n",
              "Gv3xj3+8uhsCAAB+lGOMMW4P4Zbi4vKArauq6oxSUs5+KyY7e5O83lYBW/e1xnGkyMgwlZSU69p9\n",
              "d1459mNgsB+vHPswMBrbfoyKCrvkaxrVV1gBAEDzQWQAAAAriAwAAGAFkQEAAKwgMgAAgBVEBgAA\n",
              "sILIAAAAVhAZAADACiIDAABYQWQAAAAriAwAAGAFkQEAAKwgMgAAgBWuXOq9OfJ6Q9SrV295PMHy\n",
              "ekPcHgcAANcRGQHiOI6WLFmhyMgwlZZWNIrL8AIA4CZOlwSQ4zhyHMftMQAAaBSIDAAAYAWRAQAA\n",
              "rCAyAACAFUQGAACwgsgIIGOMDF8rAQBAEpERMMYYZWSkKTU1ldAAAED8TkbA+HxVOnBgv/+219vK\n",
              "5YkAAHAXRzIAAIAVRAYAALCCyAAAAFYQGQAAwAoiAwAAWEFkAAAAK4gMAABgBZEBAACsIDIAAIAV\n",
              "RAYAALCCyAAAAFYQGQAAwAoiAwAAWEFkAAAAK1y51PvJkyf1+9//3n+/qqpKhYWF2rlzp+6//34V\n",
              "FRUpLCxMkjR27Fj/a+fPn699+/YpIiJCzzzzjMLCwmSM0dSpUzV//nx17drVha0BAAAX4kpkRERE\n",
              "KC8vz39/zZo12r17t8LDwyVJDz30kEaOHHnOMl988YUOHz6szZs3a+XKlcrLy9OkSZO0ceNGDRky\n",
              "hMAAAKCRaRSnS7KzszV+/PiLvsbj8ai6ulr19fU6c+aMWrRooRMnTui1117T3XfffZUmBQAAl8v1\n",
              "yPjwww9VVlam//iP//A/tmzZMiUkJCgtLU2FhYWSpOuvv15DhgzR2LFjVVhYqMTERC1atEgZGRny\n",
              "eFw5IAMAAC7C9X+ds7OzlZSU5A+FpUuXKjo6WsYYvfjii0pNTVV+fr4kKT09Xenp6ZKkHTt2qFOn\n",
              "TurcubPmzp2riooK/fa3v9WoUaNc2xYAAPD/uXok4/Tp09q6davGjRvnfyw6OlqS5DiOJk2apMLC\n",
              "Qp08efKc5SoqKvTcc89p+vTpev755zV48GCtWLFCzzzzjKqqqq7qNgAAgAtzNTLy8/PVo0cP3XDD\n",
              "DZKk2tpalZSU+J/ftm2bIiMjFRERcc5yy5Yt07333qtWrVrpzJkzchxHjuOotrZWNTU1V3UbAADA\n",
              "hbl6uiQnJ0cpKSn++9XV1Zo2bZpqamrkOI4iIiKUmZl5zjJ79+6Vz+fT8OHDJUkTJ07UzJkzlZWV\n",
              "pcTERP9XXwEAgLtcjYyXX375nPutW7dWbm7uRZcZOHCgBg4c6L/ftWtXZWdnW5kPAAD8dK5/uwQA\n",
              "ADRPRAYAALCCyAAAAFYQGQAAwAoiAwAAWEFkAAAAK4gMAABgBZEBAACsIDIAAIAVRAYAALCCyAAA\n",
              "AFYQGQAAwAoiAwAAWOHqVVibE683RL169ZbHEyyvN8TtcQAAcB2RESCO42jJkhWKjAxTaWmFjHF7\n",
              "IgAA3MXpkgByHEeO47g9BgAAjQKRAQAArCAyAACAFUQGAACwgsgAAABWEBkBZIyR4WslAABIIjIC\n",
              "xhijjIw0paamEhoAAIjfyQgYn69KBw7s99/2elu5PBEAAO7iSAYAALCCyAAAAFYQGQAAwAoiAwAA\n",
              "WEFkAAAAK4gMAABgBZEBAACsIDIAAIAVRAYAALCCyAAAAFYQGQAAwAoiAwAAWEFkAAAAK4gMAABg\n",
              "BZEBAACsIDIAAIAVrkVGbGysMjMzlZKSori4OO3YsUOrV69WcnKybrnlFu3atUuSVFtbqylTpig5\n",
              "OVmjR4/WrFmzVFlZKUnatGmTkpOTVV1dLWOM7rnnHmVmZrq1SQAA4HtcPZLRunVrbdy4UQsXLtSD\n",
              "Dz6oqKgo5ebmKj09XUuXLpUkBQcHa9myZcrNzdVrr72mNm3aaMOGDZKkxMRE9enTR4sXL9aaNWtU\n",
              "W1ure+65x81NAgAA/8fj5h8fNWqUJKlPnz6qrKzU6NGjJUn9+vVTQUGBJMkYo3Xr1untt99WXV2d\n",
              "ysvLNWDAAP86Hn74YaWkpKisrEy5ublyHOfqbwgAADiPq5Hh9XolSUFBQefcDw4OVl1dnSRp8+bN\n",
              "2rVrlzZs2KA2bdpo/fr1ev/99/3rKC0tVVlZmerr61VeXq727dtf5a0AAAAX4mpkXI6ysjKFh4er\n",
              "TZs2qqio0Kuvvqro6GhJZz+vMXPmTM2YMUNer1dpaWl65ZVX1LJlS5enBgAAjf7bJWPGjFFVVZXi\n",
              "4+M1depUDRw40P/c8uXL1b17d40dO1ajRo1S//79tXDhQhenBQAA33GMMcbtIdxSXFwesHVVVZ1R\n",
              "SkqiJCk7e5O83lYBW/e1xnGkyMgwlZSU69p9d1459mNgsB+vHPswMBrbfoyKCrvkaxr9kQwAANA0\n",
              "ERkAAMAKIgMAAFhBZAAAACuIDAAAYAWRAQAArCAyAACAFUQGAACwgsgAAABWEBkAAMAKIgMAAFhB\n",
              "ZAAAACuIDAAAYIXH7QGaC683RL169ZbHEyyvN8TtcQAAcB2RESCO42jJkhWKjAxTaWlFo7gMLwAA\n",
              "buJ0SQA5jiPHcdweAwCARoHIAAAAVhAZAADACscYPj0AAAACjyMZAADACiIDAABYQWQAAAAriAwA\n",
              "AGAFkQEAAKwgMgAAgBVEBgAAsILIAAAAVhAZAADACiIjQA4fPqzbb79d8fHxGjdunL788ku3R3LN\n",
              "Y489pri4OMXGxurAgQP+xy+2j2w819T5fD796U9/Unx8vBITE3X33XeroKBAklRaWqopU6bolltu\n",
              "0e9+9zvt3r3bv5yN55q6P/zhD0pISFBSUpImTJig/fv3S+I9+VPk5OQoNjZWO3bskMR78aeIi4tT\n",
              "fHy8kpKSlJSUpPz8fEnN9P1oEBB33nmnycnJMcYYs3XrVpOcnOzyRO754IMPzPHjx82vf/1rs3//\n",
              "fv/jF9tHNp5r6qqqqsxbb71l6uvrjTHGvPDCC2bSpEnGGGPmzJljnn76aWOMMR9//LEZMWKEqa6u\n",
              "tvZcU/ftt9/6b2/fvt0kJCQYY3hPNlRhYaG57bbbzK233mpef/11YwzvxZ/ih/9t/E5zfD8SGQFQ\n",
              "UlJiBgwYYGpqaowxxtTX15thw4aZw4cPuzyZu77/P6SL7SMbzzVHn3zyifn1r39tjDGmf//+5sSJ\n",
              "E/7nxo0bZ9577z1rzzUnOTk5JjExkfdkA9XV1Zm77rrLfPrpp2bSpEn+yOC92HAXiozm+n70XN3j\n",
              "Js3T8ePHFRUVJY/n7O50HEfR0dE6duyYunXr5vJ0jcPF9lFYWFjAn2uO+339+vWKi4vTyZMnVVNT\n",
              "o6ioKP9znTt31rFjx6w811xkZGRo165dkqT//u//5j3ZQGvXrtUvf/lL9enTx/8Y78WfLiMjQ5LU\n",
              "t29fPfDAA832/chnMoAmYNWqVTpy5IhmzZrl9ihN1tKlS/X2228rLS1Ny5Ytc3ucJuWLL77Q9u3b\n",
              "9cc//tHtUZqFDRs2aPPmzcrNzVVERIRmz57t9kjWEBkBEB0dreLiYtXW1kqSjDE6fvy4rrvuOpcn\n",
              "azwuto9sPNecrFmzRtu3b1dWVpZatWqliIgIeTweFRcX+19TVFSk6667zspzzc3YsWO1a9cuderU\n",
              "iffkZdqzZ4+KiooUHx+vuLg4ffTRR5o3b562bt3Ke/En+G5bWrRoobvuukt79uxptv+NJDICoEOH\n",
              "Durdu7c2bdokSdq2bZs6duzY5A+PBtLF9pGN55qLtWvXasuWLVq7dq3atm3rf/w3v/mNXn75ZUnS\n",
              "J598oq+//lqDBw+29lxTVlZWpq+//tp/f8eOHQoPD+c92QATJkzQu+++qzfffFNvvvmm+vfvr0cf\n",
              "fVQTJkzgvdhAlZWVKisr89/fsmWLevXq1Wzfj44xxly1v9aMHTp0SHPnztWpU6cUGhqqRYsWKTY2\n",
              "1u2xXDF//ny99dZbKikpUXh4uEJDQ/X6669fdB/ZeK6p++qrr3TzzTcrJiZGoaGhkqSWLVtq48aN\n",
              "KikpUUZGho4ePaoWLVpo3rx5Gjp0qCRZea4pKyoq0owZM+Tz+eQ4jtq3b6/Zs2erZ8+evCd/ojvv\n",
              "vFN33XWXRo4cyXuxgQoLC3X//ferrq5OktSlSxc9/PDD6tKlS7N8PxIZAADACk6XAAAAK4gMAABg\n",
              "BZEBAACsIDIAAIAVRAaAa1pSUpIqKiokSevWrTvn9xkAXBkiA8A1LS8vT23atJF09qfbS0pKXJ4I\n",
              "aD6IDACKjY1VZmamUlJSFBcXpx07dmj16tVKTk7WLbfc4r/mR21traZMmaLk5GSNHj1as2bNUmVl\n",
              "pSRp06ZNSk5OVnV1tYwxuueee5SZmXnRv7tv3z7dcccdSkxMVEJCgv/y4UuWLNG4ceOUlJSkiRMn\n",
              "6tChQ+fMumLFCo0ZM0bx8fH+HxqSpFmzZik5OVkJCQmaNm3aOUcl3nrrLY0bN06JiYlKSkrSxx9/\n",
              "7F9fWVmZVq5cqRMnTigtLU1JSUn66KOPNHz4cB0/fty/jieeeEJ/+9vfrnBvA9eQq3YpNgCN1s9/\n",
              "/nOzbt06Y4wxO3fuNP379/dfHjo/P99/eej6+nrzzTff+G/Pnz/frF692r+eefPmmQULFpisrCwz\n",
              "ZcoU/2XqL+TkyZPmV7/6ldm9e7cx5uxVPk+ePGmMMaa0tNT/utdee8384Q9/OGfWFStWGGOMOXLk\n",
              "iBk8eLApLCw8b7nVq1ebefPmGWOMOXTokBk6dKj517/+ZYwxprq62pSVlfnX992l4H94dcwnnnjC\n",
              "LF++3BhjjM/nM8OHDzdHjx69xN4E8B2uwgpAkjRq1ChJUp8+fVRZWanRo0dLkvr166eCggJJZ699\n",
              "sG7dOr399tuqq6tTeXm5BgwY4F/Hww8/rJSUFJWVlSk3N1eO4/zo3/voo4/UvXt3DRo0SJIUFBSk\n",
              "8PBwSdJ7772nDRs26PTp06qvr9e33357zrIpKSmSpJiYGA0aNEh79uxRly5dtHnzZuXl5am6ulo+\n",
              "n08RERGSpJ07d2rEiBG64YYbJJ29ZkSLFi0uuU8mTJig8ePH67777tPWrVvVt29fde7c+ZLLATiL\n",
              "yAAgSfJ6vZLO/mP//fvBwcH+n0DevHmzdu3apQ0bNqhNmzZav3693n//ff86SktLVVZWpvr6epWX\n",
              "l6t9+/YNnuPYsWN69NFHlZ2dra5du+qzzz7TpEmTLrncnj179MILL+iVV15Rhw4d9MYbb+jpp59u\n",
              "8N//vo4dO2rw4MHKz8/X3//+d02fPv2K1gdca/hMBoDLVlZWpvDwcLVp00YVFRV69dVX/c/V1tZq\n",
              "5syZmjFjhubMmaO0tDRVV1f/6LoGDBiggoIC7dmzR5JUX1+vU6dOqby8XB6PR1FRUTLG6MUXXzxv\n",
              "2dzcXEnS0aNHtXfvXg0aNEhlZWUKDQ1VeHi4qqur9corr/hff9NNN+ndd9/VwYMHJUk1NTUqLy8/\n",
              "b72hoaHnPT558mStWLFCZWVlGjZsWAP2FgCOZAC4bGPGjNEbb7yh+Ph4tW/fXgMHDtSxY8ckScuX\n",
              "L1f37t01duxYSdLu3bu1cOFCLViw4ILrateunVauXKnFixfr9OnTCgoK0owZMxQXF6dRo0Zp9OjR\n",
              "Cg8P18iRI89btq6uTmPGjNGZM2f8F5fq2LGjNm3apN/85jcKDw/XsGHD/Fdf7datmxYtWqQHH3xQ\n",
              "tbW1Cg4O1oIFC9SvX79z1jt58mTNmzdPISEhWrx4sXr27Kn+/fsrLCxMt91220VP/wA4HxdIA9Ck\n",
              "xMbGavfu3Wrbtu1V+Xtff/21xo0bp3/84x/+r7oCuDwcyQCAH/HUU08pJydHs2bNIjCAn4AjGQCs\n",
              "mj9/vv83Kb7vlVdeUUhIiAsTAbhaiAwAAGAF3y4BAABWEBkAAMAKIgMAAFhBZAAAACuIDAAAYAWR\n",
              "AQAArCAyAACAFf8PR5/zh0nn+/4AAAAASUVORK5CYII=\n",
              "\">\n",
              "        \n",
              "      </div>\n",
              "      <script></script>\n",
              "      <script type=\"text/javascript\">\n",
              "        (() => {\n",
              "          const chartElement = document.getElementById(\"chart-c611e330-3a61-4919-b06a-a56c739976fe\");\n",
              "          async function getCodeForChartHandler(event) {\n",
              "            const chartCodeResponse =  await google.colab.kernel.invokeFunction(\n",
              "                'getCodeForChart', [\"chart-c611e330-3a61-4919-b06a-a56c739976fe\"], {});\n",
              "            const responseJson = chartCodeResponse.data['application/json'];\n",
              "            await google.colab.notebook.addCell(responseJson.code, 'code');\n",
              "          }\n",
              "          chartElement.onclick = getCodeForChartHandler;\n",
              "        })();\n",
              "      </script>\n",
              "      <style>\n",
              "        .colab-quickchart-chart-with-code  {\n",
              "            display: block;\n",
              "            float: left;\n",
              "            border: 1px solid transparent;\n",
              "        }\n",
              "\n",
              "        .colab-quickchart-chart-with-code:hover {\n",
              "            cursor: pointer;\n",
              "            border: 1px solid #aaa;\n",
              "        }\n",
              "      </style>"
            ]
          },
          "metadata": {}
        }
      ]
    },
    {
      "cell_type": "markdown",
      "source": [
        "### Variables Description"
      ],
      "metadata": {
        "id": "PBTbrJXOngz2"
      }
    },
    {
      "cell_type": "markdown",
      "source": [
        "**Answer Here**\n",
        "\n",
        "ride_id: unique ID of a vehicle on a specific route on a specific day and time\n",
        "\n",
        "seat number: seat assigned to ticket\n",
        "\n",
        "payment method: method used by customer to purchase ticket from Mobiticket (cash or Mpesa)\n",
        "\n",
        "payment receipt: unique id number for ticket purchased from Mobiticket\n",
        "\n",
        "travel_date: date of ride departure. (MM/DD/YYYY)\n",
        "\n",
        "travel time: scheduled departure time of ride. Rides generally depart on time. (hh:mm)\n",
        "\n",
        "travel from: town from which ride originated\n",
        "\n",
        "travel to: destination of ride. All rides are to Nairobi.\n",
        "\n",
        "car_type: vehicle type (shuttle or bus)\n",
        "\n",
        "\n",
        "max_capacity: number of seats on the vehicle\n"
      ],
      "metadata": {
        "id": "aJV4KIxSnxay"
      }
    },
    {
      "cell_type": "markdown",
      "source": [
        "### Check Unique Values for each variable."
      ],
      "metadata": {
        "id": "u3PMJOP6ngxN"
      }
    },
    {
      "cell_type": "code",
      "source": [
        "# Check Unique Values for each variable."
      ],
      "metadata": {
        "id": "zms12Yq5n-jE"
      },
      "execution_count": null,
      "outputs": []
    },
    {
      "cell_type": "markdown",
      "source": [
        "## 3. ***Data Wrangling***"
      ],
      "metadata": {
        "id": "dauF4eBmngu3"
      }
    },
    {
      "cell_type": "markdown",
      "source": [
        "### Data Wrangling Code"
      ],
      "metadata": {
        "id": "bKJF3rekwFvQ"
      }
    },
    {
      "cell_type": "code",
      "source": [
        "# Write your code to make your dataset analysis ready."
      ],
      "metadata": {
        "id": "wk-9a2fpoLcV"
      },
      "execution_count": null,
      "outputs": []
    },
    {
      "cell_type": "markdown",
      "source": [
        "### What all manipulations have you done and insights you found?"
      ],
      "metadata": {
        "id": "MSa1f5Uengrz"
      }
    },
    {
      "cell_type": "markdown",
      "source": [
        "Answer Here."
      ],
      "metadata": {
        "id": "LbyXE7I1olp8"
      }
    },
    {
      "cell_type": "markdown",
      "source": [
        "## ***4. Data Vizualization, Storytelling & Experimenting with charts : Understand the relationships between variables***"
      ],
      "metadata": {
        "id": "GF8Ens_Soomf"
      }
    },
    {
      "cell_type": "markdown",
      "source": [
        "#### Chart - 1"
      ],
      "metadata": {
        "id": "0wOQAZs5pc--"
      }
    },
    {
      "cell_type": "code",
      "source": [
        "# Chart - 1 visualization code"
      ],
      "metadata": {
        "id": "7v_ESjsspbW7"
      },
      "execution_count": null,
      "outputs": []
    },
    {
      "cell_type": "markdown",
      "source": [
        "##### 1. Why did you pick the specific chart?"
      ],
      "metadata": {
        "id": "K5QZ13OEpz2H"
      }
    },
    {
      "cell_type": "markdown",
      "source": [
        "Answer Here."
      ],
      "metadata": {
        "id": "XESiWehPqBRc"
      }
    },
    {
      "cell_type": "markdown",
      "source": [
        "##### 2. What is/are the insight(s) found from the chart?"
      ],
      "metadata": {
        "id": "lQ7QKXXCp7Bj"
      }
    },
    {
      "cell_type": "markdown",
      "source": [
        "Answer Here"
      ],
      "metadata": {
        "id": "C_j1G7yiqdRP"
      }
    },
    {
      "cell_type": "markdown",
      "source": [
        "##### 3. Will the gained insights help creating a positive business impact?\n",
        "Are there any insights that lead to negative growth? Justify with specific reason."
      ],
      "metadata": {
        "id": "448CDAPjqfQr"
      }
    },
    {
      "cell_type": "markdown",
      "source": [
        "Answer Here"
      ],
      "metadata": {
        "id": "3cspy4FjqxJW"
      }
    },
    {
      "cell_type": "markdown",
      "source": [
        "#### Chart - 2"
      ],
      "metadata": {
        "id": "KSlN3yHqYklG"
      }
    },
    {
      "cell_type": "code",
      "source": [
        "# Chart - 2 visualization code"
      ],
      "metadata": {
        "id": "R4YgtaqtYklH"
      },
      "execution_count": null,
      "outputs": []
    },
    {
      "cell_type": "markdown",
      "source": [
        "##### 1. Why did you pick the specific chart?"
      ],
      "metadata": {
        "id": "t6dVpIINYklI"
      }
    },
    {
      "cell_type": "markdown",
      "source": [
        "Answer Here."
      ],
      "metadata": {
        "id": "5aaW0BYyYklI"
      }
    },
    {
      "cell_type": "markdown",
      "source": [
        "##### 2. What is/are the insight(s) found from the chart?"
      ],
      "metadata": {
        "id": "ijmpgYnKYklI"
      }
    },
    {
      "cell_type": "markdown",
      "source": [
        "Answer Here"
      ],
      "metadata": {
        "id": "PSx9atu2YklI"
      }
    },
    {
      "cell_type": "markdown",
      "source": [
        "##### 3. Will the gained insights help creating a positive business impact?\n",
        "Are there any insights that lead to negative growth? Justify with specific reason."
      ],
      "metadata": {
        "id": "-JiQyfWJYklI"
      }
    },
    {
      "cell_type": "markdown",
      "source": [
        "Answer Here"
      ],
      "metadata": {
        "id": "BcBbebzrYklV"
      }
    },
    {
      "cell_type": "markdown",
      "source": [
        "#### Chart - 3"
      ],
      "metadata": {
        "id": "EM7whBJCYoAo"
      }
    },
    {
      "cell_type": "code",
      "source": [
        "# Chart - 3 visualization code"
      ],
      "metadata": {
        "id": "t6GMdE67YoAp"
      },
      "execution_count": null,
      "outputs": []
    },
    {
      "cell_type": "markdown",
      "source": [
        "##### 1. Why did you pick the specific chart?"
      ],
      "metadata": {
        "id": "fge-S5ZAYoAp"
      }
    },
    {
      "cell_type": "markdown",
      "source": [
        "Answer Here."
      ],
      "metadata": {
        "id": "5dBItgRVYoAp"
      }
    },
    {
      "cell_type": "markdown",
      "source": [
        "##### 2. What is/are the insight(s) found from the chart?"
      ],
      "metadata": {
        "id": "85gYPyotYoAp"
      }
    },
    {
      "cell_type": "markdown",
      "source": [
        "Answer Here"
      ],
      "metadata": {
        "id": "4jstXR6OYoAp"
      }
    },
    {
      "cell_type": "markdown",
      "source": [
        "##### 3. Will the gained insights help creating a positive business impact?\n",
        "Are there any insights that lead to negative growth? Justify with specific reason."
      ],
      "metadata": {
        "id": "RoGjAbkUYoAp"
      }
    },
    {
      "cell_type": "markdown",
      "source": [
        "Answer Here"
      ],
      "metadata": {
        "id": "zfJ8IqMcYoAp"
      }
    },
    {
      "cell_type": "markdown",
      "source": [
        "#### Chart - 4"
      ],
      "metadata": {
        "id": "4Of9eVA-YrdM"
      }
    },
    {
      "cell_type": "code",
      "source": [
        "# Chart - 4 visualization code"
      ],
      "metadata": {
        "id": "irlUoxc8YrdO"
      },
      "execution_count": null,
      "outputs": []
    },
    {
      "cell_type": "markdown",
      "source": [
        "##### 1. Why did you pick the specific chart?"
      ],
      "metadata": {
        "id": "iky9q4vBYrdO"
      }
    },
    {
      "cell_type": "markdown",
      "source": [
        "Answer Here."
      ],
      "metadata": {
        "id": "aJRCwT6DYrdO"
      }
    },
    {
      "cell_type": "markdown",
      "source": [
        "##### 2. What is/are the insight(s) found from the chart?"
      ],
      "metadata": {
        "id": "F6T5p64dYrdO"
      }
    },
    {
      "cell_type": "markdown",
      "source": [
        "Answer Here"
      ],
      "metadata": {
        "id": "Xx8WAJvtYrdO"
      }
    },
    {
      "cell_type": "markdown",
      "source": [
        "##### 3. Will the gained insights help creating a positive business impact?\n",
        "Are there any insights that lead to negative growth? Justify with specific reason."
      ],
      "metadata": {
        "id": "y-Ehk30pYrdP"
      }
    },
    {
      "cell_type": "markdown",
      "source": [
        "Answer Here"
      ],
      "metadata": {
        "id": "jLNxxz7MYrdP"
      }
    },
    {
      "cell_type": "markdown",
      "source": [
        "#### Chart - 5"
      ],
      "metadata": {
        "id": "bamQiAODYuh1"
      }
    },
    {
      "cell_type": "code",
      "source": [
        "# Chart - 5 visualization code"
      ],
      "metadata": {
        "id": "TIJwrbroYuh3"
      },
      "execution_count": null,
      "outputs": []
    },
    {
      "cell_type": "markdown",
      "source": [
        "##### 1. Why did you pick the specific chart?"
      ],
      "metadata": {
        "id": "QHF8YVU7Yuh3"
      }
    },
    {
      "cell_type": "markdown",
      "source": [
        "Answer Here."
      ],
      "metadata": {
        "id": "dcxuIMRPYuh3"
      }
    },
    {
      "cell_type": "markdown",
      "source": [
        "##### 2. What is/are the insight(s) found from the chart?"
      ],
      "metadata": {
        "id": "GwzvFGzlYuh3"
      }
    },
    {
      "cell_type": "markdown",
      "source": [
        "Answer Here"
      ],
      "metadata": {
        "id": "uyqkiB8YYuh3"
      }
    },
    {
      "cell_type": "markdown",
      "source": [
        "##### 3. Will the gained insights help creating a positive business impact?\n",
        "Are there any insights that lead to negative growth? Justify with specific reason."
      ],
      "metadata": {
        "id": "qYpmQ266Yuh3"
      }
    },
    {
      "cell_type": "markdown",
      "source": [
        "Answer Here"
      ],
      "metadata": {
        "id": "_WtzZ_hCYuh4"
      }
    },
    {
      "cell_type": "markdown",
      "source": [
        "#### Chart - 6"
      ],
      "metadata": {
        "id": "OH-pJp9IphqM"
      }
    },
    {
      "cell_type": "code",
      "source": [
        "# Chart - 6 visualization code"
      ],
      "metadata": {
        "id": "kuRf4wtuphqN"
      },
      "execution_count": null,
      "outputs": []
    },
    {
      "cell_type": "markdown",
      "source": [
        "##### 1. Why did you pick the specific chart?"
      ],
      "metadata": {
        "id": "bbFf2-_FphqN"
      }
    },
    {
      "cell_type": "markdown",
      "source": [
        "Answer Here."
      ],
      "metadata": {
        "id": "loh7H2nzphqN"
      }
    },
    {
      "cell_type": "markdown",
      "source": [
        "##### 2. What is/are the insight(s) found from the chart?"
      ],
      "metadata": {
        "id": "_ouA3fa0phqN"
      }
    },
    {
      "cell_type": "markdown",
      "source": [
        "Answer Here"
      ],
      "metadata": {
        "id": "VECbqPI7phqN"
      }
    },
    {
      "cell_type": "markdown",
      "source": [
        "##### 3. Will the gained insights help creating a positive business impact?\n",
        "Are there any insights that lead to negative growth? Justify with specific reason."
      ],
      "metadata": {
        "id": "Seke61FWphqN"
      }
    },
    {
      "cell_type": "markdown",
      "source": [
        "Answer Here"
      ],
      "metadata": {
        "id": "DW4_bGpfphqN"
      }
    },
    {
      "cell_type": "markdown",
      "source": [
        "#### Chart - 7"
      ],
      "metadata": {
        "id": "PIIx-8_IphqN"
      }
    },
    {
      "cell_type": "code",
      "source": [
        "# Chart - 7 visualization code"
      ],
      "metadata": {
        "id": "lqAIGUfyphqO"
      },
      "execution_count": null,
      "outputs": []
    },
    {
      "cell_type": "markdown",
      "source": [
        "##### 1. Why did you pick the specific chart?"
      ],
      "metadata": {
        "id": "t27r6nlMphqO"
      }
    },
    {
      "cell_type": "markdown",
      "source": [
        "Answer Here."
      ],
      "metadata": {
        "id": "iv6ro40sphqO"
      }
    },
    {
      "cell_type": "markdown",
      "source": [
        "##### 2. What is/are the insight(s) found from the chart?"
      ],
      "metadata": {
        "id": "r2jJGEOYphqO"
      }
    },
    {
      "cell_type": "markdown",
      "source": [
        "Answer Here"
      ],
      "metadata": {
        "id": "Po6ZPi4hphqO"
      }
    },
    {
      "cell_type": "markdown",
      "source": [
        "##### 3. Will the gained insights help creating a positive business impact?\n",
        "Are there any insights that lead to negative growth? Justify with specific reason."
      ],
      "metadata": {
        "id": "b0JNsNcRphqO"
      }
    },
    {
      "cell_type": "markdown",
      "source": [
        "Answer Here"
      ],
      "metadata": {
        "id": "xvSq8iUTphqO"
      }
    },
    {
      "cell_type": "markdown",
      "source": [
        "#### Chart - 8"
      ],
      "metadata": {
        "id": "BZR9WyysphqO"
      }
    },
    {
      "cell_type": "code",
      "source": [
        "# Chart - 8 visualization code"
      ],
      "metadata": {
        "id": "TdPTWpAVphqO"
      },
      "execution_count": null,
      "outputs": []
    },
    {
      "cell_type": "markdown",
      "source": [
        "##### 1. Why did you pick the specific chart?"
      ],
      "metadata": {
        "id": "jj7wYXLtphqO"
      }
    },
    {
      "cell_type": "markdown",
      "source": [
        "Answer Here."
      ],
      "metadata": {
        "id": "Ob8u6rCTphqO"
      }
    },
    {
      "cell_type": "markdown",
      "source": [
        "##### 2. What is/are the insight(s) found from the chart?"
      ],
      "metadata": {
        "id": "eZrbJ2SmphqO"
      }
    },
    {
      "cell_type": "markdown",
      "source": [
        "Answer Here"
      ],
      "metadata": {
        "id": "mZtgC_hjphqO"
      }
    },
    {
      "cell_type": "markdown",
      "source": [
        "##### 3. Will the gained insights help creating a positive business impact?\n",
        "Are there any insights that lead to negative growth? Justify with specific reason."
      ],
      "metadata": {
        "id": "rFu4xreNphqO"
      }
    },
    {
      "cell_type": "markdown",
      "source": [
        "Answer Here"
      ],
      "metadata": {
        "id": "ey_0qi68phqO"
      }
    },
    {
      "cell_type": "markdown",
      "source": [
        "#### Chart - 9"
      ],
      "metadata": {
        "id": "YJ55k-q6phqO"
      }
    },
    {
      "cell_type": "code",
      "source": [
        "# Chart - 9 visualization code"
      ],
      "metadata": {
        "id": "B2aS4O1ophqO"
      },
      "execution_count": null,
      "outputs": []
    },
    {
      "cell_type": "markdown",
      "source": [
        "##### 1. Why did you pick the specific chart?"
      ],
      "metadata": {
        "id": "gCFgpxoyphqP"
      }
    },
    {
      "cell_type": "markdown",
      "source": [
        "Answer Here."
      ],
      "metadata": {
        "id": "TVxDimi2phqP"
      }
    },
    {
      "cell_type": "markdown",
      "source": [
        "##### 2. What is/are the insight(s) found from the chart?"
      ],
      "metadata": {
        "id": "OVtJsKN_phqQ"
      }
    },
    {
      "cell_type": "markdown",
      "source": [
        "Answer Here"
      ],
      "metadata": {
        "id": "ngGi97qjphqQ"
      }
    },
    {
      "cell_type": "markdown",
      "source": [
        "##### 3. Will the gained insights help creating a positive business impact?\n",
        "Are there any insights that lead to negative growth? Justify with specific reason."
      ],
      "metadata": {
        "id": "lssrdh5qphqQ"
      }
    },
    {
      "cell_type": "markdown",
      "source": [
        "Answer Here"
      ],
      "metadata": {
        "id": "tBpY5ekJphqQ"
      }
    },
    {
      "cell_type": "markdown",
      "source": [
        "#### Chart - 10"
      ],
      "metadata": {
        "id": "U2RJ9gkRphqQ"
      }
    },
    {
      "cell_type": "code",
      "source": [
        "# Chart - 10 visualization code"
      ],
      "metadata": {
        "id": "GM7a4YP4phqQ"
      },
      "execution_count": null,
      "outputs": []
    },
    {
      "cell_type": "markdown",
      "source": [
        "##### 1. Why did you pick the specific chart?"
      ],
      "metadata": {
        "id": "1M8mcRywphqQ"
      }
    },
    {
      "cell_type": "markdown",
      "source": [
        "Answer Here."
      ],
      "metadata": {
        "id": "8agQvks0phqQ"
      }
    },
    {
      "cell_type": "markdown",
      "source": [
        "##### 2. What is/are the insight(s) found from the chart?"
      ],
      "metadata": {
        "id": "tgIPom80phqQ"
      }
    },
    {
      "cell_type": "markdown",
      "source": [
        "Answer Here"
      ],
      "metadata": {
        "id": "Qp13pnNzphqQ"
      }
    },
    {
      "cell_type": "markdown",
      "source": [
        "##### 3. Will the gained insights help creating a positive business impact?\n",
        "Are there any insights that lead to negative growth? Justify with specific reason."
      ],
      "metadata": {
        "id": "JMzcOPDDphqR"
      }
    },
    {
      "cell_type": "markdown",
      "source": [
        "Answer Here"
      ],
      "metadata": {
        "id": "R4Ka1PC2phqR"
      }
    },
    {
      "cell_type": "markdown",
      "source": [
        "#### Chart - 11"
      ],
      "metadata": {
        "id": "x-EpHcCOp1ci"
      }
    },
    {
      "cell_type": "code",
      "source": [
        "# Chart - 11 visualization code"
      ],
      "metadata": {
        "id": "mAQTIvtqp1cj"
      },
      "execution_count": null,
      "outputs": []
    },
    {
      "cell_type": "markdown",
      "source": [
        "##### 1. Why did you pick the specific chart?"
      ],
      "metadata": {
        "id": "X_VqEhTip1ck"
      }
    },
    {
      "cell_type": "markdown",
      "source": [
        "Answer Here."
      ],
      "metadata": {
        "id": "-vsMzt_np1ck"
      }
    },
    {
      "cell_type": "markdown",
      "source": [
        "##### 2. What is/are the insight(s) found from the chart?"
      ],
      "metadata": {
        "id": "8zGJKyg5p1ck"
      }
    },
    {
      "cell_type": "markdown",
      "source": [
        "Answer Here"
      ],
      "metadata": {
        "id": "ZYdMsrqVp1ck"
      }
    },
    {
      "cell_type": "markdown",
      "source": [
        "##### 3. Will the gained insights help creating a positive business impact?\n",
        "Are there any insights that lead to negative growth? Justify with specific reason."
      ],
      "metadata": {
        "id": "PVzmfK_Ep1ck"
      }
    },
    {
      "cell_type": "markdown",
      "source": [
        "Answer Here"
      ],
      "metadata": {
        "id": "druuKYZpp1ck"
      }
    },
    {
      "cell_type": "markdown",
      "source": [
        "#### Chart - 12"
      ],
      "metadata": {
        "id": "n3dbpmDWp1ck"
      }
    },
    {
      "cell_type": "code",
      "source": [
        "# Chart - 12 visualization code"
      ],
      "metadata": {
        "id": "bwevp1tKp1ck"
      },
      "execution_count": null,
      "outputs": []
    },
    {
      "cell_type": "markdown",
      "source": [
        "##### 1. Why did you pick the specific chart?"
      ],
      "metadata": {
        "id": "ylSl6qgtp1ck"
      }
    },
    {
      "cell_type": "markdown",
      "source": [
        "Answer Here."
      ],
      "metadata": {
        "id": "m2xqNkiQp1ck"
      }
    },
    {
      "cell_type": "markdown",
      "source": [
        "##### 2. What is/are the insight(s) found from the chart?"
      ],
      "metadata": {
        "id": "ZWILFDl5p1ck"
      }
    },
    {
      "cell_type": "markdown",
      "source": [
        "Answer Here"
      ],
      "metadata": {
        "id": "x-lUsV2mp1ck"
      }
    },
    {
      "cell_type": "markdown",
      "source": [
        "##### 3. Will the gained insights help creating a positive business impact?\n",
        "Are there any insights that lead to negative growth? Justify with specific reason."
      ],
      "metadata": {
        "id": "M7G43BXep1ck"
      }
    },
    {
      "cell_type": "markdown",
      "source": [
        "Answer Here"
      ],
      "metadata": {
        "id": "5wwDJXsLp1cl"
      }
    },
    {
      "cell_type": "markdown",
      "source": [
        "#### Chart - 13"
      ],
      "metadata": {
        "id": "Ag9LCva-p1cl"
      }
    },
    {
      "cell_type": "code",
      "source": [
        "# Chart - 13 visualization code"
      ],
      "metadata": {
        "id": "EUfxeq9-p1cl"
      },
      "execution_count": null,
      "outputs": []
    },
    {
      "cell_type": "markdown",
      "source": [
        "##### 1. Why did you pick the specific chart?"
      ],
      "metadata": {
        "id": "E6MkPsBcp1cl"
      }
    },
    {
      "cell_type": "markdown",
      "source": [
        "Answer Here."
      ],
      "metadata": {
        "id": "V22bRsFWp1cl"
      }
    },
    {
      "cell_type": "markdown",
      "source": [
        "##### 2. What is/are the insight(s) found from the chart?"
      ],
      "metadata": {
        "id": "2cELzS2fp1cl"
      }
    },
    {
      "cell_type": "markdown",
      "source": [
        "Answer Here"
      ],
      "metadata": {
        "id": "ozQPc2_Ip1cl"
      }
    },
    {
      "cell_type": "markdown",
      "source": [
        "##### 3. Will the gained insights help creating a positive business impact?\n",
        "Are there any insights that lead to negative growth? Justify with specific reason."
      ],
      "metadata": {
        "id": "3MPXvC8up1cl"
      }
    },
    {
      "cell_type": "markdown",
      "source": [
        "Answer Here"
      ],
      "metadata": {
        "id": "GL8l1tdLp1cl"
      }
    },
    {
      "cell_type": "markdown",
      "source": [
        "#### Chart - 14 - Correlation Heatmap"
      ],
      "metadata": {
        "id": "NC_X3p0fY2L0"
      }
    },
    {
      "cell_type": "code",
      "source": [
        "# Correlation Heatmap visualization code"
      ],
      "metadata": {
        "id": "xyC9zolEZNRQ"
      },
      "execution_count": null,
      "outputs": []
    },
    {
      "cell_type": "markdown",
      "source": [
        "##### 1. Why did you pick the specific chart?"
      ],
      "metadata": {
        "id": "UV0SzAkaZNRQ"
      }
    },
    {
      "cell_type": "markdown",
      "source": [
        "Answer Here."
      ],
      "metadata": {
        "id": "DVPuT8LYZNRQ"
      }
    },
    {
      "cell_type": "markdown",
      "source": [
        "##### 2. What is/are the insight(s) found from the chart?"
      ],
      "metadata": {
        "id": "YPEH6qLeZNRQ"
      }
    },
    {
      "cell_type": "markdown",
      "source": [
        "Answer Here"
      ],
      "metadata": {
        "id": "bfSqtnDqZNRR"
      }
    },
    {
      "cell_type": "markdown",
      "source": [
        "#### Chart - 15 - Pair Plot"
      ],
      "metadata": {
        "id": "q29F0dvdveiT"
      }
    },
    {
      "cell_type": "code",
      "source": [
        "# Pair Plot visualization code"
      ],
      "metadata": {
        "id": "o58-TEIhveiU"
      },
      "execution_count": null,
      "outputs": []
    },
    {
      "cell_type": "markdown",
      "source": [
        "##### 1. Why did you pick the specific chart?"
      ],
      "metadata": {
        "id": "EXh0U9oCveiU"
      }
    },
    {
      "cell_type": "markdown",
      "source": [
        "Answer Here."
      ],
      "metadata": {
        "id": "eMmPjTByveiU"
      }
    },
    {
      "cell_type": "markdown",
      "source": [
        "##### 2. What is/are the insight(s) found from the chart?"
      ],
      "metadata": {
        "id": "22aHeOlLveiV"
      }
    },
    {
      "cell_type": "markdown",
      "source": [
        "Answer Here"
      ],
      "metadata": {
        "id": "uPQ8RGwHveiV"
      }
    },
    {
      "cell_type": "markdown",
      "source": [
        "## ***5. Hypothesis Testing***"
      ],
      "metadata": {
        "id": "g-ATYxFrGrvw"
      }
    },
    {
      "cell_type": "markdown",
      "source": [
        "### Based on your chart experiments, define three hypothetical statements from the dataset. In the next three questions, perform hypothesis testing to obtain final conclusion about the statements through your code and statistical testing."
      ],
      "metadata": {
        "id": "Yfr_Vlr8HBkt"
      }
    },
    {
      "cell_type": "markdown",
      "source": [
        "Answer Here."
      ],
      "metadata": {
        "id": "-7MS06SUHkB-"
      }
    },
    {
      "cell_type": "markdown",
      "source": [
        "### Hypothetical Statement - 1"
      ],
      "metadata": {
        "id": "8yEUt7NnHlrM"
      }
    },
    {
      "cell_type": "markdown",
      "source": [
        "#### 1. State Your research hypothesis as a null hypothesis and alternate hypothesis."
      ],
      "metadata": {
        "id": "tEA2Xm5dHt1r"
      }
    },
    {
      "cell_type": "markdown",
      "source": [
        "Answer Here."
      ],
      "metadata": {
        "id": "HI9ZP0laH0D-"
      }
    },
    {
      "cell_type": "markdown",
      "source": [
        "#### 2. Perform an appropriate statistical test."
      ],
      "metadata": {
        "id": "I79__PHVH19G"
      }
    },
    {
      "cell_type": "code",
      "source": [
        "# Perform Statistical Test to obtain P-Value"
      ],
      "metadata": {
        "id": "oZrfquKtyian"
      },
      "execution_count": null,
      "outputs": []
    },
    {
      "cell_type": "markdown",
      "source": [
        "##### Which statistical test have you done to obtain P-Value?"
      ],
      "metadata": {
        "id": "Ou-I18pAyIpj"
      }
    },
    {
      "cell_type": "markdown",
      "source": [
        "Answer Here."
      ],
      "metadata": {
        "id": "s2U0kk00ygSB"
      }
    },
    {
      "cell_type": "markdown",
      "source": [
        "##### Why did you choose the specific statistical test?"
      ],
      "metadata": {
        "id": "fF3858GYyt-u"
      }
    },
    {
      "cell_type": "markdown",
      "source": [
        "Answer Here."
      ],
      "metadata": {
        "id": "HO4K0gP5y3B4"
      }
    },
    {
      "cell_type": "markdown",
      "source": [
        "### Hypothetical Statement - 2"
      ],
      "metadata": {
        "id": "4_0_7-oCpUZd"
      }
    },
    {
      "cell_type": "markdown",
      "source": [
        "#### 1. State Your research hypothesis as a null hypothesis and alternate hypothesis."
      ],
      "metadata": {
        "id": "hwyV_J3ipUZe"
      }
    },
    {
      "cell_type": "markdown",
      "source": [
        "Answer Here."
      ],
      "metadata": {
        "id": "FnpLGJ-4pUZe"
      }
    },
    {
      "cell_type": "markdown",
      "source": [
        "#### 2. Perform an appropriate statistical test."
      ],
      "metadata": {
        "id": "3yB-zSqbpUZe"
      }
    },
    {
      "cell_type": "code",
      "source": [
        "# Perform Statistical Test to obtain P-Value"
      ],
      "metadata": {
        "id": "sWxdNTXNpUZe"
      },
      "execution_count": null,
      "outputs": []
    },
    {
      "cell_type": "markdown",
      "source": [
        "##### Which statistical test have you done to obtain P-Value?"
      ],
      "metadata": {
        "id": "dEUvejAfpUZe"
      }
    },
    {
      "cell_type": "markdown",
      "source": [
        "Answer Here."
      ],
      "metadata": {
        "id": "oLDrPz7HpUZf"
      }
    },
    {
      "cell_type": "markdown",
      "source": [
        "##### Why did you choose the specific statistical test?"
      ],
      "metadata": {
        "id": "Fd15vwWVpUZf"
      }
    },
    {
      "cell_type": "markdown",
      "source": [
        "Answer Here."
      ],
      "metadata": {
        "id": "4xOGYyiBpUZf"
      }
    },
    {
      "cell_type": "markdown",
      "source": [
        "### Hypothetical Statement - 3"
      ],
      "metadata": {
        "id": "bn_IUdTipZyH"
      }
    },
    {
      "cell_type": "markdown",
      "source": [
        "#### 1. State Your research hypothesis as a null hypothesis and alternate hypothesis."
      ],
      "metadata": {
        "id": "49K5P_iCpZyH"
      }
    },
    {
      "cell_type": "markdown",
      "source": [
        "Answer Here."
      ],
      "metadata": {
        "id": "7gWI5rT9pZyH"
      }
    },
    {
      "cell_type": "markdown",
      "source": [
        "#### 2. Perform an appropriate statistical test."
      ],
      "metadata": {
        "id": "Nff-vKELpZyI"
      }
    },
    {
      "cell_type": "code",
      "source": [
        "# Perform Statistical Test to obtain P-Value"
      ],
      "metadata": {
        "id": "s6AnJQjtpZyI"
      },
      "execution_count": null,
      "outputs": []
    },
    {
      "cell_type": "markdown",
      "source": [
        "##### Which statistical test have you done to obtain P-Value?"
      ],
      "metadata": {
        "id": "kLW572S8pZyI"
      }
    },
    {
      "cell_type": "markdown",
      "source": [
        "Answer Here."
      ],
      "metadata": {
        "id": "ytWJ8v15pZyI"
      }
    },
    {
      "cell_type": "markdown",
      "source": [
        "##### Why did you choose the specific statistical test?"
      ],
      "metadata": {
        "id": "dWbDXHzopZyI"
      }
    },
    {
      "cell_type": "markdown",
      "source": [
        "Answer Here."
      ],
      "metadata": {
        "id": "M99G98V6pZyI"
      }
    },
    {
      "cell_type": "markdown",
      "source": [
        "## ***6. Feature Engineering & Data Pre-processing***"
      ],
      "metadata": {
        "id": "yLjJCtPM0KBk"
      }
    },
    {
      "cell_type": "markdown",
      "source": [
        "### 1. Handling Missing Values"
      ],
      "metadata": {
        "id": "xiyOF9F70UgQ"
      }
    },
    {
      "cell_type": "code",
      "source": [
        "# Handling Missing Values & Missing Value Imputation"
      ],
      "metadata": {
        "id": "iRsAHk1K0fpS"
      },
      "execution_count": null,
      "outputs": []
    },
    {
      "cell_type": "markdown",
      "source": [
        "#### What all missing value imputation techniques have you used and why did you use those techniques?"
      ],
      "metadata": {
        "id": "7wuGOrhz0itI"
      }
    },
    {
      "cell_type": "markdown",
      "source": [
        "Answer Here."
      ],
      "metadata": {
        "id": "1ixusLtI0pqI"
      }
    },
    {
      "cell_type": "markdown",
      "source": [
        "### 2. Handling Outliers"
      ],
      "metadata": {
        "id": "id1riN9m0vUs"
      }
    },
    {
      "cell_type": "code",
      "source": [
        "# Handling Outliers & Outlier treatments"
      ],
      "metadata": {
        "id": "M6w2CzZf04JK"
      },
      "execution_count": null,
      "outputs": []
    },
    {
      "cell_type": "markdown",
      "source": [
        "##### What all outlier treatment techniques have you used and why did you use those techniques?"
      ],
      "metadata": {
        "id": "578E2V7j08f6"
      }
    },
    {
      "cell_type": "markdown",
      "source": [
        "Answer Here."
      ],
      "metadata": {
        "id": "uGZz5OrT1HH-"
      }
    },
    {
      "cell_type": "markdown",
      "source": [
        "### 3. Categorical Encoding"
      ],
      "metadata": {
        "id": "89xtkJwZ18nB"
      }
    },
    {
      "cell_type": "code",
      "source": [
        "# Encode your categorical columns"
      ],
      "metadata": {
        "id": "21JmIYMG2hEo"
      },
      "execution_count": null,
      "outputs": []
    },
    {
      "cell_type": "markdown",
      "source": [
        "#### What all categorical encoding techniques have you used & why did you use those techniques?"
      ],
      "metadata": {
        "id": "67NQN5KX2AMe"
      }
    },
    {
      "cell_type": "markdown",
      "source": [
        "Answer Here."
      ],
      "metadata": {
        "id": "UDaue5h32n_G"
      }
    },
    {
      "cell_type": "markdown",
      "source": [
        "### 4. Textual Data Preprocessing\n",
        "(It's mandatory for textual dataset i.e., NLP, Sentiment Analysis, Text Clustering etc.)"
      ],
      "metadata": {
        "id": "Iwf50b-R2tYG"
      }
    },
    {
      "cell_type": "markdown",
      "source": [
        "#### 1. Expand Contraction"
      ],
      "metadata": {
        "id": "GMQiZwjn3iu7"
      }
    },
    {
      "cell_type": "code",
      "source": [
        "# Expand Contraction"
      ],
      "metadata": {
        "id": "PTouz10C3oNN"
      },
      "execution_count": null,
      "outputs": []
    },
    {
      "cell_type": "markdown",
      "source": [
        "#### 2. Lower Casing"
      ],
      "metadata": {
        "id": "WVIkgGqN3qsr"
      }
    },
    {
      "cell_type": "code",
      "source": [
        "# Lower Casing"
      ],
      "metadata": {
        "id": "88JnJ1jN3w7j"
      },
      "execution_count": null,
      "outputs": []
    },
    {
      "cell_type": "markdown",
      "source": [
        "#### 3. Removing Punctuations"
      ],
      "metadata": {
        "id": "XkPnILGE3zoT"
      }
    },
    {
      "cell_type": "code",
      "source": [
        "# Remove Punctuations"
      ],
      "metadata": {
        "id": "vqbBqNaA33c0"
      },
      "execution_count": null,
      "outputs": []
    },
    {
      "cell_type": "markdown",
      "source": [
        "#### 4. Removing URLs & Removing words and digits contain digits."
      ],
      "metadata": {
        "id": "Hlsf0x5436Go"
      }
    },
    {
      "cell_type": "code",
      "source": [
        "# Remove URLs & Remove words and digits contain digits"
      ],
      "metadata": {
        "id": "2sxKgKxu4Ip3"
      },
      "execution_count": null,
      "outputs": []
    },
    {
      "cell_type": "markdown",
      "source": [
        "#### 5. Removing Stopwords & Removing White spaces"
      ],
      "metadata": {
        "id": "mT9DMSJo4nBL"
      }
    },
    {
      "cell_type": "code",
      "source": [
        "# Remove Stopwords"
      ],
      "metadata": {
        "id": "T2LSJh154s8W"
      },
      "execution_count": null,
      "outputs": []
    },
    {
      "cell_type": "code",
      "source": [
        "# Remove White spaces"
      ],
      "metadata": {
        "id": "EgLJGffy4vm0"
      },
      "execution_count": null,
      "outputs": []
    },
    {
      "cell_type": "markdown",
      "source": [
        "#### 6. Rephrase Text"
      ],
      "metadata": {
        "id": "c49ITxTc407N"
      }
    },
    {
      "cell_type": "code",
      "source": [
        "# Rephrase Text"
      ],
      "metadata": {
        "id": "foqY80Qu48N2"
      },
      "execution_count": null,
      "outputs": []
    },
    {
      "cell_type": "markdown",
      "source": [
        "#### 7. Tokenization"
      ],
      "metadata": {
        "id": "OeJFEK0N496M"
      }
    },
    {
      "cell_type": "code",
      "source": [
        "# Tokenization"
      ],
      "metadata": {
        "id": "ijx1rUOS5CUU"
      },
      "execution_count": null,
      "outputs": []
    },
    {
      "cell_type": "markdown",
      "source": [
        "#### 8. Text Normalization"
      ],
      "metadata": {
        "id": "9ExmJH0g5HBk"
      }
    },
    {
      "cell_type": "code",
      "source": [
        "# Normalizing Text (i.e., Stemming, Lemmatization etc.)"
      ],
      "metadata": {
        "id": "AIJ1a-Zc5PY8"
      },
      "execution_count": null,
      "outputs": []
    },
    {
      "cell_type": "markdown",
      "source": [
        "##### Which text normalization technique have you used and why?"
      ],
      "metadata": {
        "id": "cJNqERVU536h"
      }
    },
    {
      "cell_type": "markdown",
      "source": [
        "Answer Here."
      ],
      "metadata": {
        "id": "Z9jKVxE06BC1"
      }
    },
    {
      "cell_type": "markdown",
      "source": [
        "#### 9. Part of speech tagging"
      ],
      "metadata": {
        "id": "k5UmGsbsOxih"
      }
    },
    {
      "cell_type": "code",
      "source": [
        "# POS Taging"
      ],
      "metadata": {
        "id": "btT3ZJBAO6Ik"
      },
      "execution_count": null,
      "outputs": []
    },
    {
      "cell_type": "markdown",
      "source": [
        "#### 10. Text Vectorization"
      ],
      "metadata": {
        "id": "T0VqWOYE6DLQ"
      }
    },
    {
      "cell_type": "code",
      "source": [
        "# Vectorizing Text"
      ],
      "metadata": {
        "id": "yBRtdhth6JDE"
      },
      "execution_count": null,
      "outputs": []
    },
    {
      "cell_type": "markdown",
      "source": [
        "##### Which text vectorization technique have you used and why?"
      ],
      "metadata": {
        "id": "qBMux9mC6MCf"
      }
    },
    {
      "cell_type": "markdown",
      "source": [
        "Answer Here."
      ],
      "metadata": {
        "id": "su2EnbCh6UKQ"
      }
    },
    {
      "cell_type": "markdown",
      "source": [
        "### 4. Feature Manipulation & Selection"
      ],
      "metadata": {
        "id": "-oLEiFgy-5Pf"
      }
    },
    {
      "cell_type": "markdown",
      "source": [
        "#### 1. Feature Manipulation"
      ],
      "metadata": {
        "id": "C74aWNz2AliB"
      }
    },
    {
      "cell_type": "code",
      "source": [
        "# Manipulate Features to minimize feature correlation and create new features"
      ],
      "metadata": {
        "id": "h1qC4yhBApWC"
      },
      "execution_count": null,
      "outputs": []
    },
    {
      "cell_type": "markdown",
      "source": [
        "#### 2. Feature Selection"
      ],
      "metadata": {
        "id": "2DejudWSA-a0"
      }
    },
    {
      "cell_type": "code",
      "source": [
        "# Select your features wisely to avoid overfitting"
      ],
      "metadata": {
        "id": "YLhe8UmaBCEE"
      },
      "execution_count": null,
      "outputs": []
    },
    {
      "cell_type": "markdown",
      "source": [
        "##### What all feature selection methods have you used  and why?"
      ],
      "metadata": {
        "id": "pEMng2IbBLp7"
      }
    },
    {
      "cell_type": "markdown",
      "source": [
        "Answer Here."
      ],
      "metadata": {
        "id": "rb2Lh6Z8BgGs"
      }
    },
    {
      "cell_type": "markdown",
      "source": [
        "##### Which all features you found important and why?"
      ],
      "metadata": {
        "id": "rAdphbQ9Bhjc"
      }
    },
    {
      "cell_type": "markdown",
      "source": [
        "Answer Here."
      ],
      "metadata": {
        "id": "fGgaEstsBnaf"
      }
    },
    {
      "cell_type": "markdown",
      "source": [
        "### 5. Data Transformation"
      ],
      "metadata": {
        "id": "TNVZ9zx19K6k"
      }
    },
    {
      "cell_type": "markdown",
      "source": [
        "#### Do you think that your data needs to be transformed? If yes, which transformation have you used. Explain Why?"
      ],
      "metadata": {
        "id": "nqoHp30x9hH9"
      }
    },
    {
      "cell_type": "code",
      "source": [
        "# Transform Your data"
      ],
      "metadata": {
        "id": "I6quWQ1T9rtH"
      },
      "execution_count": null,
      "outputs": []
    },
    {
      "cell_type": "markdown",
      "source": [
        "### 6. Data Scaling"
      ],
      "metadata": {
        "id": "rMDnDkt2B6du"
      }
    },
    {
      "cell_type": "code",
      "source": [
        "# Scaling your data"
      ],
      "metadata": {
        "id": "dL9LWpySC6x_"
      },
      "execution_count": null,
      "outputs": []
    },
    {
      "cell_type": "markdown",
      "source": [
        "##### Which method have you used to scale you data and why?"
      ],
      "metadata": {
        "id": "yiiVWRdJDDil"
      }
    },
    {
      "cell_type": "markdown",
      "source": [
        "### 7. Dimesionality Reduction"
      ],
      "metadata": {
        "id": "1UUpS68QDMuG"
      }
    },
    {
      "cell_type": "markdown",
      "source": [
        "##### Do you think that dimensionality reduction is needed? Explain Why?"
      ],
      "metadata": {
        "id": "kexQrXU-DjzY"
      }
    },
    {
      "cell_type": "markdown",
      "source": [
        "Answer Here."
      ],
      "metadata": {
        "id": "GGRlBsSGDtTQ"
      }
    },
    {
      "cell_type": "code",
      "source": [
        "# DImensionality Reduction (If needed)"
      ],
      "metadata": {
        "id": "kQfvxBBHDvCa"
      },
      "execution_count": null,
      "outputs": []
    },
    {
      "cell_type": "markdown",
      "source": [
        "##### Which dimensionality reduction technique have you used and why? (If dimensionality reduction done on dataset.)"
      ],
      "metadata": {
        "id": "T5CmagL3EC8N"
      }
    },
    {
      "cell_type": "markdown",
      "source": [
        "Answer Here."
      ],
      "metadata": {
        "id": "ZKr75IDuEM7t"
      }
    },
    {
      "cell_type": "markdown",
      "source": [
        "### 8. Data Splitting"
      ],
      "metadata": {
        "id": "BhH2vgX9EjGr"
      }
    },
    {
      "cell_type": "code",
      "source": [
        "# Split your data to train and test. Choose Splitting ratio wisely."
      ],
      "metadata": {
        "id": "0CTyd2UwEyNM"
      },
      "execution_count": null,
      "outputs": []
    },
    {
      "cell_type": "markdown",
      "source": [
        "##### What data splitting ratio have you used and why?"
      ],
      "metadata": {
        "id": "qjKvONjwE8ra"
      }
    },
    {
      "cell_type": "markdown",
      "source": [
        "Answer Here."
      ],
      "metadata": {
        "id": "Y2lJ8cobFDb_"
      }
    },
    {
      "cell_type": "markdown",
      "source": [
        "### 9. Handling Imbalanced Dataset"
      ],
      "metadata": {
        "id": "P1XJ9OREExlT"
      }
    },
    {
      "cell_type": "markdown",
      "source": [
        "##### Do you think the dataset is imbalanced? Explain Why."
      ],
      "metadata": {
        "id": "VFOzZv6IFROw"
      }
    },
    {
      "cell_type": "markdown",
      "source": [
        "Answer Here."
      ],
      "metadata": {
        "id": "GeKDIv7pFgcC"
      }
    },
    {
      "cell_type": "code",
      "source": [
        "# Handling Imbalanced Dataset (If needed)"
      ],
      "metadata": {
        "id": "nQsRhhZLFiDs"
      },
      "execution_count": null,
      "outputs": []
    },
    {
      "cell_type": "markdown",
      "source": [
        "##### What technique did you use to handle the imbalance dataset and why? (If needed to be balanced)"
      ],
      "metadata": {
        "id": "TIqpNgepFxVj"
      }
    },
    {
      "cell_type": "markdown",
      "source": [
        "Answer Here."
      ],
      "metadata": {
        "id": "qbet1HwdGDTz"
      }
    },
    {
      "cell_type": "markdown",
      "source": [
        "## ***7. ML Model Implementation***"
      ],
      "metadata": {
        "id": "VfCC591jGiD4"
      }
    },
    {
      "cell_type": "markdown",
      "source": [
        "### ML Model - 1"
      ],
      "metadata": {
        "id": "OB4l2ZhMeS1U"
      }
    },
    {
      "cell_type": "code",
      "source": [
        "# ML Model - 1 Implementation\n",
        "\n",
        "# Fit the Algorithm\n",
        "\n",
        "# Predict on the model"
      ],
      "metadata": {
        "id": "7ebyywQieS1U"
      },
      "execution_count": null,
      "outputs": []
    },
    {
      "cell_type": "markdown",
      "source": [
        "#### 1. Explain the ML Model used and it's performance using Evaluation metric Score Chart."
      ],
      "metadata": {
        "id": "ArJBuiUVfxKd"
      }
    },
    {
      "cell_type": "code",
      "source": [
        "# Visualizing evaluation Metric Score chart"
      ],
      "metadata": {
        "id": "rqD5ZohzfxKe"
      },
      "execution_count": null,
      "outputs": []
    },
    {
      "cell_type": "markdown",
      "source": [
        "#### 2. Cross- Validation & Hyperparameter Tuning"
      ],
      "metadata": {
        "id": "4qY1EAkEfxKe"
      }
    },
    {
      "cell_type": "code",
      "source": [
        "# ML Model - 1 Implementation with hyperparameter optimization techniques (i.e., GridSearch CV, RandomSearch CV, Bayesian Optimization etc.)\n",
        "\n",
        "# Fit the Algorithm\n",
        "\n",
        "# Predict on the model"
      ],
      "metadata": {
        "id": "Dy61ujd6fxKe"
      },
      "execution_count": null,
      "outputs": []
    },
    {
      "cell_type": "markdown",
      "source": [
        "##### Which hyperparameter optimization technique have you used and why?"
      ],
      "metadata": {
        "id": "PiV4Ypx8fxKe"
      }
    },
    {
      "cell_type": "markdown",
      "source": [
        "Answer Here."
      ],
      "metadata": {
        "id": "negyGRa7fxKf"
      }
    },
    {
      "cell_type": "markdown",
      "source": [
        "##### Have you seen any improvement? Note down the improvement with updates Evaluation metric Score Chart."
      ],
      "metadata": {
        "id": "TfvqoZmBfxKf"
      }
    },
    {
      "cell_type": "markdown",
      "source": [
        "Answer Here."
      ],
      "metadata": {
        "id": "OaLui8CcfxKf"
      }
    },
    {
      "cell_type": "markdown",
      "source": [
        "### ML Model - 2"
      ],
      "metadata": {
        "id": "dJ2tPlVmpsJ0"
      }
    },
    {
      "cell_type": "markdown",
      "source": [
        "#### 1. Explain the ML Model used and it's performance using Evaluation metric Score Chart."
      ],
      "metadata": {
        "id": "JWYfwnehpsJ1"
      }
    },
    {
      "cell_type": "code",
      "source": [
        "# Visualizing evaluation Metric Score chart"
      ],
      "metadata": {
        "id": "yEl-hgQWpsJ1"
      },
      "execution_count": null,
      "outputs": []
    },
    {
      "cell_type": "markdown",
      "source": [
        "#### 2. Cross- Validation & Hyperparameter Tuning"
      ],
      "metadata": {
        "id": "-jK_YjpMpsJ2"
      }
    },
    {
      "cell_type": "code",
      "source": [
        "# ML Model - 1 Implementation with hyperparameter optimization techniques (i.e., GridSearch CV, RandomSearch CV, Bayesian Optimization etc.)\n",
        "\n",
        "# Fit the Algorithm\n",
        "\n",
        "# Predict on the model"
      ],
      "metadata": {
        "id": "Dn0EOfS6psJ2"
      },
      "execution_count": null,
      "outputs": []
    },
    {
      "cell_type": "markdown",
      "source": [
        "##### Which hyperparameter optimization technique have you used and why?"
      ],
      "metadata": {
        "id": "HAih1iBOpsJ2"
      }
    },
    {
      "cell_type": "markdown",
      "source": [
        "Answer Here."
      ],
      "metadata": {
        "id": "9kBgjYcdpsJ2"
      }
    },
    {
      "cell_type": "markdown",
      "source": [
        "##### Have you seen any improvement? Note down the improvement with updates Evaluation metric Score Chart."
      ],
      "metadata": {
        "id": "zVGeBEFhpsJ2"
      }
    },
    {
      "cell_type": "markdown",
      "source": [
        "Answer Here."
      ],
      "metadata": {
        "id": "74yRdG6UpsJ3"
      }
    },
    {
      "cell_type": "markdown",
      "source": [
        "#### 3. Explain each evaluation metric's indication towards business and the business impact pf the ML model used."
      ],
      "metadata": {
        "id": "bmKjuQ-FpsJ3"
      }
    },
    {
      "cell_type": "markdown",
      "source": [
        "Answer Here."
      ],
      "metadata": {
        "id": "BDKtOrBQpsJ3"
      }
    },
    {
      "cell_type": "markdown",
      "source": [
        "### ML Model - 3"
      ],
      "metadata": {
        "id": "Fze-IPXLpx6K"
      }
    },
    {
      "cell_type": "code",
      "source": [
        "# ML Model - 3 Implementation\n",
        "\n",
        "# Fit the Algorithm\n",
        "\n",
        "# Predict on the model"
      ],
      "metadata": {
        "id": "FFrSXAtrpx6M"
      },
      "execution_count": null,
      "outputs": []
    },
    {
      "cell_type": "markdown",
      "source": [
        "#### 1. Explain the ML Model used and it's performance using Evaluation metric Score Chart."
      ],
      "metadata": {
        "id": "7AN1z2sKpx6M"
      }
    },
    {
      "cell_type": "code",
      "source": [
        "# Visualizing evaluation Metric Score chart"
      ],
      "metadata": {
        "id": "xIY4lxxGpx6M"
      },
      "execution_count": null,
      "outputs": []
    },
    {
      "cell_type": "markdown",
      "source": [
        "#### 2. Cross- Validation & Hyperparameter Tuning"
      ],
      "metadata": {
        "id": "9PIHJqyupx6M"
      }
    },
    {
      "cell_type": "code",
      "source": [
        "# ML Model - 3 Implementation with hyperparameter optimization techniques (i.e., GridSearch CV, RandomSearch CV, Bayesian Optimization etc.)\n",
        "\n",
        "# Fit the Algorithm\n",
        "\n",
        "# Predict on the model"
      ],
      "metadata": {
        "id": "eSVXuaSKpx6M"
      },
      "execution_count": null,
      "outputs": []
    },
    {
      "cell_type": "markdown",
      "source": [
        "##### Which hyperparameter optimization technique have you used and why?"
      ],
      "metadata": {
        "id": "_-qAgymDpx6N"
      }
    },
    {
      "cell_type": "markdown",
      "source": [
        "Answer Here."
      ],
      "metadata": {
        "id": "lQMffxkwpx6N"
      }
    },
    {
      "cell_type": "markdown",
      "source": [
        "##### Have you seen any improvement? Note down the improvement with updates Evaluation metric Score Chart."
      ],
      "metadata": {
        "id": "Z-hykwinpx6N"
      }
    },
    {
      "cell_type": "markdown",
      "source": [
        "Answer Here."
      ],
      "metadata": {
        "id": "MzVzZC6opx6N"
      }
    },
    {
      "cell_type": "markdown",
      "source": [
        "### 1. Which Evaluation metrics did you consider for a positive business impact and why?"
      ],
      "metadata": {
        "id": "h_CCil-SKHpo"
      }
    },
    {
      "cell_type": "markdown",
      "source": [
        "Answer Here."
      ],
      "metadata": {
        "id": "jHVz9hHDKFms"
      }
    },
    {
      "cell_type": "markdown",
      "source": [
        "### 2. Which ML model did you choose from the above created models as your final prediction model and why?"
      ],
      "metadata": {
        "id": "cBFFvTBNJzUa"
      }
    },
    {
      "cell_type": "markdown",
      "source": [
        "Answer Here."
      ],
      "metadata": {
        "id": "6ksF5Q1LKTVm"
      }
    },
    {
      "cell_type": "markdown",
      "source": [
        "### 3. Explain the model which you have used and the feature importance using any model explainability tool?"
      ],
      "metadata": {
        "id": "HvGl1hHyA_VK"
      }
    },
    {
      "cell_type": "markdown",
      "source": [
        "Answer Here."
      ],
      "metadata": {
        "id": "YnvVTiIxBL-C"
      }
    },
    {
      "cell_type": "markdown",
      "source": [
        "## ***8.*** ***Future Work (Optional)***"
      ],
      "metadata": {
        "id": "EyNgTHvd2WFk"
      }
    },
    {
      "cell_type": "markdown",
      "source": [
        "### 1. Save the best performing ml model in a pickle file or joblib file format for deployment process.\n"
      ],
      "metadata": {
        "id": "KH5McJBi2d8v"
      }
    },
    {
      "cell_type": "code",
      "source": [
        "# Save the File"
      ],
      "metadata": {
        "id": "bQIANRl32f4J"
      },
      "execution_count": null,
      "outputs": []
    },
    {
      "cell_type": "markdown",
      "source": [
        "### 2. Again Load the saved model file and try to predict unseen data for a sanity check.\n"
      ],
      "metadata": {
        "id": "iW_Lq9qf2h6X"
      }
    },
    {
      "cell_type": "code",
      "source": [
        "# Load the File and predict unseen data."
      ],
      "metadata": {
        "id": "oEXk9ydD2nVC"
      },
      "execution_count": null,
      "outputs": []
    },
    {
      "cell_type": "markdown",
      "source": [
        "### ***Congrats! Your model is successfully created and ready for deployment on a live server for a real user interaction !!!***"
      ],
      "metadata": {
        "id": "-Kee-DAl2viO"
      }
    },
    {
      "cell_type": "markdown",
      "source": [
        "# **Conclusion**"
      ],
      "metadata": {
        "id": "gCX9965dhzqZ"
      }
    },
    {
      "cell_type": "markdown",
      "source": [
        "Write the conclusion here."
      ],
      "metadata": {
        "id": "Fjb1IsQkh3yE"
      }
    },
    {
      "cell_type": "markdown",
      "source": [
        "### ***Hurrah! You have successfully completed your Machine Learning Capstone Project !!!***"
      ],
      "metadata": {
        "id": "gIfDvo9L0UH2"
      }
    }
  ]
}